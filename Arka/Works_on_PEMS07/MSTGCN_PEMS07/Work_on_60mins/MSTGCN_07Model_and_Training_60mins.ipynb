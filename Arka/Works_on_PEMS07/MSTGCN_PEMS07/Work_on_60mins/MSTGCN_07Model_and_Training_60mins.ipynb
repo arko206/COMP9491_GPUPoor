{
  "cells": [
    {
      "cell_type": "code",
      "execution_count": null,
      "id": "0c1b82d8-020f-41f8-a2b3-0aaece979d63",
      "metadata": {
        "id": "0c1b82d8-020f-41f8-a2b3-0aaece979d63"
      },
      "outputs": [],
      "source": [
        "import os\n",
        "import numpy as np\n",
        "import torch\n",
        "import torch.utils.data\n",
        "from sklearn.metrics import mean_absolute_error\n",
        "from sklearn.metrics import mean_squared_error\n",
        "from scipy.sparse.linalg import eigs"
      ]
    },
    {
      "cell_type": "markdown",
      "id": "82d8481f-a13a-4dd9-9a5a-06ca71fa246d",
      "metadata": {
        "id": "82d8481f-a13a-4dd9-9a5a-06ca71fa246d"
      },
      "source": [
        "###### Function for Computing Scaled Laplacian"
      ]
    },
    {
      "cell_type": "code",
      "execution_count": null,
      "id": "0f71d24b-f868-44a1-b402-e36aeb6cbdef",
      "metadata": {
        "id": "0f71d24b-f868-44a1-b402-e36aeb6cbdef"
      },
      "outputs": [],
      "source": [
        "def scaled_Laplacian(W):\n",
        "    '''\n",
        "    compute \\tilde{L}\n",
        "\n",
        "    Parameters\n",
        "    ----------\n",
        "    W: np.ndarray, shape is (N, N), N is the num of vertices\n",
        "\n",
        "    Returns\n",
        "    ----------\n",
        "    scaled_Laplacian: np.ndarray, shape (N, N)\n",
        "\n",
        "    '''\n",
        "    ###Checking if the number of rows and columns of an adjacenecy matrix\n",
        "    ####are same or not\n",
        "    assert W.shape[0] == W.shape[1]\n",
        "\n",
        "    ### First sum each row of the adjacency matrix, and we obtain the degress of each vertex in that row\n",
        "    ### Secondly, a diagonal matrix has been created with degree of each vertex in the diagonal\n",
        "    #### Finally, 'D' is the sparse matrix containing only degrees of each vertex\n",
        "    D = np.diag(np.sum(W, axis=1))\n",
        "\n",
        "    #### 'l' is the unormalized Laplacian Matrix obtained by subtraction\n",
        "    ### of Adjacenecy Matrix from the Diagonal Matrix\n",
        "    L = D - W\n",
        "\n",
        "    #### First of all from the Laplacian Matrix, with the help of 'eigs' function largest value for eigen value and eigne vector\n",
        "    ##### has been evaluated\n",
        "    #### Secondly, eigen value has been only kept\n",
        "    #### Thirdly, eigen value beign a complex number, only real part is kept and saved as lamda_max\n",
        "    lambda_max = eigs(L, k=1, which='LR')[0].real\n",
        "\n",
        "    #### Finally Scaled Laplacian Matrix value is Obtained\n",
        "    return (2 * L) / lambda_max - np.identity(W.shape[0])\n"
      ]
    },
    {
      "cell_type": "markdown",
      "id": "264a0b1a-5706-4e3e-8e28-191a795bded2",
      "metadata": {
        "id": "264a0b1a-5706-4e3e-8e28-191a795bded2"
      },
      "source": [
        "##### Function for Computing Chebyshev Polynomials"
      ]
    },
    {
      "cell_type": "code",
      "execution_count": null,
      "id": "e905db82-5f4e-4983-aaa7-ace27f766491",
      "metadata": {
        "id": "e905db82-5f4e-4983-aaa7-ace27f766491"
      },
      "outputs": [],
      "source": [
        "def cheb_polynomial(L_tilde, K):\n",
        "    '''\n",
        "    compute a list of chebyshev polynomials from T_0 to T_{K-1}\n",
        "\n",
        "    Parameters\n",
        "    ----------\n",
        "    L_tilde: scaled Laplacian, np.ndarray, shape (N, N)\n",
        "\n",
        "    K: the maximum order of chebyshev polynomials\n",
        "\n",
        "    Returns\n",
        "    ----------\n",
        "    cheb_polynomials: list(np.ndarray), length: K, from T_0 to T_{K-1}\n",
        "\n",
        "    '''\n",
        "    ### The value of N is set to number of rows of a Laplacian Matric\n",
        "    N = L_tilde.shape[0]\n",
        "\n",
        "    ### cheb_polynimials conatins the zeroth order Chebyshev Polynomial T(0) = np.identity(N)\n",
        "    ### and the first order Chebyshev Polynomial T(1) = L_tilde.copy()\n",
        "    cheb_polynomials = [np.identity(N), L_tilde.copy()]\n",
        "\n",
        "    ### The loop computes the next higher order of Chebyshev Polynomials form order 2 to order k\n",
        "    ### The next order recurrence Chebysehev Polynomial is given by Tk(x) =2xTk-1(x)-Tk-2(x)\n",
        "    ## Since the loop starts from order 2, I am experimenting with values K = 3, 4, 5\n",
        "    for i in range(2, K):\n",
        "        cheb_polynomials.append(2 * L_tilde * cheb_polynomials[i - 1] - cheb_polynomials[i - 2])\n",
        "\n",
        "    return cheb_polynomials"
      ]
    },
    {
      "cell_type": "code",
      "execution_count": null,
      "id": "5d25aa0e-600f-41cf-b213-459c09cf3cc3",
      "metadata": {
        "id": "5d25aa0e-600f-41cf-b213-459c09cf3cc3"
      },
      "outputs": [],
      "source": [
        "import torch\n",
        "import torch.nn as nn\n",
        "import torch.nn.functional as F"
      ]
    },
    {
      "cell_type": "markdown",
      "id": "73bc235e-3f49-4860-8d06-2c5470462e2a",
      "metadata": {
        "id": "73bc235e-3f49-4860-8d06-2c5470462e2a"
      },
      "source": [
        "###### Chebyshev's Convolution Layer"
      ]
    },
    {
      "cell_type": "code",
      "execution_count": null,
      "id": "5fa77ab7-01eb-40c0-801d-26f42aae9c5a",
      "metadata": {
        "id": "5fa77ab7-01eb-40c0-801d-26f42aae9c5a"
      },
      "outputs": [],
      "source": [
        "class cheb_conv(nn.Module):\n",
        "    '''\n",
        "    K-order chebyshev graph convolution\n",
        "    '''\n",
        "\n",
        "    def __init__(self, K, cheb_polynomials, in_channels, out_channels):\n",
        "        '''\n",
        "        :param K: int\n",
        "        :param in_channles: int, num of channels in the input sequence\n",
        "        :param out_channels: int, num of channels in the output sequence\n",
        "        '''\n",
        "        super(cheb_conv, self).__init__()\n",
        "        self.K = K\n",
        "        self.cheb_polynomials = cheb_polynomials\n",
        "        self.in_channels = in_channels\n",
        "        self.out_channels = out_channels\n",
        "        self.DEVICE = cheb_polynomials[0].device\n",
        "        self.Theta = nn.ParameterList([nn.Parameter(torch.FloatTensor(in_channels, out_channels).to(self.DEVICE)) for _ in range(K)])\n",
        "\n",
        "    def forward(self, x):\n",
        "        '''\n",
        "        Chebyshev graph convolution operation\n",
        "        :param x: (batch_size, N, F_in, T)\n",
        "        :return: (batch_size, N, F_out, T)\n",
        "        '''\n",
        "\n",
        "        batch_size, num_of_vertices, in_channels, num_of_timesteps = x.shape\n",
        "\n",
        "        outputs = []\n",
        "\n",
        "        for time_step in range(num_of_timesteps):\n",
        "\n",
        "            graph_signal = x[:, :, :, time_step]  # (b, N, F_in)\n",
        "\n",
        "            output = torch.zeros(batch_size, num_of_vertices, self.out_channels).to(self.DEVICE)  # (b, N, F_out)\n",
        "\n",
        "            for k in range(self.K):\n",
        "\n",
        "                T_k = self.cheb_polynomials[k]  # (N,N)\n",
        "\n",
        "                theta_k = self.Theta[k]  # (in_channel, out_channel)\n",
        "\n",
        "                rhs = graph_signal.permute(0, 2, 1).matmul(T_k).permute(0, 2, 1)\n",
        "\n",
        "                output = output + rhs.matmul(theta_k)\n",
        "\n",
        "            outputs.append(output.unsqueeze(-1))\n",
        "\n",
        "        return F.relu(torch.cat(outputs, dim=-1))\n"
      ]
    },
    {
      "cell_type": "markdown",
      "id": "b0f0c14f-2f44-46b5-bc40-740f056e802a",
      "metadata": {
        "id": "b0f0c14f-2f44-46b5-bc40-740f056e802a"
      },
      "source": [
        "###### Describing a Singular MSTGCN Block"
      ]
    },
    {
      "cell_type": "code",
      "execution_count": null,
      "id": "dbd10da9-ceef-48f6-8d72-ce3baaf47884",
      "metadata": {
        "id": "dbd10da9-ceef-48f6-8d72-ce3baaf47884"
      },
      "outputs": [],
      "source": [
        "class MSTGCN_block(nn.Module):\n",
        "\n",
        "    def __init__(self, in_channels, K, nb_chev_filter, nb_time_filter, time_strides, cheb_polynomials):\n",
        "        super(MSTGCN_block, self).__init__()\n",
        "        self.cheb_conv = cheb_conv(K, cheb_polynomials, in_channels, nb_chev_filter)\n",
        "        self.time_conv = nn.Conv2d(nb_chev_filter, nb_time_filter, kernel_size=(1, 3), stride=(1, time_strides), padding=(0, 1))\n",
        "        self.residual_conv = nn.Conv2d(in_channels, nb_time_filter, kernel_size=(1, 1), stride=(1, time_strides))\n",
        "        self.ln = nn.LayerNorm(nb_time_filter)\n",
        "\n",
        "    def forward(self, x):\n",
        "        '''\n",
        "        :param x: (batch_size, N, F_in, T)\n",
        "        :return: (batch_size, N, nb_time_filter, T)\n",
        "        '''\n",
        "        # cheb gcn\n",
        "        spatial_gcn = self.cheb_conv(x)  # (b,N,F,T)\n",
        "\n",
        "        # convolution along the time axis\n",
        "        time_conv_output = self.time_conv(spatial_gcn.permute(0, 2, 1, 3))  # (b,F,N,T)\n",
        "\n",
        "        # residual shortcut\n",
        "        x_residual = self.residual_conv(x.permute(0, 2, 1, 3))  # (b,F,N,T)\n",
        "\n",
        "        x_residual = self.ln(F.relu(x_residual + time_conv_output).permute(0, 3, 2, 1)).permute(0, 2, 3, 1)  # (b,N,F,T)\n",
        "\n",
        "        return x_residual"
      ]
    },
    {
      "cell_type": "markdown",
      "id": "a3d84126-2e27-4a4b-9af2-562dd74f2477",
      "metadata": {
        "id": "a3d84126-2e27-4a4b-9af2-562dd74f2477"
      },
      "source": [
        "###### Describing a series of MSTGCN Blocks inside the submodule Class"
      ]
    },
    {
      "cell_type": "code",
      "execution_count": null,
      "id": "7ccf36b7-148b-4fbf-93e0-62694fe8d607",
      "metadata": {
        "id": "7ccf36b7-148b-4fbf-93e0-62694fe8d607"
      },
      "outputs": [],
      "source": [
        "class MSTGCN_submodule(nn.Module):\n",
        "\n",
        "    def __init__(self, DEVICE, nb_block, in_channels, K, nb_chev_filter, nb_time_filter, time_strides, cheb_polynomials, num_for_predict, len_input):\n",
        "        '''\n",
        "        :param nb_block:\n",
        "        :param in_channels:\n",
        "        :param K:\n",
        "        :param nb_chev_filter:\n",
        "        :param nb_time_filter:\n",
        "        :param time_strides:\n",
        "        :param cheb_polynomials:\n",
        "        :param nb_predict_step:\n",
        "        '''\n",
        "\n",
        "        super(MSTGCN_submodule, self).__init__()\n",
        "\n",
        "        self.BlockList = nn.ModuleList([MSTGCN_block(in_channels, K, nb_chev_filter, nb_time_filter, time_strides, cheb_polynomials)])\n",
        "\n",
        "        self.BlockList.extend([MSTGCN_block(nb_time_filter, K, nb_chev_filter, nb_time_filter, 1, cheb_polynomials) for _ in range(nb_block-1)])\n",
        "\n",
        "        self.final_conv = nn.Conv2d(int(len_input/time_strides), num_for_predict, kernel_size=(1, nb_time_filter))\n",
        "\n",
        "        self.DEVICE = DEVICE\n",
        "\n",
        "        self.to(DEVICE)\n",
        "\n",
        "    def forward(self, x):\n",
        "        '''\n",
        "        :param x: (B, N_nodes, F_in, T_in)\n",
        "        :return: (B, N_nodes, T_out)\n",
        "        '''\n",
        "        for block in self.BlockList:\n",
        "            x = block(x)\n",
        "\n",
        "        output = self.final_conv(x.permute(0, 3, 1, 2))[:, :, :, -1].permute(0, 2, 1)\n",
        "\n",
        "        return output\n"
      ]
    },
    {
      "cell_type": "markdown",
      "id": "7def723a-84fd-47a9-ad4b-1ede9c649721",
      "metadata": {
        "id": "7def723a-84fd-47a9-ad4b-1ede9c649721"
      },
      "source": [
        "###### Making Model Function"
      ]
    },
    {
      "cell_type": "code",
      "execution_count": null,
      "id": "86d8d435-80ff-40ea-bf18-52222d9ef715",
      "metadata": {
        "id": "86d8d435-80ff-40ea-bf18-52222d9ef715"
      },
      "outputs": [],
      "source": [
        "def make_model(DEVICE, nb_block, in_channels, K, nb_chev_filter, nb_time_filter, time_strides, adj_mx, num_for_predict, len_input):\n",
        "    '''\n",
        "\n",
        "    :param DEVICE:\n",
        "    :param nb_block:\n",
        "    :param in_channels:\n",
        "    :param K:\n",
        "    :param nb_chev_filter:\n",
        "    :param nb_time_filter:\n",
        "    :param time_strides:\n",
        "    :param cheb_polynomials:\n",
        "    :param nb_predict_step:\n",
        "    :param len_input\n",
        "    :return:\n",
        "    '''\n",
        "    L_tilde = scaled_Laplacian(adj_mx)\n",
        "    cheb_polynomials = [torch.from_numpy(i).type(torch.FloatTensor).to(DEVICE) for i in cheb_polynomial(L_tilde, K)]\n",
        "    model = MSTGCN_submodule(DEVICE, nb_block, in_channels, K, nb_chev_filter, nb_time_filter, time_strides, cheb_polynomials, num_for_predict, len_input)\n",
        "\n",
        "    for p in model.parameters():\n",
        "        if p.dim() > 1:\n",
        "            nn.init.xavier_uniform_(p)\n",
        "    return model"
      ]
    },
    {
      "cell_type": "code",
      "execution_count": null,
      "id": "7bbe8e8c-6b19-4f81-9e72-7f5f9e601e05",
      "metadata": {
        "id": "7bbe8e8c-6b19-4f81-9e72-7f5f9e601e05"
      },
      "outputs": [],
      "source": [
        "import torch\n",
        "\n",
        "if torch.cuda.is_available():\n",
        "    DEVICE = torch.device(\"cuda\")\n",
        "else:\n",
        "    DEVICE = torch.device(\"cpu\")"
      ]
    },
    {
      "cell_type": "code",
      "source": [
        "!pip install torch-geometric"
      ],
      "metadata": {
        "colab": {
          "base_uri": "https://localhost:8080/"
        },
        "id": "gf2WSjMlRqSn",
        "outputId": "a28be427-e47f-42a0-8b6b-7949411ffd2b"
      },
      "id": "gf2WSjMlRqSn",
      "execution_count": null,
      "outputs": [
        {
          "output_type": "stream",
          "name": "stdout",
          "text": [
            "Collecting torch-geometric\n",
            "  Downloading torch_geometric-2.5.3-py3-none-any.whl.metadata (64 kB)\n",
            "\u001b[2K     \u001b[90m━━━━━━━━━━━━━━━━━━━━━━━━━━━━━━━━━━━━━━━━\u001b[0m \u001b[32m64.2/64.2 kB\u001b[0m \u001b[31m679.4 kB/s\u001b[0m eta \u001b[36m0:00:00\u001b[0m\n",
            "\u001b[?25hRequirement already satisfied: tqdm in /usr/local/lib/python3.10/dist-packages (from torch-geometric) (4.66.4)\n",
            "Requirement already satisfied: numpy in /usr/local/lib/python3.10/dist-packages (from torch-geometric) (1.25.2)\n",
            "Requirement already satisfied: scipy in /usr/local/lib/python3.10/dist-packages (from torch-geometric) (1.13.1)\n",
            "Requirement already satisfied: fsspec in /usr/local/lib/python3.10/dist-packages (from torch-geometric) (2024.6.1)\n",
            "Requirement already satisfied: jinja2 in /usr/local/lib/python3.10/dist-packages (from torch-geometric) (3.1.4)\n",
            "Requirement already satisfied: aiohttp in /usr/local/lib/python3.10/dist-packages (from torch-geometric) (3.9.5)\n",
            "Requirement already satisfied: requests in /usr/local/lib/python3.10/dist-packages (from torch-geometric) (2.31.0)\n",
            "Requirement already satisfied: pyparsing in /usr/local/lib/python3.10/dist-packages (from torch-geometric) (3.1.2)\n",
            "Requirement already satisfied: scikit-learn in /usr/local/lib/python3.10/dist-packages (from torch-geometric) (1.3.2)\n",
            "Requirement already satisfied: psutil>=5.8.0 in /usr/local/lib/python3.10/dist-packages (from torch-geometric) (5.9.5)\n",
            "Requirement already satisfied: aiosignal>=1.1.2 in /usr/local/lib/python3.10/dist-packages (from aiohttp->torch-geometric) (1.3.1)\n",
            "Requirement already satisfied: attrs>=17.3.0 in /usr/local/lib/python3.10/dist-packages (from aiohttp->torch-geometric) (23.2.0)\n",
            "Requirement already satisfied: frozenlist>=1.1.1 in /usr/local/lib/python3.10/dist-packages (from aiohttp->torch-geometric) (1.4.1)\n",
            "Requirement already satisfied: multidict<7.0,>=4.5 in /usr/local/lib/python3.10/dist-packages (from aiohttp->torch-geometric) (6.0.5)\n",
            "Requirement already satisfied: yarl<2.0,>=1.0 in /usr/local/lib/python3.10/dist-packages (from aiohttp->torch-geometric) (1.9.4)\n",
            "Requirement already satisfied: async-timeout<5.0,>=4.0 in /usr/local/lib/python3.10/dist-packages (from aiohttp->torch-geometric) (4.0.3)\n",
            "Requirement already satisfied: MarkupSafe>=2.0 in /usr/local/lib/python3.10/dist-packages (from jinja2->torch-geometric) (2.1.5)\n",
            "Requirement already satisfied: charset-normalizer<4,>=2 in /usr/local/lib/python3.10/dist-packages (from requests->torch-geometric) (3.3.2)\n",
            "Requirement already satisfied: idna<4,>=2.5 in /usr/local/lib/python3.10/dist-packages (from requests->torch-geometric) (3.7)\n",
            "Requirement already satisfied: urllib3<3,>=1.21.1 in /usr/local/lib/python3.10/dist-packages (from requests->torch-geometric) (2.0.7)\n",
            "Requirement already satisfied: certifi>=2017.4.17 in /usr/local/lib/python3.10/dist-packages (from requests->torch-geometric) (2024.7.4)\n",
            "Requirement already satisfied: joblib>=1.1.1 in /usr/local/lib/python3.10/dist-packages (from scikit-learn->torch-geometric) (1.4.2)\n",
            "Requirement already satisfied: threadpoolctl>=2.0.0 in /usr/local/lib/python3.10/dist-packages (from scikit-learn->torch-geometric) (3.5.0)\n",
            "Downloading torch_geometric-2.5.3-py3-none-any.whl (1.1 MB)\n",
            "\u001b[2K   \u001b[90m━━━━━━━━━━━━━━━━━━━━━━━━━━━━━━━━━━━━━━━━\u001b[0m \u001b[32m1.1/1.1 MB\u001b[0m \u001b[31m6.6 MB/s\u001b[0m eta \u001b[36m0:00:00\u001b[0m\n",
            "\u001b[?25hInstalling collected packages: torch-geometric\n",
            "Successfully installed torch-geometric-2.5.3\n"
          ]
        }
      ]
    },
    {
      "cell_type": "code",
      "source": [
        "!pip install tensorboardX"
      ],
      "metadata": {
        "colab": {
          "base_uri": "https://localhost:8080/"
        },
        "id": "0OmEiQWPRxK8",
        "outputId": "139105f7-c870-4c3e-9671-b6dc6f170801"
      },
      "id": "0OmEiQWPRxK8",
      "execution_count": null,
      "outputs": [
        {
          "output_type": "stream",
          "name": "stdout",
          "text": [
            "Collecting tensorboardX\n",
            "  Downloading tensorboardX-2.6.2.2-py2.py3-none-any.whl.metadata (5.8 kB)\n",
            "Requirement already satisfied: numpy in /usr/local/lib/python3.10/dist-packages (from tensorboardX) (1.25.2)\n",
            "Requirement already satisfied: packaging in /usr/local/lib/python3.10/dist-packages (from tensorboardX) (24.1)\n",
            "Requirement already satisfied: protobuf>=3.20 in /usr/local/lib/python3.10/dist-packages (from tensorboardX) (3.20.3)\n",
            "Downloading tensorboardX-2.6.2.2-py2.py3-none-any.whl (101 kB)\n",
            "\u001b[?25l   \u001b[90m━━━━━━━━━━━━━━━━━━━━━━━━━━━━━━━━━━━━━━━━\u001b[0m \u001b[32m0.0/101.7 kB\u001b[0m \u001b[31m?\u001b[0m eta \u001b[36m-:--:--\u001b[0m\r\u001b[2K   \u001b[91m━━━━━━━━━━━━\u001b[0m\u001b[90m╺\u001b[0m\u001b[90m━━━━━━━━━━━━━━━━━━━━━━━━━━━\u001b[0m \u001b[32m30.7/101.7 kB\u001b[0m \u001b[31m781.3 kB/s\u001b[0m eta \u001b[36m0:00:01\u001b[0m\r\u001b[2K   \u001b[91m━━━━━━━━━━━━━━━━━━━━━━━━━━━━━━━━━━━━\u001b[0m\u001b[90m╺\u001b[0m\u001b[90m━━━\u001b[0m \u001b[32m92.2/101.7 kB\u001b[0m \u001b[31m1.3 MB/s\u001b[0m eta \u001b[36m0:00:01\u001b[0m\r\u001b[2K   \u001b[90m━━━━━━━━━━━━━━━━━━━━━━━━━━━━━━━━━━━━━━━━\u001b[0m \u001b[32m101.7/101.7 kB\u001b[0m \u001b[31m1.3 MB/s\u001b[0m eta \u001b[36m0:00:00\u001b[0m\n",
            "\u001b[?25hInstalling collected packages: tensorboardX\n",
            "Successfully installed tensorboardX-2.6.2.2\n"
          ]
        }
      ]
    },
    {
      "cell_type": "code",
      "source": [
        "from google.colab import drive\n",
        "drive.mount('/content/drive')"
      ],
      "metadata": {
        "colab": {
          "base_uri": "https://localhost:8080/"
        },
        "id": "C7sL5xhjTP8k",
        "outputId": "e8997015-3ba2-40ce-b410-26027fb2c481"
      },
      "id": "C7sL5xhjTP8k",
      "execution_count": null,
      "outputs": [
        {
          "output_type": "stream",
          "name": "stdout",
          "text": [
            "Mounted at /content/drive\n"
          ]
        }
      ]
    },
    {
      "cell_type": "code",
      "execution_count": null,
      "id": "6b59a5bd-bbf7-427a-ba88-0bfafcfdf217",
      "metadata": {
        "colab": {
          "base_uri": "https://localhost:8080/"
        },
        "id": "6b59a5bd-bbf7-427a-ba88-0bfafcfdf217",
        "outputId": "d2358491-2f18-4fb6-a81a-b82b541aca4e"
      },
      "outputs": [
        {
          "output_type": "stream",
          "name": "stdout",
          "text": [
            "CUDA: True cuda:0\n"
          ]
        }
      ],
      "source": [
        "import os\n",
        "from time import time\n",
        "import numpy as np\n",
        "import matplotlib.pyplot as plt\n",
        "import networkx as nx\n",
        "\n",
        "\n",
        "\n",
        "import torch\n",
        "import torch.nn as nn\n",
        "import torch.optim as optim\n",
        "import torch.nn.functional as F\n",
        "from scipy.sparse.linalg import eigs\n",
        "\n",
        "\n",
        "USE_CUDA = torch.cuda.is_available()\n",
        "DEVICE = torch.device('cuda:0')\n",
        "print(\"CUDA:\", USE_CUDA, DEVICE)\n",
        "\n",
        "from tensorboardX import SummaryWriter\n",
        "sw = SummaryWriter(logdir='.', flush_secs=5)\n",
        "\n",
        "import math\n",
        "from typing import Optional, List, Union\n",
        "\n",
        "import torch\n",
        "import torch.nn as nn\n",
        "from torch.nn import Parameter\n",
        "import torch.nn.functional as F\n",
        "\n",
        "from torch_geometric.data import Data\n",
        "from torch_geometric.typing import OptTensor\n",
        "from torch_geometric.nn.conv import MessagePassing\n",
        "from torch_geometric.transforms import LaplacianLambdaMax\n",
        "from torch_geometric.utils import remove_self_loops, add_self_loops, get_laplacian\n",
        "from torch_geometric.utils import to_dense_adj\n",
        "#from torch_scatter import scatter_add"
      ]
    },
    {
      "cell_type": "markdown",
      "id": "099556f5-1671-4e73-b86b-f3e9c4806acf",
      "metadata": {
        "id": "099556f5-1671-4e73-b86b-f3e9c4806acf"
      },
      "source": [
        "###### Loading the Dataset and dividing the Dataset into Training, Testing and Validation"
      ]
    },
    {
      "cell_type": "code",
      "execution_count": null,
      "id": "ea11a6b9-d7a1-40de-957a-155f86ab4c70",
      "metadata": {
        "id": "ea11a6b9-d7a1-40de-957a-155f86ab4c70"
      },
      "outputs": [],
      "source": [
        "def load_graphdata_channel1(batch_size,shuffle=True, DEVICE = torch.device('cuda:0')):\n",
        "    '''\n",
        "    :param DEVICE:\n",
        "    :param batch_size: int\n",
        "    :return:\n",
        "    three DataLoaders, each dataloader contains:\n",
        "    test_x_tensor: (B, N_nodes, in_feature, T_input)\n",
        "    test_decoder_input_tensor: (B, N_nodes, T_output)\n",
        "    test_target_tensor: (B, N_nodes, T_output)\n",
        "    '''\n",
        "\n",
        "    #file = os.path.basename(graph_signal_matrix_filename).split('.')[0]\n",
        "    #filename = os.path.join('../input/processing-traffic-data-for-deep-learning-projects/', file + '_r' + str(num_of_hours) + '_d' + str(num_of_days) + '_w' + str(num_of_weeks)) +'_astcgn'\n",
        "    #print('load file:', filename)\n",
        "\n",
        "    file_data = np.load(r\"/content/drive/MyDrive/COMP9491_ASTGCN_Model/MSTGCN_Model_Hourly_07/For_PEMS07/PEMS07_r1_d0_w0_astcgn.npz\")\n",
        "    train_x = file_data['train_x']  # (10181, 307, 3, 12)\n",
        "    train_x = train_x[:, :, 0:1, :]\n",
        "    train_target = file_data['train_target']  # (10181, 307, 12)\n",
        "\n",
        "    val_x = file_data['val_x']\n",
        "    val_x = val_x[:, :, 0:1, :]\n",
        "    val_target = file_data['val_target']\n",
        "\n",
        "    test_x = file_data['test_x']\n",
        "    test_x = test_x[:, :, 0:1, :]\n",
        "    test_target = file_data['test_target']\n",
        "\n",
        "    mean = file_data['mean'][:, :, 0:1, :]  # (1, 1, 3, 1)\n",
        "    std = file_data['std'][:, :, 0:1, :]  # (1, 1, 3, 1)\n",
        "\n",
        "    # ------- train_loader -------\n",
        "    train_x_tensor = torch.from_numpy(train_x).type(torch.FloatTensor).to(DEVICE)  # (B, N, F, T)\n",
        "    train_target_tensor = torch.from_numpy(train_target).type(torch.FloatTensor).to(DEVICE)  # (B, N, T)\n",
        "    train_dataset = torch.utils.data.TensorDataset(train_x_tensor, train_target_tensor)\n",
        "    train_loader = torch.utils.data.DataLoader(train_dataset, batch_size=batch_size, shuffle=shuffle)\n",
        "\n",
        "    # ------- val_loader -------\n",
        "    val_x_tensor = torch.from_numpy(val_x).type(torch.FloatTensor).to(DEVICE)  # (B, N, F, T)\n",
        "    val_target_tensor = torch.from_numpy(val_target).type(torch.FloatTensor).to(DEVICE)  # (B, N, T)\n",
        "    val_dataset = torch.utils.data.TensorDataset(val_x_tensor, val_target_tensor)\n",
        "    val_loader = torch.utils.data.DataLoader(val_dataset, batch_size=batch_size, shuffle=False)\n",
        "\n",
        "    # ------- test_loader -------\n",
        "    test_x_tensor = torch.from_numpy(test_x).type(torch.FloatTensor).to(DEVICE)  # (B, N, F, T)\n",
        "    test_target_tensor = torch.from_numpy(test_target).type(torch.FloatTensor).to(DEVICE)  # (B, N, T)\n",
        "    test_dataset = torch.utils.data.TensorDataset(test_x_tensor, test_target_tensor)\n",
        "    test_loader = torch.utils.data.DataLoader(test_dataset, batch_size=batch_size, shuffle=False)\n",
        "\n",
        "    # print\n",
        "    print('train:', train_x_tensor.size(), train_target_tensor.size())\n",
        "    print('val:', val_x_tensor.size(), val_target_tensor.size())\n",
        "    print('test:', test_x_tensor.size(), test_target_tensor.size())\n",
        "\n",
        "    return train_loader, train_target_tensor, val_loader, val_target_tensor, test_loader, test_target_tensor, mean, std"
      ]
    },
    {
      "cell_type": "markdown",
      "id": "18c91f6a-b0c4-494c-a9c5-9d79e1333f44",
      "metadata": {
        "id": "18c91f6a-b0c4-494c-a9c5-9d79e1333f44"
      },
      "source": [
        "###### Loading the Data and receiving the dimensions of training, testing and validation tensors"
      ]
    },
    {
      "cell_type": "code",
      "execution_count": null,
      "id": "fac7523b-4e22-4431-ad3c-669284d05850",
      "metadata": {
        "colab": {
          "base_uri": "https://localhost:8080/"
        },
        "id": "fac7523b-4e22-4431-ad3c-669284d05850",
        "outputId": "07d9c85c-2e81-4a31-ce89-c0a56cc70708"
      },
      "outputs": [
        {
          "output_type": "stream",
          "name": "stdout",
          "text": [
            "train: torch.Size([16920, 883, 1, 12]) torch.Size([16920, 883, 12])\n",
            "val: torch.Size([5640, 883, 1, 12]) torch.Size([5640, 883, 12])\n",
            "test: torch.Size([5641, 883, 1, 12]) torch.Size([5641, 883, 12])\n"
          ]
        }
      ],
      "source": [
        "batch_size = 64\n",
        "\n",
        "train_loader, train_target_tensor, val_loader, val_target_tensor, test_loader, test_target_tensor, _mean, _std = load_graphdata_channel1(batch_size)"
      ]
    },
    {
      "cell_type": "markdown",
      "id": "d96da2fc-35d0-47a0-ade7-f78ea7a8e049",
      "metadata": {
        "id": "d96da2fc-35d0-47a0-ade7-f78ea7a8e049"
      },
      "source": [
        "###### Function To Obtain Adjacenecy Matrix from the Graph Data"
      ]
    },
    {
      "cell_type": "code",
      "execution_count": null,
      "id": "9e76bc1d-540c-48c8-b662-0379ef6ac60b",
      "metadata": {
        "id": "9e76bc1d-540c-48c8-b662-0379ef6ac60b"
      },
      "outputs": [],
      "source": [
        "def get_adjacency_matrix(distance_df_filename, num_of_vertices, id_filename=None):\n",
        "    '''\n",
        "    Parameters\n",
        "    ----------\n",
        "    distance_df_filename: str, path of the csv file contains edges information\n",
        "    num_of_vertices: int, the number of vertices\n",
        "    Returns\n",
        "    ----------\n",
        "    A: np.ndarray, adjacency matrix\n",
        "    '''\n",
        "    if 'npy' in distance_df_filename:  # false\n",
        "        adj_mx = np.load(distance_df_filename)\n",
        "        return adj_mx, None\n",
        "    else:\n",
        "\n",
        "        #--------------------------------------------- read from here\n",
        "        import csv\n",
        "        A = np.zeros((int(num_of_vertices), int(num_of_vertices)),dtype=np.float32)\n",
        "        distaneA = np.zeros((int(num_of_vertices), int(num_of_vertices)), dtype=np.float32)\n",
        "\n",
        "        #------------ Ignore\n",
        "        if id_filename: # false\n",
        "            with open(id_filename, 'r') as f:\n",
        "                id_dict = {int(i): idx for idx, i in enumerate(f.read().strip().split('\\n'))}\n",
        "\n",
        "            with open(distance_df_filename, 'r') as f:\n",
        "                f.readline()\n",
        "                reader = csv.reader(f)\n",
        "                for row in reader:\n",
        "                    if len(row) != 3:\n",
        "                        continue\n",
        "                    i, j, distance = int(row[0]), int(row[1]), float(row[2])\n",
        "                    A[id_dict[i], id_dict[j]] = 1\n",
        "                    distaneA[id_dict[i], id_dict[j]] = distance\n",
        "            return A, distaneA\n",
        "\n",
        "        else:\n",
        "         #-------------Continue reading\n",
        "            with open(distance_df_filename, 'r') as f:\n",
        "                f.readline()\n",
        "                reader = csv.reader(f)\n",
        "                for row in reader:\n",
        "                    if len(row) != 3:\n",
        "                        continue\n",
        "                    i, j, distance = int(row[0]), int(row[1]), float(row[2])\n",
        "                    A[i, j] = 1\n",
        "                    distaneA[i, j] = distance\n",
        "            return A, distaneA"
      ]
    },
    {
      "cell_type": "code",
      "execution_count": null,
      "id": "0a6b33b8-55ac-4a6c-9443-c21f8c8a98d3",
      "metadata": {
        "id": "0a6b33b8-55ac-4a6c-9443-c21f8c8a98d3"
      },
      "outputs": [],
      "source": [
        "id_filename = None\n",
        "adj_filename = r'/content/drive/MyDrive/COMP9491_ASTGCN_Model/Dataset_PEMS07/PEMS07.csv'\n",
        "num_of_vertices = 883\n",
        "adj_mx, distance_mx = get_adjacency_matrix(adj_filename, num_of_vertices, id_filename)"
      ]
    },
    {
      "cell_type": "code",
      "execution_count": null,
      "id": "f425d21a-6f89-4538-95b4-ad1243e06c4a",
      "metadata": {
        "id": "f425d21a-6f89-4538-95b4-ad1243e06c4a"
      },
      "outputs": [],
      "source": [
        "def masked_mape_np(y_true, y_pred, null_val=np.nan):\n",
        "    with np.errstate(divide='ignore', invalid='ignore'):\n",
        "        if np.isnan(null_val):\n",
        "            mask = ~np.isnan(y_true)\n",
        "        else:\n",
        "            mask = np.not_equal(y_true, null_val)\n",
        "        mask = mask.astype('float32')\n",
        "        mask /= np.mean(mask)\n",
        "        mape = np.abs(np.divide(np.subtract(y_pred, y_true).astype('float32'),\n",
        "                      y_true))\n",
        "        mape = np.nan_to_num(mask * mape)\n",
        "        return np.mean(mape)"
      ]
    },
    {
      "cell_type": "code",
      "execution_count": null,
      "id": "ce48348a-b067-42be-b6f2-7f68da895a8a",
      "metadata": {
        "id": "ce48348a-b067-42be-b6f2-7f68da895a8a"
      },
      "outputs": [],
      "source": [
        "def masked_mse(preds, labels, null_val=np.nan):\n",
        "    if np.isnan(null_val):\n",
        "        mask = ~torch.isnan(labels)\n",
        "    else:\n",
        "        mask = (labels != null_val)\n",
        "    mask = mask.float()\n",
        "    # print(mask.sum())\n",
        "    # print(mask.shape[0]*mask.shape[1]*mask.shape[2])\n",
        "    mask /= torch.mean((mask))\n",
        "    mask = torch.where(torch.isnan(mask), torch.zeros_like(mask), mask)\n",
        "    loss = (preds - labels)**2\n",
        "    loss = loss * mask\n",
        "    loss = torch.where(torch.isnan(loss), torch.zeros_like(loss), loss)\n",
        "    return torch.mean(loss)"
      ]
    },
    {
      "cell_type": "code",
      "execution_count": null,
      "id": "1a20fa73-7cf7-4d94-85ce-95f55787d884",
      "metadata": {
        "id": "1a20fa73-7cf7-4d94-85ce-95f55787d884"
      },
      "outputs": [],
      "source": [
        "def masked_rmse(preds, labels, null_val=np.nan):\n",
        "    return torch.sqrt(masked_mse(preds=preds, labels=labels,\n",
        "                                 null_val=null_val))"
      ]
    },
    {
      "cell_type": "code",
      "execution_count": null,
      "id": "7c643032-5938-45ce-85b0-a5e0e232c4a5",
      "metadata": {
        "id": "7c643032-5938-45ce-85b0-a5e0e232c4a5"
      },
      "outputs": [],
      "source": [
        "def masked_mae(preds, labels, null_val=np.nan):\n",
        "    if np.isnan(null_val):\n",
        "        ###creates a mask where values are present are set to True\n",
        "        #### where missing values are present, are set to False\n",
        "        mask = ~torch.isnan(labels)\n",
        "    else:\n",
        "        ### if there is no missing value, create a mask where values are False\n",
        "        mask = (labels != null_val)\n",
        "    mask = mask.float()\n",
        "\n",
        "    ##normalizing the weight of the mask, by dividing with mean of mask values\n",
        "    mask /= torch.mean((mask))\n",
        "\n",
        "    ##Replaces any Missing value in Mask with Zero\n",
        "    mask = torch.where(torch.isnan(mask), torch.zeros_like(mask), mask)\n",
        "    loss = torch.abs(preds - labels)\n",
        "    loss = loss * mask\n",
        "    loss = torch.where(torch.isnan(loss), torch.zeros_like(loss), loss)\n",
        "\n",
        "    ##Computing the meas value of mean absolute error\n",
        "    return torch.mean(loss)"
      ]
    },
    {
      "cell_type": "code",
      "execution_count": null,
      "id": "cd233516-6b42-4075-bade-5744e5f7809d",
      "metadata": {
        "id": "cd233516-6b42-4075-bade-5744e5f7809d"
      },
      "outputs": [],
      "source": [
        "def masked_mae_test(y_true, y_pred, null_val=np.nan):\n",
        "    with np.errstate(divide='ignore', invalid='ignore'):\n",
        "        if np.isnan(null_val):\n",
        "            mask = ~np.isnan(y_true)\n",
        "        else:\n",
        "            mask = np.not_equal(y_true, null_val)\n",
        "        mask = mask.astype('float32')\n",
        "        mask /= np.mean(mask)\n",
        "        mae = np.abs(np.subtract(y_pred, y_true).astype('float32'),\n",
        "                      )\n",
        "        mae = np.nan_to_num(mask * mae)\n",
        "        return np.mean(mae)"
      ]
    },
    {
      "cell_type": "code",
      "execution_count": null,
      "id": "b255a176-fc81-4aa2-b003-1ea84c065c27",
      "metadata": {
        "id": "b255a176-fc81-4aa2-b003-1ea84c065c27"
      },
      "outputs": [],
      "source": [
        "def masked_rmse_test(y_true, y_pred, null_val=np.nan):\n",
        "    with np.errstate(divide='ignore', invalid='ignore'):\n",
        "        if np.isnan(null_val):\n",
        "            mask = ~np.isnan(y_true)\n",
        "        else:\n",
        "            # null_val=null_val\n",
        "            mask = np.not_equal(y_true, null_val)\n",
        "        mask = mask.astype('float32')\n",
        "        mask /= np.mean(mask)\n",
        "        mse = ((y_pred- y_true)**2)\n",
        "        mse = np.nan_to_num(mask * mse)\n",
        "        return np.sqrt(np.mean(mse))"
      ]
    },
    {
      "cell_type": "code",
      "execution_count": null,
      "id": "2a30e14b-0764-4945-b29b-acd67905836b",
      "metadata": {
        "id": "2a30e14b-0764-4945-b29b-acd67905836b"
      },
      "outputs": [],
      "source": [
        "masked_flag=0\n",
        "criterion = nn.L1Loss().to(DEVICE)\n",
        "criterion_masked = masked_mae\n",
        "loss_function = 'mse'\n",
        "\n",
        "metric_method = 'unmask'\n",
        "missing_value=0.0\n",
        "\n",
        "\n",
        "if loss_function=='masked_mse':\n",
        "    criterion_masked = masked_mse         #nn.MSELoss().to(DEVICE)\n",
        "    masked_flag=1\n",
        "elif loss_function=='masked_mae':\n",
        "    criterion_masked = masked_mae\n",
        "    masked_flag = 1\n",
        "elif loss_function == 'mae':\n",
        "    criterion = nn.L1Loss().to(DEVICE)\n",
        "    ###indicating that standard loss function will be used\n",
        "    masked_flag = 0\n",
        "elif loss_function == 'rmse':\n",
        "    criterion = nn.MSELoss().to(DEVICE)\n",
        "    masked_flag= 0"
      ]
    },
    {
      "cell_type": "markdown",
      "source": [
        "###### Model is made for Neighbors, K = 5"
      ],
      "metadata": {
        "id": "vhlxQEQ1IStw"
      },
      "id": "vhlxQEQ1IStw"
    },
    {
      "cell_type": "code",
      "source": [
        "model_hour_k5 = make_model(DEVICE, 2, 1, 5,\n",
        "                        64, 64, 1, adj_mx,\n",
        "                        12, 12, 883)"
      ],
      "metadata": {
        "id": "IUGZKDXYV-Rr"
      },
      "id": "IUGZKDXYV-Rr",
      "execution_count": null,
      "outputs": []
    },
    {
      "cell_type": "code",
      "source": [
        "print(model_hour_k5)"
      ],
      "metadata": {
        "colab": {
          "base_uri": "https://localhost:8080/"
        },
        "id": "O2AdnNv8WG9F",
        "outputId": "396b8359-5c0c-413b-8cb6-b0de70145c72"
      },
      "id": "O2AdnNv8WG9F",
      "execution_count": null,
      "outputs": [
        {
          "output_type": "stream",
          "name": "stdout",
          "text": [
            "ASTGCN_submodule(\n",
            "  (BlockList): ModuleList(\n",
            "    (0): ASTGCN_block(\n",
            "      (TAt): Temporal_Attention_layer()\n",
            "      (SAt): Spatial_Attention_layer()\n",
            "      (cheb_conv_SAt): cheb_conv_withSAt(\n",
            "        (Theta): ParameterList(\n",
            "            (0): Parameter containing: [torch.float32 of size 1x64 (cuda:0)]\n",
            "            (1): Parameter containing: [torch.float32 of size 1x64 (cuda:0)]\n",
            "            (2): Parameter containing: [torch.float32 of size 1x64 (cuda:0)]\n",
            "            (3): Parameter containing: [torch.float32 of size 1x64 (cuda:0)]\n",
            "            (4): Parameter containing: [torch.float32 of size 1x64 (cuda:0)]\n",
            "        )\n",
            "      )\n",
            "      (time_conv): Conv2d(64, 64, kernel_size=(1, 3), stride=(1, 1), padding=(0, 1))\n",
            "      (residual_conv): Conv2d(1, 64, kernel_size=(1, 1), stride=(1, 1))\n",
            "      (ln): LayerNorm((64,), eps=1e-05, elementwise_affine=True)\n",
            "    )\n",
            "    (1): ASTGCN_block(\n",
            "      (TAt): Temporal_Attention_layer()\n",
            "      (SAt): Spatial_Attention_layer()\n",
            "      (cheb_conv_SAt): cheb_conv_withSAt(\n",
            "        (Theta): ParameterList(\n",
            "            (0): Parameter containing: [torch.float32 of size 64x64 (cuda:0)]\n",
            "            (1): Parameter containing: [torch.float32 of size 64x64 (cuda:0)]\n",
            "            (2): Parameter containing: [torch.float32 of size 64x64 (cuda:0)]\n",
            "            (3): Parameter containing: [torch.float32 of size 64x64 (cuda:0)]\n",
            "            (4): Parameter containing: [torch.float32 of size 64x64 (cuda:0)]\n",
            "        )\n",
            "      )\n",
            "      (time_conv): Conv2d(64, 64, kernel_size=(1, 3), stride=(1, 1), padding=(0, 1))\n",
            "      (residual_conv): Conv2d(64, 64, kernel_size=(1, 1), stride=(1, 1))\n",
            "      (ln): LayerNorm((64,), eps=1e-05, elementwise_affine=True)\n",
            "    )\n",
            "  )\n",
            "  (final_conv): Conv2d(12, 12, kernel_size=(1, 64), stride=(1, 1))\n",
            ")\n"
          ]
        }
      ]
    },
    {
      "cell_type": "code",
      "source": [
        "model_hour_k4 = make_model(DEVICE, 2, 1, 4,\n",
        "                        64, 64, 1, adj_mx,\n",
        "                        12, 12)"
      ],
      "metadata": {
        "id": "w440F8fHIc20"
      },
      "id": "w440F8fHIc20",
      "execution_count": null,
      "outputs": []
    },
    {
      "cell_type": "code",
      "source": [
        "print(model_hour_k4)"
      ],
      "metadata": {
        "colab": {
          "base_uri": "https://localhost:8080/"
        },
        "id": "6oLNgAcuIr6u",
        "outputId": "b91056db-0b1d-4d47-df4a-75591da40438"
      },
      "id": "6oLNgAcuIr6u",
      "execution_count": null,
      "outputs": [
        {
          "output_type": "stream",
          "name": "stdout",
          "text": [
            "MSTGCN_submodule(\n",
            "  (BlockList): ModuleList(\n",
            "    (0): MSTGCN_block(\n",
            "      (cheb_conv): cheb_conv(\n",
            "        (Theta): ParameterList(\n",
            "            (0): Parameter containing: [torch.float32 of size 1x64 (cuda:0)]\n",
            "            (1): Parameter containing: [torch.float32 of size 1x64 (cuda:0)]\n",
            "            (2): Parameter containing: [torch.float32 of size 1x64 (cuda:0)]\n",
            "            (3): Parameter containing: [torch.float32 of size 1x64 (cuda:0)]\n",
            "        )\n",
            "      )\n",
            "      (time_conv): Conv2d(64, 64, kernel_size=(1, 3), stride=(1, 1), padding=(0, 1))\n",
            "      (residual_conv): Conv2d(1, 64, kernel_size=(1, 1), stride=(1, 1))\n",
            "      (ln): LayerNorm((64,), eps=1e-05, elementwise_affine=True)\n",
            "    )\n",
            "    (1): MSTGCN_block(\n",
            "      (cheb_conv): cheb_conv(\n",
            "        (Theta): ParameterList(\n",
            "            (0): Parameter containing: [torch.float32 of size 64x64 (cuda:0)]\n",
            "            (1): Parameter containing: [torch.float32 of size 64x64 (cuda:0)]\n",
            "            (2): Parameter containing: [torch.float32 of size 64x64 (cuda:0)]\n",
            "            (3): Parameter containing: [torch.float32 of size 64x64 (cuda:0)]\n",
            "        )\n",
            "      )\n",
            "      (time_conv): Conv2d(64, 64, kernel_size=(1, 3), stride=(1, 1), padding=(0, 1))\n",
            "      (residual_conv): Conv2d(64, 64, kernel_size=(1, 1), stride=(1, 1))\n",
            "      (ln): LayerNorm((64,), eps=1e-05, elementwise_affine=True)\n",
            "    )\n",
            "  )\n",
            "  (final_conv): Conv2d(12, 12, kernel_size=(1, 64), stride=(1, 1))\n",
            ")\n"
          ]
        }
      ]
    },
    {
      "cell_type": "markdown",
      "source": [
        "###### Defining the Optimizers and Model configurations for K =5"
      ],
      "metadata": {
        "id": "sSq5bhEDI1Ki"
      },
      "id": "sSq5bhEDI1Ki"
    },
    {
      "cell_type": "code",
      "source": [
        "learning_rate = 0.001\n",
        "optimizer = optim.Adam(model_hour_k5.parameters(), lr=learning_rate)"
      ],
      "metadata": {
        "id": "mqikIGmYXLfR"
      },
      "id": "mqikIGmYXLfR",
      "execution_count": null,
      "outputs": []
    },
    {
      "cell_type": "code",
      "source": [
        "print('Net\\'s state_dict:')\n",
        "total_param = 0\n",
        "for param_tensor in model_hour_k5.state_dict():\n",
        "    print(param_tensor, '\\t', model_hour_k5.state_dict()[param_tensor].size(), '\\t', model_hour_k5.state_dict()[param_tensor].device)\n",
        "    total_param += np.prod(model_hour_k5.state_dict()[param_tensor].size())\n",
        "print('Net\\'s total params:', total_param)\n",
        "#--------------------------------------------------\n",
        "print('Optimizer\\'s state_dict:')\n",
        "for var_name in optimizer.state_dict():\n",
        "    print(var_name, '\\t', optimizer.state_dict()[var_name])"
      ],
      "metadata": {
        "colab": {
          "base_uri": "https://localhost:8080/"
        },
        "id": "zWdU1fR4XO1f",
        "outputId": "52e41144-9cfb-4389-eed2-eb1626aeca5e"
      },
      "id": "zWdU1fR4XO1f",
      "execution_count": null,
      "outputs": [
        {
          "output_type": "stream",
          "name": "stdout",
          "text": [
            "Net's state_dict:\n",
            "BlockList.0.TAt.U1 \t torch.Size([883]) \t cuda:0\n",
            "BlockList.0.TAt.U2 \t torch.Size([1, 883]) \t cuda:0\n",
            "BlockList.0.TAt.U3 \t torch.Size([1]) \t cuda:0\n",
            "BlockList.0.TAt.be \t torch.Size([1, 12, 12]) \t cuda:0\n",
            "BlockList.0.TAt.Ve \t torch.Size([12, 12]) \t cuda:0\n",
            "BlockList.0.SAt.W1 \t torch.Size([12]) \t cuda:0\n",
            "BlockList.0.SAt.W2 \t torch.Size([1, 12]) \t cuda:0\n",
            "BlockList.0.SAt.W3 \t torch.Size([1]) \t cuda:0\n",
            "BlockList.0.SAt.bs \t torch.Size([1, 883, 883]) \t cuda:0\n",
            "BlockList.0.SAt.Vs \t torch.Size([883, 883]) \t cuda:0\n",
            "BlockList.0.cheb_conv_SAt.Theta.0 \t torch.Size([1, 64]) \t cuda:0\n",
            "BlockList.0.cheb_conv_SAt.Theta.1 \t torch.Size([1, 64]) \t cuda:0\n",
            "BlockList.0.cheb_conv_SAt.Theta.2 \t torch.Size([1, 64]) \t cuda:0\n",
            "BlockList.0.cheb_conv_SAt.Theta.3 \t torch.Size([1, 64]) \t cuda:0\n",
            "BlockList.0.cheb_conv_SAt.Theta.4 \t torch.Size([1, 64]) \t cuda:0\n",
            "BlockList.0.time_conv.weight \t torch.Size([64, 64, 1, 3]) \t cuda:0\n",
            "BlockList.0.time_conv.bias \t torch.Size([64]) \t cuda:0\n",
            "BlockList.0.residual_conv.weight \t torch.Size([64, 1, 1, 1]) \t cuda:0\n",
            "BlockList.0.residual_conv.bias \t torch.Size([64]) \t cuda:0\n",
            "BlockList.0.ln.weight \t torch.Size([64]) \t cuda:0\n",
            "BlockList.0.ln.bias \t torch.Size([64]) \t cuda:0\n",
            "BlockList.1.TAt.U1 \t torch.Size([883]) \t cuda:0\n",
            "BlockList.1.TAt.U2 \t torch.Size([64, 883]) \t cuda:0\n",
            "BlockList.1.TAt.U3 \t torch.Size([64]) \t cuda:0\n",
            "BlockList.1.TAt.be \t torch.Size([1, 12, 12]) \t cuda:0\n",
            "BlockList.1.TAt.Ve \t torch.Size([12, 12]) \t cuda:0\n",
            "BlockList.1.SAt.W1 \t torch.Size([12]) \t cuda:0\n",
            "BlockList.1.SAt.W2 \t torch.Size([64, 12]) \t cuda:0\n",
            "BlockList.1.SAt.W3 \t torch.Size([64]) \t cuda:0\n",
            "BlockList.1.SAt.bs \t torch.Size([1, 883, 883]) \t cuda:0\n",
            "BlockList.1.SAt.Vs \t torch.Size([883, 883]) \t cuda:0\n",
            "BlockList.1.cheb_conv_SAt.Theta.0 \t torch.Size([64, 64]) \t cuda:0\n",
            "BlockList.1.cheb_conv_SAt.Theta.1 \t torch.Size([64, 64]) \t cuda:0\n",
            "BlockList.1.cheb_conv_SAt.Theta.2 \t torch.Size([64, 64]) \t cuda:0\n",
            "BlockList.1.cheb_conv_SAt.Theta.3 \t torch.Size([64, 64]) \t cuda:0\n",
            "BlockList.1.cheb_conv_SAt.Theta.4 \t torch.Size([64, 64]) \t cuda:0\n",
            "BlockList.1.time_conv.weight \t torch.Size([64, 64, 1, 3]) \t cuda:0\n",
            "BlockList.1.time_conv.bias \t torch.Size([64]) \t cuda:0\n",
            "BlockList.1.residual_conv.weight \t torch.Size([64, 64, 1, 1]) \t cuda:0\n",
            "BlockList.1.residual_conv.bias \t torch.Size([64]) \t cuda:0\n",
            "BlockList.1.ln.weight \t torch.Size([64]) \t cuda:0\n",
            "BlockList.1.ln.bias \t torch.Size([64]) \t cuda:0\n",
            "final_conv.weight \t torch.Size([12, 12, 1, 64]) \t cuda:0\n",
            "final_conv.bias \t torch.Size([12]) \t cuda:0\n",
            "Net's total params: 3238703\n",
            "Optimizer's state_dict:\n",
            "state \t {}\n",
            "param_groups \t [{'lr': 0.001, 'betas': (0.9, 0.999), 'eps': 1e-08, 'weight_decay': 0, 'amsgrad': False, 'maximize': False, 'foreach': None, 'capturable': False, 'differentiable': False, 'fused': None, 'params': [0, 1, 2, 3, 4, 5, 6, 7, 8, 9, 10, 11, 12, 13, 14, 15, 16, 17, 18, 19, 20, 21, 22, 23, 24, 25, 26, 27, 28, 29, 30, 31, 32, 33, 34, 35, 36, 37, 38, 39, 40, 41, 42, 43]}]\n"
          ]
        }
      ]
    },
    {
      "cell_type": "markdown",
      "source": [
        "###### Defining Optimization and Config for Model, K = 4"
      ],
      "metadata": {
        "id": "8_1omO2yJKau"
      },
      "id": "8_1omO2yJKau"
    },
    {
      "cell_type": "code",
      "source": [
        "learning_rate = 0.001\n",
        "optimizer = optim.Adam(model_hour_k4.parameters(), lr=learning_rate)"
      ],
      "metadata": {
        "id": "ok5kOosGI9Fq"
      },
      "id": "ok5kOosGI9Fq",
      "execution_count": null,
      "outputs": []
    },
    {
      "cell_type": "code",
      "source": [
        "print('Net\\'s state_dict:')\n",
        "total_param = 0\n",
        "for param_tensor in model_hour_k4.state_dict():\n",
        "    print(param_tensor, '\\t', model_hour_k4.state_dict()[param_tensor].size(), '\\t', model_hour_k4.state_dict()[param_tensor].device)\n",
        "    total_param += np.prod(model_hour_k4.state_dict()[param_tensor].size())\n",
        "print('Net\\'s total params:', total_param)\n",
        "#--------------------------------------------------\n",
        "print('Optimizer\\'s state_dict:')\n",
        "for var_name in optimizer.state_dict():\n",
        "    print(var_name, '\\t', optimizer.state_dict()[var_name])"
      ],
      "metadata": {
        "colab": {
          "base_uri": "https://localhost:8080/"
        },
        "id": "A5o2rr_NJB00",
        "outputId": "c4296c86-f6f9-4fd2-bacb-1397e6f87934"
      },
      "id": "A5o2rr_NJB00",
      "execution_count": null,
      "outputs": [
        {
          "output_type": "stream",
          "name": "stdout",
          "text": [
            "Net's state_dict:\n",
            "BlockList.0.cheb_conv.Theta.0 \t torch.Size([1, 64]) \t cuda:0\n",
            "BlockList.0.cheb_conv.Theta.1 \t torch.Size([1, 64]) \t cuda:0\n",
            "BlockList.0.cheb_conv.Theta.2 \t torch.Size([1, 64]) \t cuda:0\n",
            "BlockList.0.cheb_conv.Theta.3 \t torch.Size([1, 64]) \t cuda:0\n",
            "BlockList.0.time_conv.weight \t torch.Size([64, 64, 1, 3]) \t cuda:0\n",
            "BlockList.0.time_conv.bias \t torch.Size([64]) \t cuda:0\n",
            "BlockList.0.residual_conv.weight \t torch.Size([64, 1, 1, 1]) \t cuda:0\n",
            "BlockList.0.residual_conv.bias \t torch.Size([64]) \t cuda:0\n",
            "BlockList.0.ln.weight \t torch.Size([64]) \t cuda:0\n",
            "BlockList.0.ln.bias \t torch.Size([64]) \t cuda:0\n",
            "BlockList.1.cheb_conv.Theta.0 \t torch.Size([64, 64]) \t cuda:0\n",
            "BlockList.1.cheb_conv.Theta.1 \t torch.Size([64, 64]) \t cuda:0\n",
            "BlockList.1.cheb_conv.Theta.2 \t torch.Size([64, 64]) \t cuda:0\n",
            "BlockList.1.cheb_conv.Theta.3 \t torch.Size([64, 64]) \t cuda:0\n",
            "BlockList.1.time_conv.weight \t torch.Size([64, 64, 1, 3]) \t cuda:0\n",
            "BlockList.1.time_conv.bias \t torch.Size([64]) \t cuda:0\n",
            "BlockList.1.residual_conv.weight \t torch.Size([64, 64, 1, 1]) \t cuda:0\n",
            "BlockList.1.residual_conv.bias \t torch.Size([64]) \t cuda:0\n",
            "BlockList.1.ln.weight \t torch.Size([64]) \t cuda:0\n",
            "BlockList.1.ln.bias \t torch.Size([64]) \t cuda:0\n",
            "final_conv.weight \t torch.Size([12, 12, 1, 64]) \t cuda:0\n",
            "final_conv.bias \t torch.Size([12]) \t cuda:0\n",
            "Net's total params: 55116\n",
            "Optimizer's state_dict:\n",
            "state \t {}\n",
            "param_groups \t [{'lr': 0.001, 'betas': (0.9, 0.999), 'eps': 1e-08, 'weight_decay': 0, 'amsgrad': False, 'maximize': False, 'foreach': None, 'capturable': False, 'differentiable': False, 'fused': None, 'params': [0, 1, 2, 3, 4, 5, 6, 7, 8, 9, 10, 11, 12, 13, 14, 15, 16, 17, 18, 19, 20, 21]}]\n"
          ]
        }
      ]
    },
    {
      "cell_type": "code",
      "source": [
        "from tensorboardX import SummaryWriter\n",
        "sw = SummaryWriter(logdir='.', flush_secs=5)"
      ],
      "metadata": {
        "id": "hVR2oyOdXb_b"
      },
      "id": "hVR2oyOdXb_b",
      "execution_count": null,
      "outputs": []
    },
    {
      "cell_type": "code",
      "execution_count": null,
      "id": "27c4bdf0-c8b3-4722-a5a6-cb345ed5592d",
      "metadata": {
        "id": "27c4bdf0-c8b3-4722-a5a6-cb345ed5592d"
      },
      "outputs": [],
      "source": [
        "def compute_val_loss_mstgcn(net, val_loader, criterion,  masked_flag,missing_value,sw, epoch, limit=None):\n",
        "    '''\n",
        "    for rnn, compute mean loss on validation set\n",
        "    :param net: model\n",
        "    :param val_loader: torch.utils.data.utils.DataLoader\n",
        "    :param criterion: torch.nn.MSELoss\n",
        "    :param sw: tensorboardX.SummaryWriter\n",
        "    :param global_step: int, current global_step\n",
        "    :param limit: int,\n",
        "    :return: val_loss\n",
        "    '''\n",
        "\n",
        "    net.train(False)  # ensure dropout layers are in evaluation mode\n",
        "\n",
        "    with torch.no_grad():\n",
        "\n",
        "        val_loader_length = len(val_loader)  # nb of batch\n",
        "\n",
        "        tmp = []  # batch loss\n",
        "\n",
        "        for batch_index, batch_data in enumerate(val_loader):\n",
        "            encoder_inputs, labels = batch_data\n",
        "            outputs = net(encoder_inputs)\n",
        "            if masked_flag:\n",
        "                loss = criterion(outputs, labels, missing_value)\n",
        "            else:\n",
        "                loss = criterion(outputs, labels)\n",
        "\n",
        "            tmp.append(loss.item())\n",
        "            if batch_index % 100 == 0:\n",
        "                print('validation batch %s / %s, loss: %.2f' % (batch_index + 1, val_loader_length, loss.item()))\n",
        "            if (limit is not None) and batch_index >= limit:\n",
        "                break\n",
        "\n",
        "        validation_loss = sum(tmp) / len(tmp)\n",
        "        sw.add_scalar('validation_loss', validation_loss, epoch)\n",
        "    return validation_loss\n"
      ]
    },
    {
      "cell_type": "markdown",
      "source": [
        "###### Training for Model with neighbors, set K = 5"
      ],
      "metadata": {
        "id": "AMCEuIFiJVkC"
      },
      "id": "AMCEuIFiJVkC"
    },
    {
      "cell_type": "code",
      "source": [
        "global_step_k5 = 0\n",
        "best_epoch_k5 = 0\n",
        "best_val_loss_k5 = np.inf\n",
        "start_time= time()"
      ],
      "metadata": {
        "id": "bcqsIKaaYGqF"
      },
      "id": "bcqsIKaaYGqF",
      "execution_count": null,
      "outputs": []
    },
    {
      "cell_type": "code",
      "source": [
        "validation_loss_list = []\n",
        "training_loss_list = []\n",
        "final_train_loss = []\n",
        "\n",
        "# train model\n",
        "#masked_flag = 0\n",
        "for epoch in range(20):\n",
        "\n",
        "    params_filename = os.path.join('./', 'epoch_%s.params' % epoch)\n",
        "    masked_flag = 1\n",
        "\n",
        "    if masked_flag:\n",
        "        val_loss = compute_val_loss_astgcn(model_hour_k5, val_loader, criterion_masked, masked_flag,missing_value,sw, epoch)\n",
        "    else:\n",
        "        val_loss = compute_val_loss_astgcn(model_hour_k5, val_loader, criterion, masked_flag, missing_value, sw, epoch)\n",
        "\n",
        "    ###appending the validation Loss in the List\n",
        "    validation_loss_list.append(val_loss)\n",
        "    if val_loss < best_val_loss_k5:\n",
        "        best_val_loss_k5 = val_loss\n",
        "        best_epoch_k5 = epoch\n",
        "        torch.save(model_hour_k5.state_dict(), params_filename)\n",
        "        print('save parameters to file: %s' % params_filename)\n",
        "\n",
        "    model_hour_k5.train()  # ensure dropout layers are in train mode\n",
        "\n",
        "    for batch_index, batch_data in enumerate(train_loader):\n",
        "\n",
        "        encoder_inputs, labels = batch_data\n",
        "\n",
        "        optimizer.zero_grad()\n",
        "\n",
        "        outputs = model_hour_k5(encoder_inputs)\n",
        "\n",
        "        if masked_flag:\n",
        "            loss = criterion_masked(outputs, labels,missing_value)\n",
        "        else :\n",
        "            loss = criterion(outputs, labels)\n",
        "\n",
        "\n",
        "        loss.backward()\n",
        "\n",
        "        optimizer.step()\n",
        "\n",
        "        training_loss = loss.item()\n",
        "\n",
        "        global_step_k5 += 1\n",
        "\n",
        "        training_loss_list.append(training_loss)\n",
        "\n",
        "        sw.add_scalar('training_loss', training_loss, global_step_k5)\n",
        "        #globalstep_training_loss_list.append(training_loss)\n",
        "\n",
        "        if global_step_k5 % 200 == 0:\n",
        "\n",
        "            print('global step: %s, training loss: %.2f, time: %.2fs' % (global_step_k5, training_loss, time() - start_time))\n",
        "\n",
        "    ##Estimating the Total Training Batch Loss\n",
        "    train_batch_loss = sum(training_loss_list)/len(training_loss_list)\n",
        "    final_train_loss.append(train_batch_loss)\n",
        "\n",
        "print('best epoch:', best_epoch_k5)\n",
        "\n"
      ],
      "metadata": {
        "colab": {
          "base_uri": "https://localhost:8080/"
        },
        "id": "Ldvma6VIYaS4",
        "outputId": "14533289-8ff0-4078-f5a6-7df3b72a5be6"
      },
      "id": "Ldvma6VIYaS4",
      "execution_count": null,
      "outputs": [
        {
          "output_type": "stream",
          "name": "stdout",
          "text": [
            "validation batch 1 / 89, loss: 249.69\n",
            "save parameters to file: ./epoch_0.params\n",
            "global step: 200, training loss: 164.76, time: 396.53s\n",
            "validation batch 1 / 89, loss: 66.55\n",
            "save parameters to file: ./epoch_1.params\n",
            "global step: 400, training loss: 54.09, time: 777.61s\n",
            "validation batch 1 / 89, loss: 46.85\n",
            "save parameters to file: ./epoch_2.params\n",
            "global step: 600, training loss: 42.91, time: 1158.73s\n",
            "validation batch 1 / 89, loss: 44.50\n",
            "save parameters to file: ./epoch_3.params\n",
            "global step: 800, training loss: 48.29, time: 1539.80s\n",
            "global step: 1000, training loss: 39.47, time: 1874.50s\n",
            "validation batch 1 / 89, loss: 41.95\n",
            "save parameters to file: ./epoch_4.params\n",
            "global step: 1200, training loss: 44.83, time: 2255.35s\n",
            "validation batch 1 / 89, loss: 42.48\n",
            "save parameters to file: ./epoch_5.params\n",
            "global step: 1400, training loss: 39.67, time: 2636.10s\n",
            "validation batch 1 / 89, loss: 41.64\n",
            "save parameters to file: ./epoch_6.params\n",
            "global step: 1600, training loss: 40.22, time: 3016.86s\n",
            "global step: 1800, training loss: 34.33, time: 3351.44s\n",
            "validation batch 1 / 89, loss: 33.53\n",
            "save parameters to file: ./epoch_7.params\n",
            "global step: 2000, training loss: 36.91, time: 3732.19s\n",
            "validation batch 1 / 89, loss: 32.54\n",
            "save parameters to file: ./epoch_8.params\n",
            "global step: 2200, training loss: 36.66, time: 4112.90s\n",
            "validation batch 1 / 89, loss: 30.88\n",
            "save parameters to file: ./epoch_9.params\n",
            "global step: 2400, training loss: 31.20, time: 4493.64s\n",
            "global step: 2600, training loss: 32.84, time: 4828.23s\n",
            "validation batch 1 / 89, loss: 30.04\n",
            "save parameters to file: ./epoch_10.params\n",
            "global step: 2800, training loss: 35.08, time: 5208.93s\n",
            "validation batch 1 / 89, loss: 29.97\n",
            "save parameters to file: ./epoch_11.params\n",
            "global step: 3000, training loss: 30.78, time: 5589.65s\n",
            "validation batch 1 / 89, loss: 28.46\n",
            "save parameters to file: ./epoch_12.params\n",
            "global step: 3200, training loss: 33.61, time: 5970.45s\n",
            "global step: 3400, training loss: 31.17, time: 6305.16s\n",
            "validation batch 1 / 89, loss: 28.19\n",
            "save parameters to file: ./epoch_13.params\n",
            "global step: 3600, training loss: 31.65, time: 6685.83s\n",
            "validation batch 1 / 89, loss: 27.12\n",
            "save parameters to file: ./epoch_14.params\n",
            "global step: 3800, training loss: 30.60, time: 7066.63s\n",
            "validation batch 1 / 89, loss: 28.62\n",
            "global step: 4000, training loss: 28.62, time: 7447.48s\n",
            "global step: 4200, training loss: 27.87, time: 7782.09s\n",
            "validation batch 1 / 89, loss: 26.84\n",
            "save parameters to file: ./epoch_16.params\n",
            "global step: 4400, training loss: 28.78, time: 8162.80s\n",
            "validation batch 1 / 89, loss: 26.77\n",
            "save parameters to file: ./epoch_17.params\n",
            "global step: 4600, training loss: 28.53, time: 8543.62s\n",
            "validation batch 1 / 89, loss: 26.12\n",
            "save parameters to file: ./epoch_18.params\n",
            "global step: 4800, training loss: 29.43, time: 8924.47s\n",
            "global step: 5000, training loss: 30.17, time: 9259.12s\n",
            "validation batch 1 / 89, loss: 26.00\n",
            "save parameters to file: ./epoch_19.params\n",
            "global step: 5200, training loss: 28.24, time: 9640.10s\n",
            "best epoch: 19\n"
          ]
        }
      ]
    },
    {
      "cell_type": "code",
      "source": [
        "len(validation_loss_list)"
      ],
      "metadata": {
        "colab": {
          "base_uri": "https://localhost:8080/"
        },
        "id": "SEawzNNMD-aK",
        "outputId": "112c4142-fa8e-48c4-f0ff-76276f2f3141"
      },
      "id": "SEawzNNMD-aK",
      "execution_count": null,
      "outputs": [
        {
          "output_type": "execute_result",
          "data": {
            "text/plain": [
              "20"
            ]
          },
          "metadata": {},
          "execution_count": 116
        }
      ]
    },
    {
      "cell_type": "code",
      "source": [
        "len(final_train_loss)"
      ],
      "metadata": {
        "colab": {
          "base_uri": "https://localhost:8080/"
        },
        "id": "yVYWDE2PEKhp",
        "outputId": "35b45787-c480-41d8-fb91-99009804f4f9"
      },
      "id": "yVYWDE2PEKhp",
      "execution_count": null,
      "outputs": [
        {
          "output_type": "execute_result",
          "data": {
            "text/plain": [
              "20"
            ]
          },
          "metadata": {},
          "execution_count": 117
        }
      ]
    },
    {
      "cell_type": "markdown",
      "source": [
        "##### Validation Loss when K=5"
      ],
      "metadata": {
        "id": "_AoLcptuEfe-"
      },
      "id": "_AoLcptuEfe-"
    },
    {
      "cell_type": "code",
      "source": [
        "validation_loss_list"
      ],
      "metadata": {
        "colab": {
          "base_uri": "https://localhost:8080/"
        },
        "id": "D_fDsrmHEOI_",
        "outputId": "fbd44952-3847-4728-b834-a6fd4d5b0866"
      },
      "id": "D_fDsrmHEOI_",
      "execution_count": null,
      "outputs": [
        {
          "output_type": "execute_result",
          "data": {
            "text/plain": [
              "[304.11454001437414,\n",
              " 96.70687390445323,\n",
              " 45.67897361583924,\n",
              " 41.52068018109611,\n",
              " 39.74240050155125,\n",
              " 38.19995719395327,\n",
              " 37.17466347940852,\n",
              " 34.23685978235823,\n",
              " 33.40581973215168,\n",
              " 31.951924806230522,\n",
              " 31.369132845589284,\n",
              " 30.975652737563916,\n",
              " 30.1157070545668,\n",
              " 29.619179500622696,\n",
              " 29.251586013965394,\n",
              " 29.915923300753818,\n",
              " 28.769814930605083,\n",
              " 28.530454378449516,\n",
              " 28.323116602522603,\n",
              " 28.08140883285008]"
            ]
          },
          "metadata": {},
          "execution_count": 118
        }
      ]
    },
    {
      "cell_type": "markdown",
      "source": [
        "###### Training Loss, when K =5"
      ],
      "metadata": {
        "id": "qCZN2AF9EqJp"
      },
      "id": "qCZN2AF9EqJp"
    },
    {
      "cell_type": "code",
      "source": [
        "final_train_loss"
      ],
      "metadata": {
        "colab": {
          "base_uri": "https://localhost:8080/"
        },
        "id": "NF4NS-NrERid",
        "outputId": "b1b1bf63-f88e-4505-ca7d-2914172be150"
      },
      "id": "NF4NS-NrERid",
      "execution_count": null,
      "outputs": [
        {
          "output_type": "execute_result",
          "data": {
            "text/plain": [
              "[205.89475227212006,\n",
              " 134.33034729147857,\n",
              " 104.57528637580153,\n",
              " 88.95958061938016,\n",
              " 79.22736915444428,\n",
              " 72.53760664837915,\n",
              " 67.37849117289335,\n",
              " 63.279508068876446,\n",
              " 59.97112996723167,\n",
              " 57.23604269711476,\n",
              " 54.93488077847463,\n",
              " 52.95490953037574,\n",
              " 51.236041043839364,\n",
              " 49.73391834937659,\n",
              " 48.40559372955898,\n",
              " 47.2225926952542,\n",
              " 46.164091534461086,\n",
              " 45.20877823459777,\n",
              " 44.338809648455076,\n",
              " 43.541944018669845]"
            ]
          },
          "metadata": {},
          "execution_count": 119
        }
      ]
    },
    {
      "cell_type": "markdown",
      "source": [
        "##### Training for when K =4"
      ],
      "metadata": {
        "id": "jGaKGDO1LLAN"
      },
      "id": "jGaKGDO1LLAN"
    },
    {
      "cell_type": "code",
      "source": [
        "global_step_k4 = 0\n",
        "best_epoch_k4 = 0\n",
        "best_val_loss_k4 = np.inf\n",
        "start_time= time()"
      ],
      "metadata": {
        "id": "qbZGtodbJe7R"
      },
      "id": "qbZGtodbJe7R",
      "execution_count": null,
      "outputs": []
    },
    {
      "cell_type": "code",
      "source": [
        "validation_loss_list_k4 = []\n",
        "training_loss_list_k4 = []\n",
        "final_train_loss_k4 = []\n",
        "\n",
        "# train model\n",
        "#masked_flag = 0\n",
        "for epoch in range(20):\n",
        "\n",
        "    params_filename = os.path.join('./', 'k4_MSTGCNepoch_%s.params' % epoch)\n",
        "    masked_flag = 1\n",
        "\n",
        "    if masked_flag:\n",
        "        val_loss = compute_val_loss_mstgcn(model_hour_k4, val_loader, criterion_masked, masked_flag,missing_value,sw, epoch)\n",
        "    else:\n",
        "        val_loss = compute_val_loss_mstgcn(model_hour_k4, val_loader, criterion, masked_flag, missing_value, sw, epoch)\n",
        "\n",
        "    ###appending the validation Loss in the List\n",
        "    validation_loss_list_k4.append(val_loss)\n",
        "    if val_loss < best_val_loss_k4:\n",
        "        best_val_loss_k4 = val_loss\n",
        "        best_epoch_k4 = epoch\n",
        "        torch.save(model_hour_k4.state_dict(), params_filename)\n",
        "        print('save parameters to file: %s' % params_filename)\n",
        "\n",
        "    model_hour_k4.train()  # ensure dropout layers are in train mode\n",
        "\n",
        "    for batch_index, batch_data in enumerate(train_loader):\n",
        "\n",
        "        encoder_inputs, labels = batch_data\n",
        "\n",
        "        optimizer.zero_grad()\n",
        "\n",
        "        outputs = model_hour_k4(encoder_inputs)\n",
        "\n",
        "        if masked_flag:\n",
        "            loss = criterion_masked(outputs, labels,missing_value)\n",
        "        else :\n",
        "            loss = criterion(outputs, labels)\n",
        "\n",
        "\n",
        "        loss.backward()\n",
        "\n",
        "        optimizer.step()\n",
        "\n",
        "        training_loss_k4 = loss.item()\n",
        "\n",
        "        global_step_k4 += 1\n",
        "\n",
        "        training_loss_list_k4.append(training_loss_k4)\n",
        "\n",
        "        sw.add_scalar('training_loss', training_loss_k4, global_step_k4)\n",
        "        #globalstep_training_loss_list.append(training_loss)\n",
        "\n",
        "        if global_step_k4 % 200 == 0:\n",
        "\n",
        "            print('global step: %s, training loss: %.2f, time: %.2fs' % (global_step_k4, training_loss_k4, time() - start_time))\n",
        "\n",
        "    ##Estimating the Total Training Batch Loss\n",
        "    train_batch_loss_k4 = sum(training_loss_list_k4)/len(training_loss_list_k4)\n",
        "    final_train_loss_k4.append(train_batch_loss_k4)\n",
        "\n",
        "print('best epoch:', best_epoch_k4)"
      ],
      "metadata": {
        "colab": {
          "base_uri": "https://localhost:8080/"
        },
        "id": "Sy_4IqdXJfxx",
        "outputId": "a8a905c2-03e8-4f2d-847c-d6cec051e586"
      },
      "id": "Sy_4IqdXJfxx",
      "execution_count": null,
      "outputs": [
        {
          "output_type": "stream",
          "name": "stdout",
          "text": [
            "validation batch 1 / 89, loss: 250.26\n",
            "save parameters to file: ./k4_MSTGCNepoch_0.params\n",
            "global step: 200, training loss: 148.48, time: 81.76s\n",
            "validation batch 1 / 89, loss: 69.56\n",
            "save parameters to file: ./k4_MSTGCNepoch_1.params\n",
            "global step: 400, training loss: 52.83, time: 148.51s\n",
            "validation batch 1 / 89, loss: 38.82\n",
            "save parameters to file: ./k4_MSTGCNepoch_2.params\n",
            "global step: 600, training loss: 37.83, time: 215.21s\n",
            "validation batch 1 / 89, loss: 31.99\n",
            "save parameters to file: ./k4_MSTGCNepoch_3.params\n",
            "global step: 800, training loss: 33.84, time: 281.77s\n",
            "global step: 1000, training loss: 32.43, time: 335.86s\n",
            "validation batch 1 / 89, loss: 33.12\n",
            "save parameters to file: ./k4_MSTGCNepoch_4.params\n",
            "global step: 1200, training loss: 30.61, time: 402.96s\n",
            "validation batch 1 / 89, loss: 31.10\n",
            "save parameters to file: ./k4_MSTGCNepoch_5.params\n",
            "global step: 1400, training loss: 31.09, time: 469.83s\n",
            "validation batch 1 / 89, loss: 33.58\n",
            "global step: 1600, training loss: 29.19, time: 536.45s\n",
            "global step: 1800, training loss: 29.14, time: 590.79s\n",
            "validation batch 1 / 89, loss: 36.12\n",
            "global step: 2000, training loss: 29.22, time: 657.46s\n",
            "validation batch 1 / 89, loss: 32.97\n",
            "save parameters to file: ./k4_MSTGCNepoch_8.params\n",
            "global step: 2200, training loss: 30.83, time: 724.12s\n",
            "validation batch 1 / 89, loss: 30.19\n",
            "save parameters to file: ./k4_MSTGCNepoch_9.params\n",
            "global step: 2400, training loss: 30.50, time: 790.94s\n",
            "global step: 2600, training loss: 29.52, time: 845.00s\n",
            "validation batch 1 / 89, loss: 28.26\n",
            "global step: 2800, training loss: 32.52, time: 911.73s\n",
            "validation batch 1 / 89, loss: 31.10\n",
            "save parameters to file: ./k4_MSTGCNepoch_11.params\n",
            "global step: 3000, training loss: 31.27, time: 978.53s\n",
            "validation batch 1 / 89, loss: 31.77\n",
            "global step: 3200, training loss: 29.11, time: 1045.36s\n",
            "global step: 3400, training loss: 29.11, time: 1099.69s\n",
            "validation batch 1 / 89, loss: 29.90\n",
            "save parameters to file: ./k4_MSTGCNepoch_13.params\n",
            "global step: 3600, training loss: 30.73, time: 1166.50s\n",
            "validation batch 1 / 89, loss: 28.45\n",
            "global step: 3800, training loss: 31.87, time: 1233.42s\n",
            "validation batch 1 / 89, loss: 30.83\n",
            "global step: 4000, training loss: 29.34, time: 1300.20s\n",
            "global step: 4200, training loss: 29.77, time: 1354.59s\n",
            "validation batch 1 / 89, loss: 30.31\n",
            "global step: 4400, training loss: 29.14, time: 1421.39s\n",
            "validation batch 1 / 89, loss: 30.99\n",
            "global step: 4600, training loss: 30.45, time: 1488.23s\n",
            "validation batch 1 / 89, loss: 29.60\n",
            "save parameters to file: ./k4_MSTGCNepoch_18.params\n",
            "global step: 4800, training loss: 29.63, time: 1555.29s\n",
            "global step: 5000, training loss: 31.26, time: 1609.65s\n",
            "validation batch 1 / 89, loss: 28.03\n",
            "global step: 5200, training loss: 30.80, time: 1676.38s\n",
            "best epoch: 18\n"
          ]
        }
      ]
    },
    {
      "cell_type": "code",
      "source": [
        "len(validation_loss_list_k4)"
      ],
      "metadata": {
        "colab": {
          "base_uri": "https://localhost:8080/"
        },
        "id": "ADJw_EFWtPnG",
        "outputId": "9f8f30af-5a9d-43f2-8a2a-dcc9d001ce5c"
      },
      "id": "ADJw_EFWtPnG",
      "execution_count": null,
      "outputs": [
        {
          "output_type": "execute_result",
          "data": {
            "text/plain": [
              "20"
            ]
          },
          "metadata": {},
          "execution_count": 34
        }
      ]
    },
    {
      "cell_type": "code",
      "source": [
        "len(final_train_loss_k4)"
      ],
      "metadata": {
        "colab": {
          "base_uri": "https://localhost:8080/"
        },
        "id": "afQ8788CtVaY",
        "outputId": "9d4b24ae-b20f-4dee-bae5-bafc144022af"
      },
      "id": "afQ8788CtVaY",
      "execution_count": null,
      "outputs": [
        {
          "output_type": "execute_result",
          "data": {
            "text/plain": [
              "20"
            ]
          },
          "metadata": {},
          "execution_count": 35
        }
      ]
    },
    {
      "cell_type": "code",
      "source": [
        "validation_loss_list_k4"
      ],
      "metadata": {
        "colab": {
          "base_uri": "https://localhost:8080/"
        },
        "id": "UBQE2YV_tf1O",
        "outputId": "233826a0-1ddf-4661-d398-be571ccc3c04"
      },
      "id": "UBQE2YV_tf1O",
      "execution_count": null,
      "outputs": [
        {
          "output_type": "execute_result",
          "data": {
            "text/plain": [
              "[304.70098679789,\n",
              " 89.96932308325607,\n",
              " 37.90492010652349,\n",
              " 32.28344109353055,\n",
              " 31.388387787208128,\n",
              " 30.233682846755123,\n",
              " 31.307509561602988,\n",
              " 31.9419434150953,\n",
              " 29.999008221572705,\n",
              " 29.49146367190929,\n",
              " 30.30598136816132,\n",
              " 29.321911436788152,\n",
              " 29.82190710774968,\n",
              " 29.034271379535117,\n",
              " 29.643734106856787,\n",
              " 29.103332626685667,\n",
              " 29.536480207121773,\n",
              " 29.247303887699427,\n",
              " 28.77441164081016,\n",
              " 29.851283405603986]"
            ]
          },
          "metadata": {},
          "execution_count": 36
        }
      ]
    },
    {
      "cell_type": "code",
      "source": [
        "final_train_loss_k4"
      ],
      "metadata": {
        "colab": {
          "base_uri": "https://localhost:8080/"
        },
        "id": "Ozx5BPQNtj0O",
        "outputId": "8273aa92-5295-4bf1-f1ef-f08eb9e5b8bb"
      },
      "id": "Ozx5BPQNtj0O",
      "execution_count": null,
      "outputs": [
        {
          "output_type": "execute_result",
          "data": {
            "text/plain": [
              "[201.187583606648,\n",
              " 127.46818134379836,\n",
              " 96.95964499179672,\n",
              " 80.95715527444516,\n",
              " 71.17904681223743,\n",
              " 64.58763798647706,\n",
              " 59.84919021277415,\n",
              " 56.232865198603214,\n",
              " 53.40406844101112,\n",
              " 51.12005208141399,\n",
              " 49.25820019036583,\n",
              " 47.70208219252292,\n",
              " 46.37411329936566,\n",
              " 45.22373003638337,\n",
              " 44.234375205369865,\n",
              " 43.360774411345425,\n",
              " 42.58045434771844,\n",
              " 41.89275641451342,\n",
              " 41.26905626677709,\n",
              " 40.709694790030426]"
            ]
          },
          "metadata": {},
          "execution_count": 37
        }
      ]
    },
    {
      "cell_type": "code",
      "source": [
        "def re_normalization(x, mean, std):\n",
        "    x = x * std + mean\n",
        "    return x\n",
        "\n",
        "\n",
        "def max_min_normalization(x, _max, _min):\n",
        "    x = 1. * (x - _min)/(_max - _min)\n",
        "    x = x * 2. - 1.\n",
        "    return x\n",
        "\n",
        "\n",
        "def re_max_min_normalization(x, _max, _min):\n",
        "    x = (x + 1.) / 2.\n",
        "    x = 1. * x * (_max - _min) + _min\n",
        "    return x\n"
      ],
      "metadata": {
        "id": "G-rUZ5U6mr7J"
      },
      "id": "G-rUZ5U6mr7J",
      "execution_count": null,
      "outputs": []
    },
    {
      "cell_type": "code",
      "execution_count": null,
      "id": "150ab6f2-1ef0-48ee-ae73-5f47ad7d0dbe",
      "metadata": {
        "id": "150ab6f2-1ef0-48ee-ae73-5f47ad7d0dbe"
      },
      "outputs": [],
      "source": [
        "def predict_and_save_results_astgcn(net, data_loader, data_target_tensor, global_step, metric_method,_mean, _std, params_path, type):\n",
        "    '''\n",
        "\n",
        "    :param net: nn.Module\n",
        "    :param data_loader: torch.utils.data.utils.DataLoader\n",
        "    :param data_target_tensor: tensor\n",
        "    :param epoch: int\n",
        "    :param _mean: (1, 1, 3, 1)\n",
        "    :param _std: (1, 1, 3, 1)\n",
        "    :param params_path: the path for saving the results\n",
        "    :return:\n",
        "    '''\n",
        "    net.train(False)  # ensure dropout layers are in test mode\n",
        "\n",
        "    with torch.no_grad():\n",
        "\n",
        "        data_target_tensor = data_target_tensor.cpu().numpy()\n",
        "\n",
        "        loader_length = len(data_loader)  # nb of batch\n",
        "\n",
        "        prediction = []  #storing the batch output\n",
        "\n",
        "        input = []  #storing the batch input\n",
        "\n",
        "        for batch_index, batch_data in enumerate(data_loader):\n",
        "\n",
        "            encoder_inputs, labels = batch_data\n",
        "\n",
        "            ##Taking only the single input feature\n",
        "            input.append(encoder_inputs[:, :, 0:1].cpu().numpy())  # (batch, T', 1)\n",
        "\n",
        "            outputs = net(encoder_inputs)\n",
        "\n",
        "            prediction.append(outputs.detach().cpu().numpy())\n",
        "\n",
        "            if batch_index % 100 == 0:\n",
        "                print('predicting data set batch %s / %s' % (batch_index + 1, loader_length))\n",
        "\n",
        "        input = np.concatenate(input, 0)\n",
        "\n",
        "        input = re_normalization(input, _mean, _std)\n",
        "\n",
        "        prediction = np.concatenate(prediction, 0)  # (batch, T', 1)\n",
        "\n",
        "        print('input:', input.shape)\n",
        "        print('prediction:', prediction.shape)\n",
        "        print('data_target_tensor:', data_target_tensor.shape)\n",
        "        output_filename = os.path.join(params_path, 'recent_MST_k4output_epoch_%s_%s' % (global_step, type))\n",
        "        np.savez(output_filename, input=input, prediction=prediction, data_target_tensor=data_target_tensor)\n",
        "\n",
        "\n",
        "        excel_list = []\n",
        "\n",
        "        ###prediction length has the shape of feature of a certain node\n",
        "        prediction_length = prediction.shape[2]\n",
        "\n",
        "        for i in range(prediction_length):\n",
        "\n",
        "            ### ensuring number of data samples in target sensor is same as that of prediction tensor\n",
        "            assert data_target_tensor.shape[0] == prediction.shape[0]\n",
        "            print('current epoch: %s, predict %s points' % (global_step, i))\n",
        "            if metric_method == 'mask':\n",
        "\n",
        "                ## calculating the value of the feature prediction of each node for T timesteps\n",
        "                mae = masked_mae_test(data_target_tensor[:, :, i], prediction[:, :, i],0.0)\n",
        "                rmse = masked_rmse_test(data_target_tensor[:, :, i], prediction[:, :, i],0.0)\n",
        "                mape = masked_mape_np(data_target_tensor[:, :, i], prediction[:, :, i], 0)\n",
        "            else :\n",
        "                mae = mean_absolute_error(data_target_tensor[:, :, i], prediction[:, :, i])\n",
        "                rmse = mean_squared_error(data_target_tensor[:, :, i], prediction[:, :, i]) ** 0.5\n",
        "                mape = masked_mape_np(data_target_tensor[:, :, i], prediction[:, :, i], 0)\n",
        "            print('MAE: %.2f' % (mae))\n",
        "            print('RMSE: %.2f' % (rmse))\n",
        "            print('MAPE: %.2f' % (mape))\n",
        "            excel_list.extend([mae, rmse, mape])\n",
        "\n",
        "        # print overall results\n",
        "        if metric_method == 'mask':\n",
        "            mae = masked_mae_test(data_target_tensor.reshape(-1, 1), prediction.reshape(-1, 1), 0.0)\n",
        "            rmse = masked_rmse_test(data_target_tensor.reshape(-1, 1), prediction.reshape(-1, 1), 0.0)\n",
        "            mape = masked_mape_np(data_target_tensor.reshape(-1, 1), prediction.reshape(-1, 1), 0)\n",
        "        else :\n",
        "            mae = mean_absolute_error(data_target_tensor.reshape(-1, 1), prediction.reshape(-1, 1))\n",
        "            rmse = mean_squared_error(data_target_tensor.reshape(-1, 1), prediction.reshape(-1, 1)) ** 0.5\n",
        "            mape = masked_mape_np(data_target_tensor.reshape(-1, 1), prediction.reshape(-1, 1), 0)\n",
        "        print('all MAE: %.2f' % (mae))\n",
        "        print('all RMSE: %.2f' % (rmse))\n",
        "        print('all MAPE: %.2f' % (mape))\n",
        "        excel_list.extend([mae, rmse, mape])\n",
        "        print(excel_list)"
      ]
    },
    {
      "cell_type": "code",
      "source": [
        "def predict_main(global_step, data_loader, data_target_tensor,metric_method, _mean, _std, type):\n",
        "    '''\n",
        "\n",
        "    :param global_step: int\n",
        "    :param data_loader: torch.utils.data.utils.DataLoader\n",
        "    :param data_target_tensor: tensor\n",
        "    :param mean: (1, 1, 3, 1)\n",
        "    :param std: (1, 1, 3, 1)\n",
        "    :param type: string\n",
        "    :return:\n",
        "    '''\n",
        "    params_path = '/content/drive/MyDrive/COMP9491_ASTGCN_Model/MSTGCN_Model_Hourly_07/For_PEMS07/'\n",
        "    params_filename = os.path.join(params_path, 'k4_MSTGCNepoch_%s.params' % global_step)\n",
        "    print('load weight from:', params_filename)\n",
        "\n",
        "    model_hour_k4.load_state_dict(torch.load(params_filename))\n",
        "\n",
        "    predict_and_save_results_astgcn(model_hour_k4, data_loader, data_target_tensor, global_step, metric_method,_mean, _std, params_path, type)"
      ],
      "metadata": {
        "id": "-_oXw5bPpVWC"
      },
      "id": "-_oXw5bPpVWC",
      "execution_count": null,
      "outputs": []
    },
    {
      "cell_type": "markdown",
      "source": [
        "###### Prediction for the Recent Model, when K = 5"
      ],
      "metadata": {
        "id": "qf6v8fyrH_ym"
      },
      "id": "qf6v8fyrH_ym"
    },
    {
      "cell_type": "code",
      "source": [
        "predict_main(best_epoch_k5,test_loader, test_target_tensor,'unmask', _mean, _std, 'test' )"
      ],
      "metadata": {
        "colab": {
          "base_uri": "https://localhost:8080/"
        },
        "id": "xm_VIeRrFzB7",
        "outputId": "1b1dac84-676a-4776-e9eb-198a7b613280"
      },
      "id": "xm_VIeRrFzB7",
      "execution_count": null,
      "outputs": [
        {
          "output_type": "stream",
          "name": "stdout",
          "text": [
            "load weight from: /content/drive/MyDrive/COMP9491_ASTGCN_Model/Dataset_PEMS07/Best_Epoch_Saved_Recent/epoch_19.params\n",
            "predicting data set batch 1 / 89\n",
            "input: (5641, 883, 1, 12)\n",
            "prediction: (5641, 883, 12)\n",
            "data_target_tensor: (5641, 883, 12)\n",
            "current epoch: 19, predict 0 points\n",
            "MAE: 20.50\n",
            "RMSE: 31.70\n",
            "MAPE: 0.09\n",
            "current epoch: 19, predict 1 points\n",
            "MAE: 22.47\n",
            "RMSE: 34.84\n",
            "MAPE: 0.10\n",
            "current epoch: 19, predict 2 points\n",
            "MAE: 24.11\n",
            "RMSE: 37.38\n",
            "MAPE: 0.10\n",
            "current epoch: 19, predict 3 points\n",
            "MAE: 25.44\n",
            "RMSE: 39.51\n",
            "MAPE: 0.11\n",
            "current epoch: 19, predict 4 points\n",
            "MAE: 26.66\n",
            "RMSE: 41.48\n",
            "MAPE: 0.11\n",
            "current epoch: 19, predict 5 points\n",
            "MAE: 27.88\n",
            "RMSE: 43.39\n",
            "MAPE: 0.12\n",
            "current epoch: 19, predict 6 points\n",
            "MAE: 29.15\n",
            "RMSE: 45.32\n",
            "MAPE: 0.12\n",
            "current epoch: 19, predict 7 points\n",
            "MAE: 30.38\n",
            "RMSE: 47.19\n",
            "MAPE: 0.13\n",
            "current epoch: 19, predict 8 points\n",
            "MAE: 31.60\n",
            "RMSE: 49.06\n",
            "MAPE: 0.13\n",
            "current epoch: 19, predict 9 points\n",
            "MAE: 32.87\n",
            "RMSE: 50.98\n",
            "MAPE: 0.14\n",
            "current epoch: 19, predict 10 points\n",
            "MAE: 34.31\n",
            "RMSE: 53.15\n",
            "MAPE: 0.15\n",
            "current epoch: 19, predict 11 points\n",
            "MAE: 35.93\n",
            "RMSE: 55.47\n",
            "MAPE: 0.16\n",
            "all MAE: 28.44\n",
            "all RMSE: 44.69\n",
            "all MAPE: 0.12\n",
            "[20.500383, 31.695063122940574, 0.088289194, 22.472036, 34.84010806359263, 0.09583753, 24.105495, 37.383214959954785, 0.102248766, 25.437212, 39.51290489599964, 0.10749251, 26.659807, 41.48007422386304, 0.112516046, 27.877207, 43.39153508903335, 0.11762173, 29.147272, 45.31928020393887, 0.123110496, 30.379274, 47.19258043842803, 0.12857915, 31.59932, 49.06241789403958, 0.13434741, 32.86769, 50.9764182229759, 0.14039682, 34.312355, 53.14571517079834, 0.1477893, 35.9344, 55.469073502577764, 0.15541579, 28.441034, 44.69209985067271, 0.12113667]\n"
          ]
        }
      ]
    },
    {
      "cell_type": "markdown",
      "source": [
        "###### Prediction for the Recent Model, when K = 4"
      ],
      "metadata": {
        "id": "jkCBeIKVtzKp"
      },
      "id": "jkCBeIKVtzKp"
    },
    {
      "cell_type": "code",
      "source": [
        "predict_main(best_epoch_k4,test_loader, test_target_tensor,'unmask', _mean, _std, 'test' )"
      ],
      "metadata": {
        "colab": {
          "base_uri": "https://localhost:8080/"
        },
        "id": "IrNDakX7lnzd",
        "outputId": "7c2d24aa-641b-4040-86d7-2e6a788c26f3"
      },
      "id": "IrNDakX7lnzd",
      "execution_count": null,
      "outputs": [
        {
          "output_type": "stream",
          "name": "stdout",
          "text": [
            "load weight from: /content/drive/MyDrive/COMP9491_ASTGCN_Model/MSTGCN_Model_Hourly_07/For_PEMS07/k4_MSTGCNepoch_18.params\n",
            "predicting data set batch 1 / 89\n",
            "input: (5641, 883, 1, 12)\n",
            "prediction: (5641, 883, 12)\n",
            "data_target_tensor: (5641, 883, 12)\n",
            "current epoch: 18, predict 0 points\n",
            "MAE: 19.40\n",
            "RMSE: 30.05\n",
            "MAPE: 0.09\n",
            "current epoch: 18, predict 1 points\n",
            "MAE: 21.79\n",
            "RMSE: 33.57\n",
            "MAPE: 0.10\n",
            "current epoch: 18, predict 2 points\n",
            "MAE: 23.67\n",
            "RMSE: 36.23\n",
            "MAPE: 0.11\n",
            "current epoch: 18, predict 3 points\n",
            "MAE: 25.19\n",
            "RMSE: 38.43\n",
            "MAPE: 0.12\n",
            "current epoch: 18, predict 4 points\n",
            "MAE: 26.59\n",
            "RMSE: 40.45\n",
            "MAPE: 0.12\n",
            "current epoch: 18, predict 5 points\n",
            "MAE: 28.10\n",
            "RMSE: 42.53\n",
            "MAPE: 0.13\n",
            "current epoch: 18, predict 6 points\n",
            "MAE: 29.71\n",
            "RMSE: 44.67\n",
            "MAPE: 0.13\n",
            "current epoch: 18, predict 7 points\n",
            "MAE: 31.29\n",
            "RMSE: 46.70\n",
            "MAPE: 0.14\n",
            "current epoch: 18, predict 8 points\n",
            "MAE: 32.82\n",
            "RMSE: 48.65\n",
            "MAPE: 0.15\n",
            "current epoch: 18, predict 9 points\n",
            "MAE: 34.36\n",
            "RMSE: 50.63\n",
            "MAPE: 0.16\n",
            "current epoch: 18, predict 10 points\n",
            "MAE: 36.08\n",
            "RMSE: 52.90\n",
            "MAPE: 0.17\n",
            "current epoch: 18, predict 11 points\n",
            "MAE: 38.10\n",
            "RMSE: 55.55\n",
            "MAPE: 0.18\n",
            "all MAE: 28.93\n",
            "all RMSE: 44.02\n",
            "all MAPE: 0.13\n",
            "[19.403963, 30.048408615957726, 0.093068264, 21.789377, 33.56735336475103, 0.10237315, 23.667557, 36.226987913989106, 0.11017062, 25.190598, 38.42947388256343, 0.11575117, 26.59371, 40.45043625189659, 0.121343836, 28.10019, 42.532392297297946, 0.1280487, 29.711008, 44.66681940612489, 0.13496245, 31.288818, 46.70345955885522, 0.14303401, 32.821217, 48.647982699215035, 0.15105374, 34.356926, 50.626711969510225, 0.15972354, 36.081787, 52.900781428833824, 0.16916052, 38.09604, 55.54894291157798, 0.18028508, 28.925203, 44.02116439894636, 0.13408089]\n"
          ]
        }
      ]
    },
    {
      "cell_type": "markdown",
      "source": [
        "###### ASTGCN_Hourly Model when K=3 Neighbors consisdered for each verted for Spatial Attention"
      ],
      "metadata": {
        "id": "bY_lRLNtO3Z_"
      },
      "id": "bY_lRLNtO3Z_"
    },
    {
      "cell_type": "code",
      "execution_count": null,
      "id": "56b47792-b522-463a-a51c-75e67484ee60",
      "metadata": {
        "id": "56b47792-b522-463a-a51c-75e67484ee60"
      },
      "outputs": [],
      "source": [
        "model_hour_k3 = make_model(DEVICE, 2, 1, 3,\n",
        "                        64, 64, 1, adj_mx,\n",
        "                        12, 12, 883)"
      ]
    },
    {
      "cell_type": "markdown",
      "id": "2855386a-e2f4-4c73-8595-6ef4a9e24456",
      "metadata": {
        "id": "2855386a-e2f4-4c73-8595-6ef4a9e24456"
      },
      "source": [
        "###### Printing the Configuration of the Model"
      ]
    },
    {
      "cell_type": "code",
      "execution_count": null,
      "id": "377df7cf-a6df-4522-9bd5-4072c24bebe0",
      "metadata": {
        "colab": {
          "base_uri": "https://localhost:8080/"
        },
        "id": "377df7cf-a6df-4522-9bd5-4072c24bebe0",
        "outputId": "7e9eb26c-2910-4b53-eae9-6fc9a811d877"
      },
      "outputs": [
        {
          "output_type": "stream",
          "name": "stdout",
          "text": [
            "ASTGCN_submodule(\n",
            "  (BlockList): ModuleList(\n",
            "    (0): ASTGCN_block(\n",
            "      (TAt): Temporal_Attention_layer()\n",
            "      (SAt): Spatial_Attention_layer()\n",
            "      (cheb_conv_SAt): cheb_conv_withSAt(\n",
            "        (Theta): ParameterList(\n",
            "            (0): Parameter containing: [torch.float32 of size 1x64 (cuda:0)]\n",
            "            (1): Parameter containing: [torch.float32 of size 1x64 (cuda:0)]\n",
            "            (2): Parameter containing: [torch.float32 of size 1x64 (cuda:0)]\n",
            "        )\n",
            "      )\n",
            "      (time_conv): Conv2d(64, 64, kernel_size=(1, 3), stride=(1, 1), padding=(0, 1))\n",
            "      (residual_conv): Conv2d(1, 64, kernel_size=(1, 1), stride=(1, 1))\n",
            "      (ln): LayerNorm((64,), eps=1e-05, elementwise_affine=True)\n",
            "    )\n",
            "    (1): ASTGCN_block(\n",
            "      (TAt): Temporal_Attention_layer()\n",
            "      (SAt): Spatial_Attention_layer()\n",
            "      (cheb_conv_SAt): cheb_conv_withSAt(\n",
            "        (Theta): ParameterList(\n",
            "            (0): Parameter containing: [torch.float32 of size 64x64 (cuda:0)]\n",
            "            (1): Parameter containing: [torch.float32 of size 64x64 (cuda:0)]\n",
            "            (2): Parameter containing: [torch.float32 of size 64x64 (cuda:0)]\n",
            "        )\n",
            "      )\n",
            "      (time_conv): Conv2d(64, 64, kernel_size=(1, 3), stride=(1, 1), padding=(0, 1))\n",
            "      (residual_conv): Conv2d(64, 64, kernel_size=(1, 1), stride=(1, 1))\n",
            "      (ln): LayerNorm((64,), eps=1e-05, elementwise_affine=True)\n",
            "    )\n",
            "  )\n",
            "  (final_conv): Conv2d(12, 12, kernel_size=(1, 64), stride=(1, 1))\n",
            ")\n"
          ]
        }
      ],
      "source": [
        "print(model_hour_k3)"
      ]
    },
    {
      "cell_type": "markdown",
      "id": "387728e5-1c92-4d7e-be7f-e75023315e42",
      "metadata": {
        "id": "387728e5-1c92-4d7e-be7f-e75023315e42"
      },
      "source": [
        "###### Printing the Parameter Size and Configurations of the Model\n",
        "###### Initializing the Learning Rate and Optimizer for the Model"
      ]
    },
    {
      "cell_type": "code",
      "execution_count": null,
      "id": "4f335097-ebb8-453f-b2dc-43ec38d7c419",
      "metadata": {
        "id": "4f335097-ebb8-453f-b2dc-43ec38d7c419"
      },
      "outputs": [],
      "source": [
        "learning_rate = 0.001\n",
        "optimizer = optim.Adam(model_hour_k3.parameters(), lr=learning_rate)"
      ]
    },
    {
      "cell_type": "markdown",
      "id": "ad5c33cf-e03b-47cc-a7a3-6682c0ad4fd0",
      "metadata": {
        "id": "ad5c33cf-e03b-47cc-a7a3-6682c0ad4fd0"
      },
      "source": [
        "###### Displaying the Size of the Parameter tensor and the device in which the tensors are stored"
      ]
    },
    {
      "cell_type": "code",
      "execution_count": null,
      "id": "84aabfac-8b2f-4a27-9921-7327674484d3",
      "metadata": {
        "colab": {
          "base_uri": "https://localhost:8080/"
        },
        "id": "84aabfac-8b2f-4a27-9921-7327674484d3",
        "outputId": "ddcdb3c8-fbb2-4456-b042-dbba75d473fa"
      },
      "outputs": [
        {
          "output_type": "stream",
          "name": "stdout",
          "text": [
            "Net's state_dict:\n",
            "BlockList.0.TAt.U1 \t torch.Size([883]) \t cuda:0\n",
            "BlockList.0.TAt.U2 \t torch.Size([1, 883]) \t cuda:0\n",
            "BlockList.0.TAt.U3 \t torch.Size([1]) \t cuda:0\n",
            "BlockList.0.TAt.be \t torch.Size([1, 12, 12]) \t cuda:0\n",
            "BlockList.0.TAt.Ve \t torch.Size([12, 12]) \t cuda:0\n",
            "BlockList.0.SAt.W1 \t torch.Size([12]) \t cuda:0\n",
            "BlockList.0.SAt.W2 \t torch.Size([1, 12]) \t cuda:0\n",
            "BlockList.0.SAt.W3 \t torch.Size([1]) \t cuda:0\n",
            "BlockList.0.SAt.bs \t torch.Size([1, 883, 883]) \t cuda:0\n",
            "BlockList.0.SAt.Vs \t torch.Size([883, 883]) \t cuda:0\n",
            "BlockList.0.cheb_conv_SAt.Theta.0 \t torch.Size([1, 64]) \t cuda:0\n",
            "BlockList.0.cheb_conv_SAt.Theta.1 \t torch.Size([1, 64]) \t cuda:0\n",
            "BlockList.0.cheb_conv_SAt.Theta.2 \t torch.Size([1, 64]) \t cuda:0\n",
            "BlockList.0.time_conv.weight \t torch.Size([64, 64, 1, 3]) \t cuda:0\n",
            "BlockList.0.time_conv.bias \t torch.Size([64]) \t cuda:0\n",
            "BlockList.0.residual_conv.weight \t torch.Size([64, 1, 1, 1]) \t cuda:0\n",
            "BlockList.0.residual_conv.bias \t torch.Size([64]) \t cuda:0\n",
            "BlockList.0.ln.weight \t torch.Size([64]) \t cuda:0\n",
            "BlockList.0.ln.bias \t torch.Size([64]) \t cuda:0\n",
            "BlockList.1.TAt.U1 \t torch.Size([883]) \t cuda:0\n",
            "BlockList.1.TAt.U2 \t torch.Size([64, 883]) \t cuda:0\n",
            "BlockList.1.TAt.U3 \t torch.Size([64]) \t cuda:0\n",
            "BlockList.1.TAt.be \t torch.Size([1, 12, 12]) \t cuda:0\n",
            "BlockList.1.TAt.Ve \t torch.Size([12, 12]) \t cuda:0\n",
            "BlockList.1.SAt.W1 \t torch.Size([12]) \t cuda:0\n",
            "BlockList.1.SAt.W2 \t torch.Size([64, 12]) \t cuda:0\n",
            "BlockList.1.SAt.W3 \t torch.Size([64]) \t cuda:0\n",
            "BlockList.1.SAt.bs \t torch.Size([1, 883, 883]) \t cuda:0\n",
            "BlockList.1.SAt.Vs \t torch.Size([883, 883]) \t cuda:0\n",
            "BlockList.1.cheb_conv_SAt.Theta.0 \t torch.Size([64, 64]) \t cuda:0\n",
            "BlockList.1.cheb_conv_SAt.Theta.1 \t torch.Size([64, 64]) \t cuda:0\n",
            "BlockList.1.cheb_conv_SAt.Theta.2 \t torch.Size([64, 64]) \t cuda:0\n",
            "BlockList.1.time_conv.weight \t torch.Size([64, 64, 1, 3]) \t cuda:0\n",
            "BlockList.1.time_conv.bias \t torch.Size([64]) \t cuda:0\n",
            "BlockList.1.residual_conv.weight \t torch.Size([64, 64, 1, 1]) \t cuda:0\n",
            "BlockList.1.residual_conv.bias \t torch.Size([64]) \t cuda:0\n",
            "BlockList.1.ln.weight \t torch.Size([64]) \t cuda:0\n",
            "BlockList.1.ln.bias \t torch.Size([64]) \t cuda:0\n",
            "final_conv.weight \t torch.Size([12, 12, 1, 64]) \t cuda:0\n",
            "final_conv.bias \t torch.Size([12]) \t cuda:0\n",
            "Net's total params: 3230383\n",
            "Optimizer's state_dict:\n",
            "state \t {}\n",
            "param_groups \t [{'lr': 0.001, 'betas': (0.9, 0.999), 'eps': 1e-08, 'weight_decay': 0, 'amsgrad': False, 'maximize': False, 'foreach': None, 'capturable': False, 'differentiable': False, 'fused': None, 'params': [0, 1, 2, 3, 4, 5, 6, 7, 8, 9, 10, 11, 12, 13, 14, 15, 16, 17, 18, 19, 20, 21, 22, 23, 24, 25, 26, 27, 28, 29, 30, 31, 32, 33, 34, 35, 36, 37, 38, 39]}]\n"
          ]
        }
      ],
      "source": [
        "print('Net\\'s state_dict:')\n",
        "total_param = 0\n",
        "for param_tensor in model_hour_k3.state_dict():\n",
        "    print(param_tensor, '\\t', model_hour_k3.state_dict()[param_tensor].size(), '\\t', model_hour_k3.state_dict()[param_tensor].device)\n",
        "    total_param += np.prod(model_hour_k3.state_dict()[param_tensor].size())\n",
        "print('Net\\'s total params:', total_param)\n",
        "#--------------------------------------------------\n",
        "print('Optimizer\\'s state_dict:')\n",
        "for var_name in optimizer.state_dict():\n",
        "    print(var_name, '\\t', optimizer.state_dict()[var_name])"
      ]
    },
    {
      "cell_type": "markdown",
      "id": "601f1ab6-f5f9-4758-8bf1-f54e709c69de",
      "metadata": {
        "id": "601f1ab6-f5f9-4758-8bf1-f54e709c69de"
      },
      "source": [
        "###### Function for Computing Validation Loss for the Model"
      ]
    },
    {
      "cell_type": "code",
      "execution_count": null,
      "id": "3c707a16-c0af-405a-b20e-c297abea8b9f",
      "metadata": {
        "id": "3c707a16-c0af-405a-b20e-c297abea8b9f"
      },
      "outputs": [],
      "source": [
        "global_step_k3 = 0\n",
        "best_epoch_k3 = 0\n",
        "best_val_loss_k3 = np.inf\n",
        "start_time= time()"
      ]
    },
    {
      "cell_type": "markdown",
      "id": "1094611f-f408-4339-8ae2-a325d2a2a320",
      "metadata": {
        "id": "1094611f-f408-4339-8ae2-a325d2a2a320"
      },
      "source": [
        "###### Training Loop Starts"
      ]
    },
    {
      "cell_type": "code",
      "execution_count": null,
      "id": "8af7519c-3ddb-4354-bdad-57dbc75b71aa",
      "metadata": {
        "colab": {
          "base_uri": "https://localhost:8080/"
        },
        "id": "8af7519c-3ddb-4354-bdad-57dbc75b71aa",
        "outputId": "68aba3b9-7e73-43e4-cae4-12f4df7613e4"
      },
      "outputs": [
        {
          "output_type": "stream",
          "name": "stdout",
          "text": [
            "validation batch 1 / 89, loss: 249.52\n",
            "save parameters to file: ./k3_epoch_0.params\n",
            "global step: 200, training loss: 154.30, time: 303.51s\n",
            "validation batch 1 / 89, loss: 67.63\n",
            "save parameters to file: ./k3_epoch_1.params\n",
            "global step: 400, training loss: 57.95, time: 575.30s\n",
            "validation batch 1 / 89, loss: 51.20\n",
            "save parameters to file: ./k3_epoch_2.params\n",
            "global step: 600, training loss: 53.45, time: 846.93s\n",
            "validation batch 1 / 89, loss: 46.57\n",
            "save parameters to file: ./k3_epoch_3.params\n",
            "global step: 800, training loss: 48.23, time: 1118.63s\n",
            "global step: 1000, training loss: 46.61, time: 1356.39s\n",
            "validation batch 1 / 89, loss: 45.88\n",
            "save parameters to file: ./k3_epoch_4.params\n",
            "global step: 1200, training loss: 47.09, time: 1628.09s\n",
            "validation batch 1 / 89, loss: 45.90\n",
            "save parameters to file: ./k3_epoch_5.params\n",
            "global step: 1400, training loss: 39.63, time: 1899.80s\n",
            "validation batch 1 / 89, loss: 51.01\n",
            "save parameters to file: ./k3_epoch_6.params\n",
            "global step: 1600, training loss: 50.85, time: 2171.55s\n",
            "global step: 1800, training loss: 43.69, time: 2409.30s\n",
            "validation batch 1 / 89, loss: 46.31\n",
            "save parameters to file: ./k3_epoch_7.params\n",
            "global step: 2000, training loss: 47.05, time: 2681.07s\n",
            "validation batch 1 / 89, loss: 43.92\n",
            "save parameters to file: ./k3_epoch_8.params\n",
            "global step: 2200, training loss: 36.08, time: 2952.80s\n",
            "validation batch 1 / 89, loss: 37.74\n",
            "save parameters to file: ./k3_epoch_9.params\n",
            "global step: 2400, training loss: 36.30, time: 3224.58s\n",
            "global step: 2600, training loss: 35.70, time: 3462.43s\n",
            "validation batch 1 / 89, loss: 37.13\n",
            "save parameters to file: ./k3_epoch_10.params\n",
            "global step: 2800, training loss: 31.95, time: 3734.20s\n",
            "validation batch 1 / 89, loss: 33.23\n",
            "save parameters to file: ./k3_epoch_11.params\n",
            "global step: 3000, training loss: 34.94, time: 4005.97s\n",
            "validation batch 1 / 89, loss: 34.99\n",
            "save parameters to file: ./k3_epoch_12.params\n",
            "global step: 3200, training loss: 32.26, time: 4277.74s\n",
            "global step: 3400, training loss: 30.59, time: 4515.50s\n",
            "validation batch 1 / 89, loss: 34.65\n",
            "save parameters to file: ./k3_epoch_13.params\n",
            "global step: 3600, training loss: 34.21, time: 4787.29s\n",
            "validation batch 1 / 89, loss: 31.79\n",
            "save parameters to file: ./k3_epoch_14.params\n",
            "global step: 3800, training loss: 29.33, time: 5059.01s\n",
            "validation batch 1 / 89, loss: 31.87\n",
            "save parameters to file: ./k3_epoch_15.params\n",
            "global step: 4000, training loss: 31.14, time: 5330.77s\n",
            "global step: 4200, training loss: 30.58, time: 5568.57s\n",
            "validation batch 1 / 89, loss: 31.43\n",
            "save parameters to file: ./k3_epoch_16.params\n",
            "global step: 4400, training loss: 29.39, time: 5840.37s\n",
            "validation batch 1 / 89, loss: 33.39\n",
            "global step: 4600, training loss: 33.15, time: 6112.11s\n",
            "validation batch 1 / 89, loss: 30.71\n",
            "save parameters to file: ./k3_epoch_18.params\n",
            "global step: 4800, training loss: 31.43, time: 6383.93s\n",
            "global step: 5000, training loss: 32.78, time: 6621.75s\n",
            "validation batch 1 / 89, loss: 30.89\n",
            "save parameters to file: ./k3_epoch_19.params\n",
            "global step: 5200, training loss: 27.71, time: 6893.60s\n",
            "best epoch: 19\n"
          ]
        }
      ],
      "source": [
        "validation_loss_list_k3 = []\n",
        "training_loss_list_k3 = []\n",
        "final_train_loss_k3 = []\n",
        "\n",
        "# train model\n",
        "#masked_flag = 0\n",
        "for epoch in range(20):\n",
        "\n",
        "    params_filename = os.path.join('./', 'k3_epoch_%s.params' % epoch)\n",
        "    masked_flag = 1\n",
        "\n",
        "    if masked_flag:\n",
        "        val_loss = compute_val_loss_astgcn(model_hour_k3, val_loader, criterion_masked, masked_flag,missing_value,sw, epoch)\n",
        "    else:\n",
        "        val_loss = compute_val_loss_astgcn(model_hour_k3, val_loader, criterion, masked_flag, missing_value, sw, epoch)\n",
        "\n",
        "    ###appending the validation Loss in the List\n",
        "    validation_loss_list_k3.append(val_loss)\n",
        "    if val_loss < best_val_loss_k3:\n",
        "        best_val_loss_k3 = val_loss\n",
        "        best_epoch_k3 = epoch\n",
        "        torch.save(model_hour_k3.state_dict(), params_filename)\n",
        "        print('save parameters to file: %s' % params_filename)\n",
        "\n",
        "    model_hour_k3.train()  # ensure dropout layers are in train mode\n",
        "\n",
        "    for batch_index, batch_data in enumerate(train_loader):\n",
        "\n",
        "        encoder_inputs, labels = batch_data\n",
        "\n",
        "        optimizer.zero_grad()\n",
        "\n",
        "        outputs = model_hour_k3(encoder_inputs)\n",
        "\n",
        "        if masked_flag:\n",
        "            loss = criterion_masked(outputs, labels,missing_value)\n",
        "        else :\n",
        "            loss = criterion(outputs, labels)\n",
        "\n",
        "\n",
        "        loss.backward()\n",
        "\n",
        "        optimizer.step()\n",
        "\n",
        "        training_loss_k3 = loss.item()\n",
        "\n",
        "        global_step_k3 += 1\n",
        "\n",
        "        training_loss_list_k3.append(training_loss_k3)\n",
        "\n",
        "        sw.add_scalar('training_loss', training_loss_k3, global_step_k3)\n",
        "        #globalstep_training_loss_list.append(training_loss)\n",
        "\n",
        "        if global_step_k3 % 200 == 0:\n",
        "\n",
        "            print('global step: %s, training loss: %.2f, time: %.2fs' % (global_step_k3, training_loss_k3, time() - start_time))\n",
        "\n",
        "    ##Estimating the Total Training Batch Loss\n",
        "    train_batch_loss_k3 = sum(training_loss_list_k3)/len(training_loss_list_k3)\n",
        "    final_train_loss_k3.append(train_batch_loss_k3)\n",
        "\n",
        "print('best epoch:', best_epoch_k3)"
      ]
    },
    {
      "cell_type": "code",
      "source": [
        "len(validation_loss_list_k3)"
      ],
      "metadata": {
        "colab": {
          "base_uri": "https://localhost:8080/"
        },
        "id": "bV-JclkBAjsF",
        "outputId": "2b15edf6-191c-4304-8c84-a94469206473"
      },
      "id": "bV-JclkBAjsF",
      "execution_count": null,
      "outputs": [
        {
          "output_type": "execute_result",
          "data": {
            "text/plain": [
              "20"
            ]
          },
          "metadata": {},
          "execution_count": 152
        }
      ]
    },
    {
      "cell_type": "code",
      "source": [
        "len(final_train_loss_k3)"
      ],
      "metadata": {
        "id": "SZiqKW_eArHu",
        "outputId": "8ae49dc2-30cd-4add-9cdd-eb9714701702",
        "colab": {
          "base_uri": "https://localhost:8080/"
        }
      },
      "id": "SZiqKW_eArHu",
      "execution_count": null,
      "outputs": [
        {
          "output_type": "execute_result",
          "data": {
            "text/plain": [
              "20"
            ]
          },
          "metadata": {},
          "execution_count": 153
        }
      ]
    },
    {
      "cell_type": "code",
      "source": [
        "validation_loss_list_k3"
      ],
      "metadata": {
        "colab": {
          "base_uri": "https://localhost:8080/"
        },
        "id": "rEUHKenNQLZg",
        "outputId": "5c02abe3-586b-43c9-b7ca-181c7fca05d5"
      },
      "id": "rEUHKenNQLZg",
      "execution_count": null,
      "outputs": [
        {
          "output_type": "execute_result",
          "data": {
            "text/plain": [
              "[303.9463801008932,\n",
              " 97.54425252421518,\n",
              " 49.390834958365794,\n",
              " 45.78512808981906,\n",
              " 44.3807763088955,\n",
              " 43.08159125253056,\n",
              " 42.36077122206098,\n",
              " 40.75175718243202,\n",
              " 38.74783764528424,\n",
              " 36.35811124223002,\n",
              " 34.024385988042596,\n",
              " 32.66699535927076,\n",
              " 31.688260560625054,\n",
              " 31.322705215282653,\n",
              " 30.61341782902064,\n",
              " 30.313997118660573,\n",
              " 30.07683413216237,\n",
              " 30.223679874720197,\n",
              " 29.729561002066966,\n",
              " 29.629267789004892]"
            ]
          },
          "metadata": {},
          "execution_count": 154
        }
      ]
    },
    {
      "cell_type": "code",
      "source": [
        "final_train_loss_k3"
      ],
      "metadata": {
        "colab": {
          "base_uri": "https://localhost:8080/"
        },
        "id": "AIX8VRRSQWWA",
        "outputId": "3b521d1c-3d37-4a51-80a4-fb84ca3a4acb"
      },
      "id": "AIX8VRRSQWWA",
      "execution_count": null,
      "outputs": [
        {
          "output_type": "execute_result",
          "data": {
            "text/plain": [
              "[207.01743558487803,\n",
              " 136.3899186908074,\n",
              " 107.28820718729271,\n",
              " 92.17108361586085,\n",
              " 82.82465735957308,\n",
              " 76.3701200929078,\n",
              " 71.55764939958516,\n",
              " 67.76325518410161,\n",
              " 64.57239337817178,\n",
              " 61.78084336478755,\n",
              " 59.32316293667356,\n",
              " 57.184248281874744,\n",
              " 55.308664692296,\n",
              " 53.65746161262944,\n",
              " 52.1930054819359,\n",
              " 50.9033441057745,\n",
              " 49.746305234530126,\n",
              " 48.70952381557888,\n",
              " 47.76962479721115,\n",
              " 46.921367155830815]"
            ]
          },
          "metadata": {},
          "execution_count": 155
        }
      ]
    },
    {
      "cell_type": "code",
      "source": [
        "import matplotlib.pyplot as plt\n",
        "import numpy as np\n",
        "\n",
        "\n",
        "x = np.arange(len(validation_loss_list_k3))  # Creating x-axis values\n",
        "\n",
        "\n",
        "# Create the plot\n",
        "plt.figure(figsize=(10, 6))  # Optional: set the figure size\n",
        "\n",
        "# Plot both lines\n",
        "plt.plot(x, validation_loss_list_k3, color='blue', label='Validation_k=3')\n",
        "plt.plot(x, validation_loss_list_k4, color='red', label='Validation_k=4')\n",
        "plt.plot(x, validation_loss_list, color='green', label='Validation_k=5')\n",
        "\n",
        "# Add labels and title\n",
        "plt.xlabel('Number of Iterations')\n",
        "plt.ylabel('Validation Loss for  Different K')\n",
        "plt.title('Plot of Validation Loss ')\n",
        "\n",
        "# Add a legend\n",
        "plt.legend()\n",
        "\n",
        "# Display the plot\n",
        "plt.grid(True)  # Optional: add a grid\n",
        "plt.show()"
      ],
      "metadata": {
        "colab": {
          "base_uri": "https://localhost:8080/",
          "height": 564
        },
        "id": "H-1n-51UQ91w",
        "outputId": "a5338211-9f7a-449d-daa8-102f6d845bc3"
      },
      "id": "H-1n-51UQ91w",
      "execution_count": null,
      "outputs": [
        {
          "output_type": "display_data",
          "data": {
            "text/plain": [
              "<Figure size 1000x600 with 1 Axes>"
            ],
            "image/png": "[encoded data removed]"
          },
          "metadata": {}
        }
      ]
    },
    {
      "cell_type": "code",
      "source": [
        "import matplotlib.pyplot as plt\n",
        "import numpy as np\n",
        "\n",
        "\n",
        "x = np.arange(len(validation_loss_list_k3))  # Creating x-axis values\n",
        "\n",
        "\n",
        "# Create the plot\n",
        "plt.figure(figsize=(10, 6))  # Optional: set the figure size\n",
        "\n",
        "# Plot both lines\n",
        "plt.plot(x, final_train_loss_k3, color='blue', label='Training_k=3')\n",
        "plt.plot(x, final_train_loss_k4, color='red', label='Training_k=4')\n",
        "plt.plot(x, final_train_loss, color='green', label='Training_k=5')\n",
        "\n",
        "# Add labels and title\n",
        "plt.xlabel('Number of Iterations')\n",
        "plt.ylabel('Training Loss for  Different K')\n",
        "plt.title('Plot of Training Loss ')\n",
        "\n",
        "# Add a legend\n",
        "plt.legend()\n",
        "\n",
        "# Display the plot\n",
        "plt.grid(True)  # Optional: add a grid\n",
        "plt.show()"
      ],
      "metadata": {
        "colab": {
          "base_uri": "https://localhost:8080/",
          "height": 564
        },
        "id": "65sNYzS3wrzu",
        "outputId": "ac47c235-7859-4a7e-bec4-54d3a4e1314b"
      },
      "id": "65sNYzS3wrzu",
      "execution_count": null,
      "outputs": [
        {
          "output_type": "display_data",
          "data": {
            "text/plain": [
              "<Figure size 1000x600 with 1 Axes>"
            ],
            "image/png": "[encoded data removed]"
          },
          "metadata": {}
        }
      ]
    },
    {
      "cell_type": "markdown",
      "source": [
        "##### Functions defined to Normalize the Inputs"
      ],
      "metadata": {
        "id": "Tt6h_xZtmz-N"
      },
      "id": "Tt6h_xZtmz-N"
    },
    {
      "cell_type": "markdown",
      "source": [
        "#### Prediction Function"
      ],
      "metadata": {
        "id": "A9r1AuDPmXAy"
      },
      "id": "A9r1AuDPmXAy"
    },
    {
      "cell_type": "markdown",
      "source": [
        "#### Driver Function For Calling the Prediction Method"
      ],
      "metadata": {
        "id": "PxfJqIhZqmCB"
      },
      "id": "PxfJqIhZqmCB"
    },
    {
      "cell_type": "markdown",
      "source": [
        "#####Prediction from model having K = 3 Neighbors"
      ],
      "metadata": {
        "id": "sU2G2Of2vxXt"
      },
      "id": "sU2G2Of2vxXt"
    },
    {
      "cell_type": "code",
      "source": [
        "predict_main(best_epoch_k3,test_loader, test_target_tensor,'unmask', _mean, _std, 'test' )"
      ],
      "metadata": {
        "colab": {
          "base_uri": "https://localhost:8080/"
        },
        "id": "GXaZT1rRqzIc",
        "outputId": "3895b76f-c8eb-4937-973a-c96009b9b62a"
      },
      "id": "GXaZT1rRqzIc",
      "execution_count": null,
      "outputs": [
        {
          "output_type": "stream",
          "name": "stdout",
          "text": [
            "load weight from: /content/drive/MyDrive/COMP9491_ASTGCN_Model/Dataset_PEMS07/Best_Epoch_Saved_Recent/k3_epoch_19.params\n",
            "predicting data set batch 1 / 89\n",
            "input: (5641, 883, 1, 12)\n",
            "prediction: (5641, 883, 12)\n",
            "data_target_tensor: (5641, 883, 12)\n",
            "current epoch: 19, predict 0 points\n",
            "MAE: 20.07\n",
            "RMSE: 30.87\n",
            "MAPE: 0.09\n",
            "current epoch: 19, predict 1 points\n",
            "MAE: 22.36\n",
            "RMSE: 34.29\n",
            "MAPE: 0.10\n",
            "current epoch: 19, predict 2 points\n",
            "MAE: 24.27\n",
            "RMSE: 36.99\n",
            "MAPE: 0.11\n",
            "current epoch: 19, predict 3 points\n",
            "MAE: 25.89\n",
            "RMSE: 39.31\n",
            "MAPE: 0.12\n",
            "current epoch: 19, predict 4 points\n",
            "MAE: 27.39\n",
            "RMSE: 41.47\n",
            "MAPE: 0.13\n",
            "current epoch: 19, predict 5 points\n",
            "MAE: 28.94\n",
            "RMSE: 43.66\n",
            "MAPE: 0.13\n",
            "current epoch: 19, predict 6 points\n",
            "MAE: 30.61\n",
            "RMSE: 45.91\n",
            "MAPE: 0.14\n",
            "current epoch: 19, predict 7 points\n",
            "MAE: 32.25\n",
            "RMSE: 48.10\n",
            "MAPE: 0.15\n",
            "current epoch: 19, predict 8 points\n",
            "MAE: 33.88\n",
            "RMSE: 50.24\n",
            "MAPE: 0.16\n",
            "current epoch: 19, predict 9 points\n",
            "MAE: 35.53\n",
            "RMSE: 52.46\n",
            "MAPE: 0.17\n",
            "current epoch: 19, predict 10 points\n",
            "MAE: 37.36\n",
            "RMSE: 55.00\n",
            "MAPE: 0.18\n",
            "current epoch: 19, predict 11 points\n",
            "MAE: 39.48\n",
            "RMSE: 57.87\n",
            "MAPE: 0.19\n",
            "all MAE: 29.84\n",
            "all RMSE: 45.41\n",
            "all MAPE: 0.14\n",
            "[20.067963, 30.871120193665128, 0.0925463, 22.360294, 34.29190952096062, 0.10260202, 24.267601, 36.98664078663656, 0.11094018, 25.889566, 39.30641192674151, 0.11858323, 27.388733, 41.47411154818072, 0.12564301, 28.944023, 43.66247243369799, 0.1332802, 30.610693, 45.91162642954669, 0.14213277, 32.252666, 48.09737691408571, 0.15133421, 33.8806, 50.24472337034506, 0.16040963, 35.525345, 52.46202356005366, 0.1698493, 37.36201, 54.996706222395716, 0.18032159, 39.477013, 57.869870183023565, 0.19211727, 29.8355, 45.4056531705442, 0.13997951]\n"
          ]
        }
      ]
    },
    {
      "cell_type": "code",
      "source": [
        "import matplotlib.pyplot as plt\n",
        "import numpy as np\n",
        "\n",
        "\n",
        "#x = np.arange(len(validation_loss_list_k3))  # Creating x-axis values\n",
        "k_order = [3, 4, 5]\n",
        "\n",
        "\n",
        "# Create the plot\n",
        "plt.figure(figsize=(10, 6))  # Optional: set the figure size\n",
        "\n",
        "MAE_values_test = [29.84, 27.47, 28.44]\n",
        "RMSE_values_test = [45.41, 42.15, 44.69]\n",
        "\n",
        "# Plot both lines\n",
        "plt.plot(k_order, MAE_values_test, color='blue', label='MAE_K')\n",
        "plt.plot(k_order, RMSE_values_test, color='red', label='RMSE_k')\n",
        "\n",
        "# Add labels and title\n",
        "plt.xlabel('Order Values')\n",
        "plt.ylabel('Testing Scores')\n",
        "plt.title('Plot of Test Scores for K Values')\n",
        "\n",
        "# Add a legend\n",
        "plt.legend()\n",
        "\n",
        "# Display the plot\n",
        "plt.grid(True)  # Optional: add a grid\n",
        "plt.show()"
      ],
      "metadata": {
        "colab": {
          "base_uri": "https://localhost:8080/",
          "height": 564
        },
        "id": "ydpQ97fONQQr",
        "outputId": "694cd123-734c-4b5e-900c-f393ca5fa92f"
      },
      "id": "ydpQ97fONQQr",
      "execution_count": null,
      "outputs": [
        {
          "output_type": "display_data",
          "data": {
            "text/plain": [
              "<Figure size 1000x600 with 1 Axes>"
            ],
            "image/png": "[encoded data removed]"
          },
          "metadata": {}
        }
      ]
    },
    {
      "cell_type": "code",
      "source": [
        "import numpy as np"
      ],
      "metadata": {
        "id": "x1eEWppn1EP9"
      },
      "id": "x1eEWppn1EP9",
      "execution_count": null,
      "outputs": []
    },
    {
      "cell_type": "markdown",
      "source": [
        "##### Prediction from the Hourly Model"
      ],
      "metadata": {
        "id": "USYqmIgu1J6v"
      },
      "id": "USYqmIgu1J6v"
    },
    {
      "cell_type": "code",
      "source": [
        "prediction_output_recent_data = np.load('/content/drive/MyDrive/COMP9491_ASTGCN_Model/Dataset_PEMS07/Best_Epoch_Saved_Recent/output_epoch_19_test.npz')"
      ],
      "metadata": {
        "id": "_hxNjo63wuU0"
      },
      "id": "_hxNjo63wuU0",
      "execution_count": null,
      "outputs": []
    },
    {
      "cell_type": "code",
      "source": [
        "input_data = prediction_output_recent_data['input']\n",
        "prediction = prediction_output_recent_data['prediction']\n",
        "data_target_tensor = prediction_output_recent_data['data_target_tensor']"
      ],
      "metadata": {
        "id": "5TV31nkDw-zo"
      },
      "id": "5TV31nkDw-zo",
      "execution_count": null,
      "outputs": []
    },
    {
      "cell_type": "code",
      "source": [
        "# Print the shapes of the arrays\n",
        "print(\"Input shape:\", input_data.shape)\n",
        "print(\"Prediction shape:\", prediction.shape)\n",
        "print(\"Target tensor shape:\", data_target_tensor.shape)\n",
        "\n",
        "# Print the first few entries of each array to inspect the data\n",
        "print(\"Input data (first 2 samples):\", input_data[0][0:2])\n",
        "print(\"Prediction (first 2 samples):\", prediction[0][0:2])\n",
        "print(\"Data target tensor (first 2 samples):\", data_target_tensor[0][0:2])\n"
      ],
      "metadata": {
        "id": "Q_z58768xGA0"
      },
      "id": "Q_z58768xGA0",
      "execution_count": null,
      "outputs": []
    }
  ],
  "metadata": {
    "kernelspec": {
      "display_name": "Python 3",
      "name": "python3"
    },
    "language_info": {
      "codemirror_mode": {
        "name": "ipython",
        "version": 3
      },
      "file_extension": ".py",
      "mimetype": "text/x-python",
      "name": "python",
      "nbconvert_exporter": "python",
      "pygments_lexer": "ipython3",
      "version": "3.12.4"
    },
    "colab": {
      "provenance": [],
      "gpuType": "A100",
      "machine_shape": "hm"
    },
    "accelerator": "GPU"
  },
  "nbformat": 4,
  "nbformat_minor": 5
}