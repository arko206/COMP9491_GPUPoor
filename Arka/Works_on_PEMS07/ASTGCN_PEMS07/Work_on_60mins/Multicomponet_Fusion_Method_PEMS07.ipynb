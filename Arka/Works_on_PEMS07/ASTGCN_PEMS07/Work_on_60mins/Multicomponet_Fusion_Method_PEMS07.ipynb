{
  "nbformat": 4,
  "nbformat_minor": 0,
  "metadata": {
    "colab": {
      "provenance": []
    },
    "kernelspec": {
      "name": "python3",
      "display_name": "Python 3"
    },
    "language_info": {
      "name": "python"
    }
  },
  "cells": [
    {
      "cell_type": "code",
      "execution_count": null,
      "metadata": {
        "colab": {
          "base_uri": "https://localhost:8080/"
        },
        "id": "wRirlC514DhF",
        "outputId": "5d7c847f-bd01-40a7-a986-d39c1ab0e2db"
      },
      "outputs": [
        {
          "output_type": "stream",
          "name": "stdout",
          "text": [
            "Mounted at /content/drive\n"
          ]
        }
      ],
      "source": [
        "from google.colab import drive\n",
        "drive.mount('/content/drive')"
      ]
    },
    {
      "cell_type": "code",
      "source": [
        "import numpy as np\n",
        "import torch\n",
        "import torch.nn as nn\n",
        "import torch.nn.init as init\n",
        "import torch.nn.functional as F"
      ],
      "metadata": {
        "id": "KrPSGxxE4jfA"
      },
      "execution_count": null,
      "outputs": []
    },
    {
      "cell_type": "code",
      "source": [
        "prediction_hourly = np.load('/content/drive/MyDrive/COMP9491_ASTGCN_Model/Dataset_PEMS07/Best_Epoch_Saved_Recent/recentk4output_epoch_17_test.npz')\n",
        "prediction_daily = np.load('/content/drive/MyDrive/COMP9491_ASTGCN_Model/Dataset_PEMS07/Best_Epoch_Saved_Recent/Daily_K4_output_epoch_18_test.npz')"
      ],
      "metadata": {
        "id": "Av0MN4hR4dmR"
      },
      "execution_count": null,
      "outputs": []
    },
    {
      "cell_type": "markdown",
      "source": [
        "##### Printing the Actual Target Tensor Shape"
      ],
      "metadata": {
        "id": "VA4Bxd-B5gLM"
      }
    },
    {
      "cell_type": "code",
      "source": [
        "target_tensor = prediction_hourly['data_target_tensor']\n",
        "print(target_tensor.shape)"
      ],
      "metadata": {
        "colab": {
          "base_uri": "https://localhost:8080/"
        },
        "id": "LqA0HbsD5Geu",
        "outputId": "ffebb27f-62da-4725-a871-c5541fe73c75"
      },
      "execution_count": null,
      "outputs": [
        {
          "output_type": "stream",
          "name": "stdout",
          "text": [
            "(5641, 883, 12)\n"
          ]
        }
      ]
    },
    {
      "cell_type": "code",
      "source": [
        "print(prediction_hourly['prediction'].shape)\n",
        "print(prediction_daily['prediction'].shape)"
      ],
      "metadata": {
        "colab": {
          "base_uri": "https://localhost:8080/"
        },
        "id": "n8cfrfNkD4hB",
        "outputId": "0234301a-8b4d-4c23-e756-8580e4690c9e"
      },
      "execution_count": null,
      "outputs": [
        {
          "output_type": "stream",
          "name": "stdout",
          "text": [
            "(5641, 883, 12)\n",
            "(5528, 883, 12)\n"
          ]
        }
      ]
    },
    {
      "cell_type": "code",
      "source": [
        "prediction_hourly['prediction'][0]"
      ],
      "metadata": {
        "colab": {
          "base_uri": "https://localhost:8080/"
        },
        "id": "893w0G1XA4kK",
        "outputId": "a3ef66b7-2b11-4011-d282-8a71a3e67a69"
      },
      "execution_count": null,
      "outputs": [
        {
          "output_type": "execute_result",
          "data": {
            "text/plain": [
              "array([[475.33215, 485.2931 , 495.83673, ..., 532.2502 , 538.00946,\n",
              "        542.5406 ],\n",
              "       [364.97992, 361.56674, 359.54962, ..., 344.89423, 342.54596,\n",
              "        339.56497],\n",
              "       [568.4268 , 576.91   , 586.3029 , ..., 621.3616 , 626.02185,\n",
              "        629.18414],\n",
              "       ...,\n",
              "       [573.9524 , 572.8489 , 571.11975, ..., 559.68243, 556.94696,\n",
              "        556.97424],\n",
              "       [225.66855, 226.14908, 226.95058, ..., 219.43892, 218.52197,\n",
              "        217.20898],\n",
              "       [564.71967, 564.3108 , 564.25745, ..., 553.9462 , 552.39624,\n",
              "        549.7503 ]], dtype=float32)"
            ]
          },
          "metadata": {},
          "execution_count": 6
        }
      ]
    },
    {
      "cell_type": "code",
      "source": [
        "prediction_hourly['prediction'][0].shape"
      ],
      "metadata": {
        "colab": {
          "base_uri": "https://localhost:8080/"
        },
        "id": "07ZSYHgYBDW4",
        "outputId": "73b7c557-fa90-437b-855f-01065cfc2231"
      },
      "execution_count": null,
      "outputs": [
        {
          "output_type": "execute_result",
          "data": {
            "text/plain": [
              "(883, 12)"
            ]
          },
          "metadata": {},
          "execution_count": 7
        }
      ]
    },
    {
      "cell_type": "code",
      "source": [
        "print(type(prediction_hourly['prediction']))"
      ],
      "metadata": {
        "colab": {
          "base_uri": "https://localhost:8080/"
        },
        "id": "pgxxW7MTCULo",
        "outputId": "25e8a3de-cb21-4a89-85e3-ef770bcca2a4"
      },
      "execution_count": null,
      "outputs": [
        {
          "output_type": "stream",
          "name": "stdout",
          "text": [
            "<class 'numpy.ndarray'>\n"
          ]
        }
      ]
    },
    {
      "cell_type": "code",
      "source": [
        "prediction_hourly_np = prediction_hourly['prediction']\n",
        "#prediction_hourly_target = prediction_hourly['data_target_tensor']"
      ],
      "metadata": {
        "id": "X6gXiMfACz_I"
      },
      "execution_count": null,
      "outputs": []
    },
    {
      "cell_type": "code",
      "source": [
        "# Create the original and new indices\n",
        "original_indices = np.arange(prediction_hourly_np.shape[0])  # [0, 1, 2, ..., 5640]\n",
        "new_indices = np.linspace(0, prediction_hourly_np.shape[0] - 1, num=5528)"
      ],
      "metadata": {
        "id": "G0XG2FndCpOQ"
      },
      "execution_count": null,
      "outputs": []
    },
    {
      "cell_type": "code",
      "source": [
        "import numpy as np\n",
        "import torch\n",
        "from scipy.interpolate import interp1d"
      ],
      "metadata": {
        "id": "Y_kUKXC8DEFI"
      },
      "execution_count": null,
      "outputs": []
    },
    {
      "cell_type": "code",
      "source": [
        "interpolated_prediction = np.zeros((5528, 883, 12))"
      ],
      "metadata": {
        "id": "UOl4qFMem1FO"
      },
      "execution_count": null,
      "outputs": []
    },
    {
      "cell_type": "code",
      "source": [
        "for i in range(prediction_hourly_np.shape[1]):  # Loop over the second dimension (883)\n",
        "    for j in range(prediction_hourly_np.shape[2]):  # Loop over the third dimension (12)\n",
        "        # Create the interpolation function for the 1D array prediction_hourly_np[:, i, j]\n",
        "        f = interp1d(original_indices, prediction_hourly_np[:, i, j], kind='linear')\n",
        "\n",
        "        # Interpolate values at new_indices and assign to the new tensor\n",
        "        interpolated_prediction[:, i, j] = f(new_indices)\n"
      ],
      "metadata": {
        "id": "QPb9dlWLC_Wg"
      },
      "execution_count": null,
      "outputs": []
    },
    {
      "cell_type": "code",
      "source": [
        "interpolated_prediction.shape"
      ],
      "metadata": {
        "colab": {
          "base_uri": "https://localhost:8080/"
        },
        "id": "oOok_xFeDol3",
        "outputId": "4c4f5c85-a4da-41d1-e51e-6b38c680eb17"
      },
      "execution_count": null,
      "outputs": [
        {
          "output_type": "execute_result",
          "data": {
            "text/plain": [
              "(5528, 883, 12)"
            ]
          },
          "metadata": {},
          "execution_count": 14
        }
      ]
    },
    {
      "cell_type": "code",
      "source": [
        "prediction_daily['prediction'].shape"
      ],
      "metadata": {
        "colab": {
          "base_uri": "https://localhost:8080/"
        },
        "id": "CBaNr-zmnMdu",
        "outputId": "c8418859-e0d2-491f-c6be-3f5d9d75d1ab"
      },
      "execution_count": null,
      "outputs": [
        {
          "output_type": "execute_result",
          "data": {
            "text/plain": [
              "(5528, 883, 12)"
            ]
          },
          "metadata": {},
          "execution_count": 15
        }
      ]
    },
    {
      "cell_type": "code",
      "source": [
        "interpolated_prediction[0]"
      ],
      "metadata": {
        "colab": {
          "base_uri": "https://localhost:8080/"
        },
        "id": "m_vAjoe7Du7J",
        "outputId": "8ed35595-b1c0-40dd-f40c-f62e256d567c"
      },
      "execution_count": null,
      "outputs": [
        {
          "output_type": "execute_result",
          "data": {
            "text/plain": [
              "array([[475.33215332, 485.29309082, 495.83673096, ..., 532.25018311,\n",
              "        538.00946045, 542.54058838],\n",
              "       [364.97991943, 361.56674194, 359.54962158, ..., 344.89422607,\n",
              "        342.54595947, 339.56497192],\n",
              "       [568.42681885, 576.90997314, 586.30291748, ..., 621.36157227,\n",
              "        626.02185059, 629.18414307],\n",
              "       ...,\n",
              "       [573.95239258, 572.84887695, 571.11975098, ..., 559.68243408,\n",
              "        556.94696045, 556.97424316],\n",
              "       [225.66854858, 226.14907837, 226.95057678, ..., 219.43891907,\n",
              "        218.52197266, 217.20898438],\n",
              "       [564.71966553, 564.31079102, 564.25744629, ..., 553.94622803,\n",
              "        552.39624023, 549.75030518]])"
            ]
          },
          "metadata": {},
          "execution_count": 16
        }
      ]
    },
    {
      "cell_type": "code",
      "source": [
        "import torch\n",
        "import torch.nn as nn\n",
        "import torch.nn.functional as F"
      ],
      "metadata": {
        "id": "bhg1plhV6B8c"
      },
      "execution_count": null,
      "outputs": []
    },
    {
      "cell_type": "code",
      "source": [
        "class Temporal_Attention_layer(nn.Module):\n",
        "    def __init__(self, in_channels, num_of_vertices, num_of_timesteps):\n",
        "        super(Temporal_Attention_layer, self).__init__()\n",
        "        self.U1 = nn.Parameter(torch.FloatTensor(num_of_vertices))\n",
        "        self.U2 = nn.Parameter(torch.FloatTensor(in_channels, num_of_vertices))\n",
        "        self.U3 = nn.Parameter(torch.FloatTensor(in_channels))\n",
        "        self.be = nn.Parameter(torch.FloatTensor(1, num_of_timesteps, num_of_timesteps))\n",
        "        self.Ve = nn.Parameter(torch.FloatTensor(num_of_timesteps, num_of_timesteps))\n",
        "\n",
        "    def forward(self, x):\n",
        "        '''\n",
        "        :param x: (batch_size, N, F_in, T)\n",
        "        :return: (B, T, T)\n",
        "        '''\n",
        "        _, num_of_vertices, num_of_features, num_of_timesteps = x.shape\n",
        "\n",
        "        lhs = torch.matmul(torch.matmul(x.permute(0, 3, 2, 1), self.U1), self.U2)\n",
        "        # x:(B, N, F_in, T) -> (B, T, F_in, N)\n",
        "        # (B, T, F_in, N)(N) -> (B,T,F_in)\n",
        "        # (B,T,F_in)(F_in,N)->(B,T,N)\n",
        "\n",
        "        rhs = torch.matmul(self.U3, x)  # (F)(B,N,F,T)->(B, N, T)\n",
        "\n",
        "        product = torch.matmul(lhs, rhs)  # (B,T,N)(B,N,T)->(B,T,T)\n",
        "\n",
        "        E = torch.matmul(self.Ve, torch.sigmoid(product + self.be))  # (B, T, T)\n",
        "\n",
        "        E_normalized = F.softmax(E, dim=1)\n",
        "        ### Temporal Attention score measures the importance of each timesteps fore a node in the Graph\n",
        "        return E_normalized"
      ],
      "metadata": {
        "id": "4lrZv5yx5tBc"
      },
      "execution_count": null,
      "outputs": []
    },
    {
      "cell_type": "code",
      "source": [
        "import torch\n",
        "import torch.nn as nn\n",
        "import torch.nn.init as init\n",
        "\n",
        "class MultiComponentFusion(nn.Module):\n",
        "    def __init__(self, num_nodes, num_timesteps,in_channels, hourly_bias):\n",
        "        super(MultiComponentFusion, self).__init__()\n",
        "\n",
        "        # Initialize weight matrices for each component\n",
        "        self.Wh = nn.Parameter(torch.empty(num_nodes, num_timesteps))\n",
        "        self.Wd = nn.Parameter(torch.empty(num_nodes, num_timesteps))\n",
        "\n",
        "        # Apply Xavier uniform initialization\n",
        "        init.xavier_uniform_(self.Wh)\n",
        "        init.xavier_uniform_(self.Wd)\n",
        "\n",
        "        # Apply sigmoid to ensure weights are between 0 and 1\n",
        "        self.sigmoid = nn.Sigmoid()\n",
        "        #self.TAt = Temporal_Attention_layer(in_channels, num_nodes, num_timesteps)\n",
        "\n",
        "        self.hourly_bias = hourly_bias\n",
        "\n",
        "    def forward(self, y_actual, y_predicted_hourly, y_predicted_daily):\n",
        "        # Convert NumPy arrays to PyTorch tensors\n",
        "        y_actual = torch.tensor(y_actual).float() # Convert to tensor and cast to float\n",
        "        y_predicted_hourly = torch.tensor(y_predicted_hourly).float() # Convert to tensor and cast to float\n",
        "        y_predicted_daily = torch.tensor(y_predicted_daily).float() # Convert to tensor and cast to float\n",
        "\n",
        "        # Apply sigmoid to weights\n",
        "        Wh = self.sigmoid(self.Wh).detach()\n",
        "        Wd = self.sigmoid(self.Wd).detach()\n",
        "\n",
        "        # Expand weights to match input dimensions\n",
        "        Wh = Wh.unsqueeze(0)  # Shape becomes (1, 883, 12)\n",
        "        Wd = Wd.unsqueeze(0)\n",
        "\n",
        "        # Perform element-wise multiplication and sum\n",
        "        #Y_fused = Wh * y_predicted_hourly + Wd * y_predicted_daily\n",
        "        # Cast input tensors to float32\n",
        "\n",
        "        #Wh = Wh * self.hourly_bias\n",
        "        #Wd = Wd * (1 - self.hourly_bias)\n",
        "\n",
        "\n",
        "\n",
        "\n",
        "        # Perform element-wise multiplication\n",
        "        Yh_weighted = Wh * y_predicted_hourly\n",
        "        Yd_weighted = Wd * y_predicted_daily\n",
        "\n",
        "\n",
        "        Y_fused = Yh_weighted + Yd_weighted\n",
        "\n",
        "\n",
        "        #num_of_samples, num_of_nodes, num_of_timesteps = Y_fused.shape\n",
        "        #Y_fused = Y_fused.unsqueeze(2)\n",
        "        #print(Y_fused.shape)\n",
        "        #temporal_Att = self.TAt(Y_fused)\n",
        "        #Y_fused = Y_fused.squeeze(2)\n",
        "        #Y_fused = torch.matmul(Y_fused, temporal_Att).reshape(self.num_of_samples, num_nodes, num_timesteps)\n",
        "\n",
        "        return Y_fused\n",
        "\n",
        "\n",
        "num_samples_test_set = 5528\n",
        "num_nodes = 883\n",
        "num_timesteps = 12\n",
        "in_channels = 1\n",
        "num_of_vertices = num_nodes\n",
        "hourly_bias = 0.7\n",
        "\n",
        "# Create an instance of the fusion model\n",
        "##USE_CUDA = torch.cuda.is_available()\n",
        "#DEVICE = torch.device('cuda:0')\n",
        "#print(\"CUDA:\", USE_CUDA, DEVICE)\n",
        "fusion_model = MultiComponentFusion(num_nodes, num_timesteps, in_channels, hourly_bias)\n",
        "\n",
        "# Example\n",
        "Y_actual = prediction_daily['data_target_tensor']\n",
        "Yh = interpolated_prediction\n",
        "Yd = prediction_daily['prediction']\n",
        "\n",
        "Y_final = fusion_model(Y_actual, Yh, Yd)"
      ],
      "metadata": {
        "id": "2ulbQHWXG53R"
      },
      "execution_count": null,
      "outputs": []
    },
    {
      "cell_type": "code",
      "source": [
        "Y_final.shape"
      ],
      "metadata": {
        "colab": {
          "base_uri": "https://localhost:8080/"
        },
        "id": "4KuJVi2rLH3P",
        "outputId": "75dbaa3d-3b7e-488e-99a4-e1ab049f54f6"
      },
      "execution_count": null,
      "outputs": [
        {
          "output_type": "execute_result",
          "data": {
            "text/plain": [
              "torch.Size([5528, 883, 12])"
            ]
          },
          "metadata": {},
          "execution_count": 20
        }
      ]
    },
    {
      "cell_type": "code",
      "source": [
        "Y_final[0]"
      ],
      "metadata": {
        "colab": {
          "base_uri": "https://localhost:8080/"
        },
        "id": "zPq2yX9GLLS7",
        "outputId": "a99e86b8-1a32-425d-ae44-9916405de0ba"
      },
      "execution_count": null,
      "outputs": [
        {
          "output_type": "execute_result",
          "data": {
            "text/plain": [
              "tensor([[499.6994, 495.6994, 511.5723,  ..., 512.6046, 505.3198, 518.7771],\n",
              "        [323.1136, 325.2087, 323.0311,  ..., 326.2578, 319.0840, 320.9930],\n",
              "        [584.2102, 585.0057, 592.1371,  ..., 599.8114, 598.7515, 616.8837],\n",
              "        ...,\n",
              "        [539.7239, 538.2589, 517.8902,  ..., 519.0676, 520.3436, 521.6851],\n",
              "        [236.8844, 239.9137, 235.7339,  ..., 228.9604, 221.4013, 224.3575],\n",
              "        [566.1902, 577.1260, 565.9804,  ..., 557.3352, 560.6555, 564.1551]])"
            ]
          },
          "metadata": {},
          "execution_count": 21
        }
      ]
    },
    {
      "cell_type": "code",
      "source": [
        "import torch.optim as optim"
      ],
      "metadata": {
        "id": "f1VFBBPSQ-TV"
      },
      "execution_count": null,
      "outputs": []
    },
    {
      "cell_type": "code",
      "source": [
        "from sklearn.metrics import mean_absolute_error\n",
        "\n",
        "# Ensure tensors are detached and moved to CPU before converting to numpy\n",
        "Y_final_np = Y_final.detach().cpu().numpy()\n",
        "Y_actual_np = Y_actual\n",
        "\n",
        "# Flatten the tensors to 1D arrays for MAE calculation\n",
        "Y_final_flat = Y_final_np.reshape(-1, 1)\n",
        "Y_actual_flat = Y_actual_np.reshape(-1, 1)\n",
        "\n",
        "# Calculate Mean Absolute Error\n",
        "mae = mean_absolute_error(Y_final_flat, Y_actual_flat)\n",
        "\n",
        "print(\"Mean Absolute Error:\", mae)\n"
      ],
      "metadata": {
        "colab": {
          "base_uri": "https://localhost:8080/"
        },
        "id": "8dlo2vZbRMiA",
        "outputId": "279f1901-1b37-4399-945a-42ba2b66f5b5"
      },
      "execution_count": null,
      "outputs": [
        {
          "output_type": "stream",
          "name": "stdout",
          "text": [
            "Mean Absolute Error: 79.35147\n"
          ]
        }
      ]
    },
    {
      "cell_type": "code",
      "source": [
        "from sklearn.metrics import mean_squared_error\n",
        "import numpy as np\n",
        "\n",
        "# Ensure tensors are detached and moved to CPU before converting to numpy\n",
        "Y_final_np = Y_final.detach().cpu().numpy()\n",
        "Y_actual_np = Y_actual\n",
        "\n",
        "# Flatten the tensors to 1D arrays for RMSE calculation\n",
        "Y_final_flat = Y_final_np.reshape(-1, 1)\n",
        "Y_actual_flat = Y_actual_np.reshape(-1, 1)\n",
        "\n",
        "# Calculate Mean Squared Error\n",
        "mse = mean_squared_error(Y_final_flat, Y_actual_flat)\n",
        "\n",
        "# Calculate Root Mean Squared Error\n",
        "rmse = np.sqrt(mse)\n",
        "\n",
        "print(\"Root Mean Squared Error:\", rmse)\n"
      ],
      "metadata": {
        "colab": {
          "base_uri": "https://localhost:8080/"
        },
        "id": "zwXD-NhCFTtV",
        "outputId": "608167e3-044b-4f8f-ea45-4500c929da16"
      },
      "execution_count": null,
      "outputs": [
        {
          "output_type": "stream",
          "name": "stdout",
          "text": [
            "Root Mean Squared Error: 108.50808\n"
          ]
        }
      ]
    }
  ]
}