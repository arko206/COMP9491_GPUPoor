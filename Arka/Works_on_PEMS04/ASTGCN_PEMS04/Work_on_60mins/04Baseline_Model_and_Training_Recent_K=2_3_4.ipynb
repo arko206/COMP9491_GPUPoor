{
  "cells": [
    {
      "cell_type": "code",
      "execution_count": null,
      "id": "0c1b82d8-020f-41f8-a2b3-0aaece979d63",
      "metadata": {
        "id": "0c1b82d8-020f-41f8-a2b3-0aaece979d63"
      },
      "outputs": [],
      "source": [
        "import os\n",
        "import numpy as np\n",
        "import torch\n",
        "import torch.utils.data\n",
        "from sklearn.metrics import mean_absolute_error\n",
        "from sklearn.metrics import mean_squared_error\n",
        "from scipy.sparse.linalg import eigs"
      ]
    },
    {
      "cell_type": "markdown",
      "id": "82d8481f-a13a-4dd9-9a5a-06ca71fa246d",
      "metadata": {
        "id": "82d8481f-a13a-4dd9-9a5a-06ca71fa246d"
      },
      "source": [
        "###### Function for Computing Scaled Laplacian"
      ]
    },
    {
      "cell_type": "code",
      "execution_count": null,
      "id": "0f71d24b-f868-44a1-b402-e36aeb6cbdef",
      "metadata": {
        "id": "0f71d24b-f868-44a1-b402-e36aeb6cbdef"
      },
      "outputs": [],
      "source": [
        "def scaled_Laplacian(W):\n",
        "    '''\n",
        "    compute \\tilde{L}\n",
        "\n",
        "    Parameters\n",
        "    ----------\n",
        "    W: np.ndarray, shape is (N, N), N is the num of vertices\n",
        "\n",
        "    Returns\n",
        "    ----------\n",
        "    scaled_Laplacian: np.ndarray, shape (N, N)\n",
        "\n",
        "    '''\n",
        "    ###Checking if the number of rows and columns of an adjacenecy matrix\n",
        "    ####are same or not\n",
        "    assert W.shape[0] == W.shape[1]\n",
        "\n",
        "    ### First sum each row of the adjacency matrix, and we obtain the degress of each vertex in that row\n",
        "    ### Secondly, a diagonal matrix has been created with degree of each vertex in the diagonal\n",
        "    #### Finally, 'D' is the sparse matrix containing only degrees of each vertex\n",
        "    D = np.diag(np.sum(W, axis=1))\n",
        "\n",
        "    #### 'l' is the unormalized Laplacian Matrix obtained by subtraction\n",
        "    ### of Adjacenecy Matrix from the Diagonal Matrix\n",
        "    L = D - W\n",
        "\n",
        "    #### First of all from the Laplacian Matrix, with the help of 'eigs' function largest value for eigen value and eigne vector\n",
        "    ##### has been evaluated\n",
        "    #### Secondly, eigen value has been only kept\n",
        "    #### Thirdly, eigen value beign a complex number, only real part is kept and saved as lamda_max\n",
        "    lambda_max = eigs(L, k=1, which='LR')[0].real\n",
        "\n",
        "    #### Finally Scaled Laplacian Matrix value is Obtained\n",
        "    return (2 * L) / lambda_max - np.identity(W.shape[0])\n"
      ]
    },
    {
      "cell_type": "markdown",
      "id": "264a0b1a-5706-4e3e-8e28-191a795bded2",
      "metadata": {
        "id": "264a0b1a-5706-4e3e-8e28-191a795bded2"
      },
      "source": [
        "##### Function for Computing Chebyshev Polynomials"
      ]
    },
    {
      "cell_type": "code",
      "execution_count": null,
      "id": "e905db82-5f4e-4983-aaa7-ace27f766491",
      "metadata": {
        "id": "e905db82-5f4e-4983-aaa7-ace27f766491"
      },
      "outputs": [],
      "source": [
        "def cheb_polynomial(L_tilde, K):\n",
        "    '''\n",
        "    compute a list of chebyshev polynomials from T_0 to T_{K-1}\n",
        "\n",
        "    Parameters\n",
        "    ----------\n",
        "    L_tilde: scaled Laplacian, np.ndarray, shape (N, N)\n",
        "\n",
        "    K: the maximum order of chebyshev polynomials\n",
        "\n",
        "    Returns\n",
        "    ----------\n",
        "    cheb_polynomials: list(np.ndarray), length: K, from T_0 to T_{K-1}\n",
        "\n",
        "    '''\n",
        "    ### The value of N is set to number of rows of a Laplacian Matric\n",
        "    N = L_tilde.shape[0]\n",
        "\n",
        "    ### cheb_polynimials conatins the zeroth order Chebyshev Polynomial T(0) = np.identity(N)\n",
        "    ### and the first order Chebyshev Polynomial T(1) = L_tilde.copy()\n",
        "    cheb_polynomials = [np.identity(N), L_tilde.copy()]\n",
        "\n",
        "    ### The loop computes the next higher order of Chebyshev Polynomials form order 2 to order k\n",
        "    ### The next order recurrence Chebysehev Polynomial is given by Tk(x) =2xTk-1(x)-Tk-2(x)\n",
        "    ## Since the loop starts from order 2, I am experimenting with values K = 3, 4, 5\n",
        "    for i in range(2, K):\n",
        "        cheb_polynomials.append(2 * L_tilde * cheb_polynomials[i - 1] - cheb_polynomials[i - 2])\n",
        "\n",
        "    return cheb_polynomials"
      ]
    },
    {
      "cell_type": "code",
      "execution_count": null,
      "id": "5d25aa0e-600f-41cf-b213-459c09cf3cc3",
      "metadata": {
        "id": "5d25aa0e-600f-41cf-b213-459c09cf3cc3"
      },
      "outputs": [],
      "source": [
        "import torch\n",
        "import torch.nn as nn\n",
        "import torch.nn.functional as F"
      ]
    },
    {
      "cell_type": "markdown",
      "id": "254eae57-0540-4e5f-af4f-853c85bf5fbd",
      "metadata": {
        "id": "254eae57-0540-4e5f-af4f-853c85bf5fbd"
      },
      "source": [
        "###### Defining the Spatial Attention Layer"
      ]
    },
    {
      "cell_type": "code",
      "execution_count": null,
      "id": "39adb2d0-7a5d-4a2c-946a-099ed30885ff",
      "metadata": {
        "id": "39adb2d0-7a5d-4a2c-946a-099ed30885ff"
      },
      "outputs": [],
      "source": [
        "class Spatial_Attention_layer(nn.Module):\n",
        "    '''\n",
        "    compute spatial attention scores\n",
        "    : in_channels: number of features of a vertex, here for PEMS07, it's 1\n",
        "    : num_of_timesteps represents number of timesegments in the input data\n",
        "    '''\n",
        "    def __init__(self, DEVICE, in_channels, num_of_vertices, num_of_timesteps):\n",
        "        super(Spatial_Attention_layer, self).__init__()\n",
        "        self.W1 = nn.Parameter(torch.FloatTensor(num_of_timesteps).to(DEVICE))\n",
        "        self.W2 = nn.Parameter(torch.FloatTensor(in_channels, num_of_timesteps).to(DEVICE))\n",
        "        self.W3 = nn.Parameter(torch.FloatTensor(in_channels).to(DEVICE))\n",
        "        self.bs = nn.Parameter(torch.FloatTensor(1, num_of_vertices, num_of_vertices).to(DEVICE))\n",
        "        self.Vs = nn.Parameter(torch.FloatTensor(num_of_vertices, num_of_vertices).to(DEVICE))\n",
        "\n",
        "\n",
        "    def forward(self, x):\n",
        "        '''\n",
        "        :param x: (batch_size, N, F_in, T)\n",
        "        :return: (B,N,N)\n",
        "        '''\n",
        "\n",
        "        lhs = torch.matmul(torch.matmul(x, self.W1), self.W2)  # (b,N,F,T)(T)->(b,N,F)(F,T)->(b,N,T)\n",
        "\n",
        "        rhs = torch.matmul(self.W3, x).transpose(-1, -2)  # (F)(b,N,F,T)->(b,N,T)->(b,T,N)\n",
        "\n",
        "        product = torch.matmul(lhs, rhs)  # (b,N,T)(b,T,N) -> (B, N, N)\n",
        "\n",
        "        S = torch.matmul(self.Vs, torch.sigmoid(product + self.bs))  # (N,N)(B, N, N)->(B,N,N)\n",
        "\n",
        "        ##Normalized Spatial Attention scores observes the spatial dependency between the vertices\n",
        "        S_normalized = F.softmax(S, dim=1)\n",
        "\n",
        "        return S_normalized"
      ]
    },
    {
      "cell_type": "markdown",
      "id": "73bc235e-3f49-4860-8d06-2c5470462e2a",
      "metadata": {
        "id": "73bc235e-3f49-4860-8d06-2c5470462e2a"
      },
      "source": [
        "###### Chebyshev's Convolution with Spatial Attention\n",
        "###### It is alsp known as Graph Convolution with Spatial Attention"
      ]
    },
    {
      "cell_type": "code",
      "execution_count": null,
      "id": "5fa77ab7-01eb-40c0-801d-26f42aae9c5a",
      "metadata": {
        "id": "5fa77ab7-01eb-40c0-801d-26f42aae9c5a"
      },
      "outputs": [],
      "source": [
        "class cheb_conv_withSAt(nn.Module):\n",
        "    '''\n",
        "    K-order chebyshev graph convolution\n",
        "    '''\n",
        "\n",
        "    def __init__(self, K, cheb_polynomials, in_channels, out_channels):\n",
        "        '''\n",
        "        :param K: int\n",
        "        :param in_channles: int, num of channels in the input sequence\n",
        "        :param out_channels: int, num of channels in the output sequence\n",
        "        '''\n",
        "        super(cheb_conv_withSAt, self).__init__()\n",
        "        self.K = K\n",
        "        self.cheb_polynomials = cheb_polynomials\n",
        "        self.in_channels = in_channels\n",
        "        self.out_channels = out_channels\n",
        "        self.DEVICE = cheb_polynomials[0].device\n",
        "\n",
        "        ### Theta consists of a list of learnable weight matrices of each of shape (in_channels x out_channels) for each of the\n",
        "        #### Chebyshev Polynomial, where number of Chebyshev is represneted by 'K'\n",
        "        self.Theta = nn.ParameterList([nn.Parameter(torch.FloatTensor(in_channels, out_channels).to(self.DEVICE)) for _ in range(K)])\n",
        "\n",
        "    def forward(self, x, spatial_attention):\n",
        "        '''\n",
        "        Chebyshev graph convolution operation\n",
        "        :param x: (batch_size, N, F_in, T)\n",
        "        :return: (batch_size, N, F_out, T)\n",
        "        '''\n",
        "        #### Getting shape of the input Graph signal\n",
        "        batch_size, num_of_vertices, in_channels, num_of_timesteps = x.shape\n",
        "\n",
        "        outputs = []\n",
        "\n",
        "        for time_step in range(num_of_timesteps):\n",
        "            ####getting the data for a certain time segment\n",
        "            graph_signal = x[:, :, :, time_step]  # (b, N, F_in)\n",
        "\n",
        "            output = torch.zeros(batch_size, num_of_vertices, self.out_channels).to(self.DEVICE)  # (b, N, F_out)\n",
        "            #### Looping Over Chebyshev Polynomial Order\n",
        "            #### In order to Perform Graph Convolution Operation with Spatial Attention\n",
        "            for k in range(self.K):\n",
        "\n",
        "                T_k = self.cheb_polynomials[k]  # (N,N)\n",
        "\n",
        "                ###Hadamarad Product between Chebyshev and Spatial Attention\n",
        "                T_k_with_at = T_k.mul(spatial_attention)   # (N,N)*(N,N) = (N,N)\n",
        "\n",
        "                theta_k = self.Theta[k]  # (in_channel, out_channel)\n",
        "\n",
        "                rhs = T_k_with_at.permute(0, 2, 1).matmul(graph_signal)  # (N, N)(b, N, F_in) = (b, N, F_in)\n",
        "\n",
        "                output = output + rhs.matmul(theta_k)  # (b, N, F_in)(F_in, F_out) = (b, N, F_out)\n",
        "            ### Additional dimension is added in order to understand that Graph Concolution\n",
        "            #### for a particular timestamp/timesegment has been done\n",
        "            outputs.append(output.unsqueeze(-1))  # (b, N, F_out, 1)\n",
        "        ####Concatenating the results accross all timesteps and applying Rely activation function\n",
        "        #### on each one of them\n",
        "        return F.relu(torch.cat(outputs, dim=-1))  # (b, N, F_out, T)\n"
      ]
    },
    {
      "cell_type": "markdown",
      "id": "211845b8-ae39-4310-b03b-a136227f3f15",
      "metadata": {
        "id": "211845b8-ae39-4310-b03b-a136227f3f15"
      },
      "source": [
        "###### Temporal Attention Layer"
      ]
    },
    {
      "cell_type": "code",
      "execution_count": null,
      "id": "8ff2dc14-1684-4673-ade3-8d24dba36920",
      "metadata": {
        "id": "8ff2dc14-1684-4673-ade3-8d24dba36920"
      },
      "outputs": [],
      "source": [
        "class Temporal_Attention_layer(nn.Module):\n",
        "    def __init__(self, DEVICE, in_channels, num_of_vertices, num_of_timesteps):\n",
        "        super(Temporal_Attention_layer, self).__init__()\n",
        "        self.U1 = nn.Parameter(torch.FloatTensor(num_of_vertices).to(DEVICE))\n",
        "        self.U2 = nn.Parameter(torch.FloatTensor(in_channels, num_of_vertices).to(DEVICE))\n",
        "        self.U3 = nn.Parameter(torch.FloatTensor(in_channels).to(DEVICE))\n",
        "        self.be = nn.Parameter(torch.FloatTensor(1, num_of_timesteps, num_of_timesteps).to(DEVICE))\n",
        "        self.Ve = nn.Parameter(torch.FloatTensor(num_of_timesteps, num_of_timesteps).to(DEVICE))\n",
        "\n",
        "    def forward(self, x):\n",
        "        '''\n",
        "        :param x: (batch_size, N, F_in, T)\n",
        "        :return: (B, T, T)\n",
        "        '''\n",
        "        _, num_of_vertices, num_of_features, num_of_timesteps = x.shape\n",
        "\n",
        "        lhs = torch.matmul(torch.matmul(x.permute(0, 3, 2, 1), self.U1), self.U2)\n",
        "        # x:(B, N, F_in, T) -> (B, T, F_in, N)\n",
        "        # (B, T, F_in, N)(N) -> (B,T,F_in)\n",
        "        # (B,T,F_in)(F_in,N)->(B,T,N)\n",
        "\n",
        "        rhs = torch.matmul(self.U3, x)  # (F)(B,N,F,T)->(B, N, T)\n",
        "\n",
        "        product = torch.matmul(lhs, rhs)  # (B,T,N)(B,N,T)->(B,T,T)\n",
        "\n",
        "        E = torch.matmul(self.Ve, torch.sigmoid(product + self.be))  # (B, T, T)\n",
        "\n",
        "        E_normalized = F.softmax(E, dim=1)\n",
        "        ### Temporal Attention score measures the importance of each timesteps fore a node in the Graph\n",
        "        return E_normalized\n"
      ]
    },
    {
      "cell_type": "markdown",
      "id": "b0f0c14f-2f44-46b5-bc40-740f056e802a",
      "metadata": {
        "id": "b0f0c14f-2f44-46b5-bc40-740f056e802a"
      },
      "source": [
        "###### Describing a Singular ASTGCN Block"
      ]
    },
    {
      "cell_type": "code",
      "execution_count": null,
      "id": "dbd10da9-ceef-48f6-8d72-ce3baaf47884",
      "metadata": {
        "id": "dbd10da9-ceef-48f6-8d72-ce3baaf47884"
      },
      "outputs": [],
      "source": [
        "class ASTGCN_block(nn.Module):\n",
        "\n",
        "    def __init__(self, DEVICE, in_channels, K, nb_chev_filter, nb_time_filter, time_strides, cheb_polynomials, num_of_vertices, num_of_timesteps):\n",
        "        super(ASTGCN_block, self).__init__()\n",
        "        self.TAt = Temporal_Attention_layer(DEVICE, in_channels, num_of_vertices, num_of_timesteps)\n",
        "        self.SAt = Spatial_Attention_layer(DEVICE, in_channels, num_of_vertices, num_of_timesteps)\n",
        "        self.cheb_conv_SAt = cheb_conv_withSAt(K, cheb_polynomials, in_channels, nb_chev_filter)\n",
        "\n",
        "        ###Applies convolution along temporal dimension\n",
        "        ##nb_chev_filter relates to order of Chebyshev Polynmials, representing number of chebyshev outputs coming\n",
        "        ### nb_time_filter relates to the number of timesteps for each of the chebyshev output\n",
        "        #kernel size depends on the value of K, as mentioned by author depending on the temporal dimension\n",
        "        ## of neighbouring vertices\n",
        "        self.time_conv = nn.Conv2d(nb_chev_filter, nb_time_filter, kernel_size=(1, 3), stride=(1, time_strides), padding=(0, 1))\n",
        "\n",
        "        ####(1x1) convolution is applied for residual connections\n",
        "        self.residual_conv = nn.Conv2d(in_channels, nb_time_filter, kernel_size=(1, 1), stride=(1, time_strides))\n",
        "\n",
        "        ####Normalization Layer\n",
        "        self.ln = nn.LayerNorm(nb_time_filter)\n",
        "\n",
        "    def forward(self, x):\n",
        "        '''\n",
        "        :param x: (batch_size, N, F_in, T)\n",
        "        :return: (batch_size, N, nb_time_filter, T)\n",
        "        '''\n",
        "        batch_size, num_of_vertices, num_of_features, num_of_timesteps = x.shape\n",
        "\n",
        "        # Step 1: Temporal attention is computed\n",
        "        temporal_At = self.TAt(x)  # (b, T, T)\n",
        "\n",
        "        # Step 2: Temporal attention is applied on the input because input consists of\n",
        "        # graph signal information of different timesteps\n",
        "        # Temporal attention is applied to focus on temporal correlations between neighbouring timestep data\n",
        "        ## of a node\n",
        "        x_TAt = torch.matmul(x.reshape(batch_size, -1, num_of_timesteps), temporal_At).reshape(batch_size, num_of_vertices, num_of_features, num_of_timesteps)\n",
        "\n",
        "        # Step 3: Spatial Attention is applied on the temporal attention layer output\n",
        "        spatial_At = self.SAt(x_TAt)\n",
        "\n",
        "        # Step 4: Graph Convolution is applied using the Chebyshev Polynlomials of order K on the graph signal and the\n",
        "        # spatial attention layer output, in order to focus on the sptial correlations of (K-1) neighbouring nodes\n",
        "        ## of a certain node in the Graph\n",
        "        spatial_gcn = self.cheb_conv_SAt(x, spatial_At)  # (b,N,F,T)\n",
        "        # spatial_gcn = self.cheb_conv(x)\n",
        "\n",
        "        # convolution along the time axis\n",
        "        time_conv_output = self.time_conv(spatial_gcn.permute(0, 2, 1, 3))  # (b,N,F,T)->(b,F,N,T) (1,3)->(b,F,N,T)\n",
        "\n",
        "        #print(\"Shape of x_residual:\", x_residual.shape)\n",
        "        #print(\"Shape of time_conv_output:\", time_conv_output.shape)\n",
        "\n",
        "        # residual shortcut is applied directly on the input signal with the help of a convolution layer\n",
        "        x_residual = self.residual_conv(x.permute(0, 2, 1, 3))  # (b,N,F,T)->(b,F,N,T) (1,1)->(b,F,N,T)\n",
        "\n",
        "        #print(\"Shape of x_residual:\", x_residual.shape)\n",
        "        #print(\"Shape of time_conv_output:\", time_conv_output.shape)\n",
        "\n",
        "        ### Finally, the residual output is equal to the summation of the residual shortcut output and the final\n",
        "        ### output coming from the time-axis layer\n",
        "        x_residual = self.ln(F.relu(x_residual + time_conv_output).permute(0, 3, 2, 1)).permute(0, 2, 3, 1)\n",
        "        # (b,F,N,T)->(b,T,N,F) -ln-> (b,T,N,F)->(b,N,F,T)\n",
        "\n",
        "        return x_residual"
      ]
    },
    {
      "cell_type": "markdown",
      "id": "a3d84126-2e27-4a4b-9af2-562dd74f2477",
      "metadata": {
        "id": "a3d84126-2e27-4a4b-9af2-562dd74f2477"
      },
      "source": [
        "###### Describing a series of ASTGCN Blocks inside the submodule Class"
      ]
    },
    {
      "cell_type": "code",
      "execution_count": null,
      "id": "7ccf36b7-148b-4fbf-93e0-62694fe8d607",
      "metadata": {
        "id": "7ccf36b7-148b-4fbf-93e0-62694fe8d607"
      },
      "outputs": [],
      "source": [
        "class ASTGCN_submodule(nn.Module):\n",
        "\n",
        "    def __init__(self, DEVICE, nb_block, in_channels, K, nb_chev_filter, nb_time_filter, time_strides, cheb_polynomials, num_for_predict, len_input, num_of_vertices):\n",
        "        '''\n",
        "        :param nb_block:\n",
        "        :param in_channels:\n",
        "        :param K:\n",
        "        :param nb_chev_filter:\n",
        "        :param nb_time_filter:\n",
        "        :param time_strides:\n",
        "        :param cheb_polynomials:\n",
        "        :param nb_predict_step:\n",
        "        '''\n",
        "\n",
        "        super(ASTGCN_submodule, self).__init__()\n",
        "\n",
        "        self.BlockList = nn.ModuleList([ASTGCN_block(DEVICE, in_channels, K, nb_chev_filter, nb_time_filter, time_strides, cheb_polynomials, num_of_vertices, len_input)])\n",
        "\n",
        "        self.BlockList.extend([ASTGCN_block(DEVICE, nb_time_filter, K, nb_chev_filter, nb_time_filter, 1, cheb_polynomials, num_of_vertices, len_input//time_strides) for _ in range(nb_block-1)])\n",
        "\n",
        "        ###Adding a Final Convolution Layer after the output from the final ASTGCN Block\n",
        "        self.final_conv = nn.Conv2d(int(len_input/time_strides), num_for_predict, kernel_size=(1, nb_time_filter))\n",
        "\n",
        "        self.DEVICE = DEVICE\n",
        "\n",
        "        self.to(DEVICE)\n",
        "\n",
        "    def forward(self, x):\n",
        "        '''\n",
        "        :param x: (B, N_nodes, F_in, T_in)\n",
        "        :return: (B, N_nodes, T_out)\n",
        "        '''\n",
        "        for block in self.BlockList:\n",
        "            x = block(x)\n",
        "\n",
        "        output = self.final_conv(x.permute(0, 3, 1, 2))[:, :, :, -1].permute(0, 2, 1)\n",
        "        # (b,N,F,T)->(b,T,N,F)-conv<1,F>->(b,c_out*T,N,1)->(b,c_out*T,N)->(b,N,T)\n",
        "\n",
        "        return output\n"
      ]
    },
    {
      "cell_type": "markdown",
      "id": "7def723a-84fd-47a9-ad4b-1ede9c649721",
      "metadata": {
        "id": "7def723a-84fd-47a9-ad4b-1ede9c649721"
      },
      "source": [
        "###### Making Model Function"
      ]
    },
    {
      "cell_type": "code",
      "execution_count": null,
      "id": "86d8d435-80ff-40ea-bf18-52222d9ef715",
      "metadata": {
        "id": "86d8d435-80ff-40ea-bf18-52222d9ef715"
      },
      "outputs": [],
      "source": [
        "def make_model(DEVICE, nb_block, in_channels, K, nb_chev_filter, nb_time_filter,\n",
        "               time_strides, adj_mx, num_for_predict, len_input, num_of_vertices):\n",
        "    '''\n",
        "\n",
        "    :param DEVICE:\n",
        "    :param nb_block:\n",
        "    :param in_channels:\n",
        "    :param K:\n",
        "    :param nb_chev_filter:\n",
        "    :param nb_time_filter:\n",
        "    :param time_strides:\n",
        "    :param cheb_polynomials:\n",
        "    :param nb_predict_step:\n",
        "    :param len_input\n",
        "    :return:\n",
        "    '''\n",
        "    L_tilde = scaled_Laplacian(adj_mx)\n",
        "    cheb_polynomials = [torch.from_numpy(i).type(torch.FloatTensor).to(DEVICE) for i in cheb_polynomial(L_tilde, K)]\n",
        "    model = ASTGCN_submodule(DEVICE, nb_block, in_channels, K,\n",
        "                             nb_chev_filter, nb_time_filter, time_strides, cheb_polynomials,\n",
        "                             num_for_predict, len_input, num_of_vertices)\n",
        "\n",
        "    ###Applying Xavier Initialization to parameters having diemnsion > 1\n",
        "    for p in model.parameters():\n",
        "        if p.dim() > 1:\n",
        "            nn.init.xavier_uniform_(p)\n",
        "        else:\n",
        "            nn.init.uniform_(p)\n",
        "\n",
        "    return model"
      ]
    },
    {
      "cell_type": "code",
      "execution_count": null,
      "id": "7bbe8e8c-6b19-4f81-9e72-7f5f9e601e05",
      "metadata": {
        "id": "7bbe8e8c-6b19-4f81-9e72-7f5f9e601e05"
      },
      "outputs": [],
      "source": [
        "import torch\n",
        "\n",
        "if torch.cuda.is_available():\n",
        "    DEVICE = torch.device(\"cuda\")\n",
        "else:\n",
        "    DEVICE = torch.device(\"cpu\")"
      ]
    },
    {
      "cell_type": "code",
      "source": [
        "!pip install torch-geometric"
      ],
      "metadata": {
        "colab": {
          "base_uri": "https://localhost:8080/"
        },
        "id": "gf2WSjMlRqSn",
        "outputId": "c5b8d19a-9cb0-4e73-b8b9-5574592c975c"
      },
      "id": "gf2WSjMlRqSn",
      "execution_count": null,
      "outputs": [
        {
          "output_type": "stream",
          "name": "stdout",
          "text": [
            "Collecting torch-geometric\n",
            "  Downloading torch_geometric-2.5.3-py3-none-any.whl.metadata (64 kB)\n",
            "\u001b[?25l     \u001b[90m━━━━━━━━━━━━━━━━━━━━━━━━━━━━━━━━━━━━━━━━\u001b[0m \u001b[32m0.0/64.2 kB\u001b[0m \u001b[31m?\u001b[0m eta \u001b[36m-:--:--\u001b[0m\r\u001b[2K     \u001b[91m━━━━━━━━━━━━━━━━━━━━━━━━━━━━━━━\u001b[0m\u001b[91m╸\u001b[0m\u001b[90m━━━━━━━━\u001b[0m \u001b[32m51.2/64.2 kB\u001b[0m \u001b[31m1.2 MB/s\u001b[0m eta \u001b[36m0:00:01\u001b[0m\r\u001b[2K     \u001b[91m━━━━━━━━━━━━━━━━━━━━━━━━━━━━━━━━━━━━━━\u001b[0m\u001b[90m╺\u001b[0m\u001b[90m━\u001b[0m \u001b[32m61.4/64.2 kB\u001b[0m \u001b[31m863.3 kB/s\u001b[0m eta \u001b[36m0:00:01\u001b[0m\r\u001b[2K     \u001b[90m━━━━━━━━━━━━━━━━━━━━━━━━━━━━━━━━━━━━━━━━\u001b[0m \u001b[32m64.2/64.2 kB\u001b[0m \u001b[31m773.8 kB/s\u001b[0m eta \u001b[36m0:00:00\u001b[0m\n",
            "\u001b[?25hRequirement already satisfied: tqdm in /usr/local/lib/python3.10/dist-packages (from torch-geometric) (4.66.4)\n",
            "Requirement already satisfied: numpy in /usr/local/lib/python3.10/dist-packages (from torch-geometric) (1.25.2)\n",
            "Requirement already satisfied: scipy in /usr/local/lib/python3.10/dist-packages (from torch-geometric) (1.13.1)\n",
            "Requirement already satisfied: fsspec in /usr/local/lib/python3.10/dist-packages (from torch-geometric) (2024.6.1)\n",
            "Requirement already satisfied: jinja2 in /usr/local/lib/python3.10/dist-packages (from torch-geometric) (3.1.4)\n",
            "Requirement already satisfied: aiohttp in /usr/local/lib/python3.10/dist-packages (from torch-geometric) (3.9.5)\n",
            "Requirement already satisfied: requests in /usr/local/lib/python3.10/dist-packages (from torch-geometric) (2.31.0)\n",
            "Requirement already satisfied: pyparsing in /usr/local/lib/python3.10/dist-packages (from torch-geometric) (3.1.2)\n",
            "Requirement already satisfied: scikit-learn in /usr/local/lib/python3.10/dist-packages (from torch-geometric) (1.3.2)\n",
            "Requirement already satisfied: psutil>=5.8.0 in /usr/local/lib/python3.10/dist-packages (from torch-geometric) (5.9.5)\n",
            "Requirement already satisfied: aiosignal>=1.1.2 in /usr/local/lib/python3.10/dist-packages (from aiohttp->torch-geometric) (1.3.1)\n",
            "Requirement already satisfied: attrs>=17.3.0 in /usr/local/lib/python3.10/dist-packages (from aiohttp->torch-geometric) (23.2.0)\n",
            "Requirement already satisfied: frozenlist>=1.1.1 in /usr/local/lib/python3.10/dist-packages (from aiohttp->torch-geometric) (1.4.1)\n",
            "Requirement already satisfied: multidict<7.0,>=4.5 in /usr/local/lib/python3.10/dist-packages (from aiohttp->torch-geometric) (6.0.5)\n",
            "Requirement already satisfied: yarl<2.0,>=1.0 in /usr/local/lib/python3.10/dist-packages (from aiohttp->torch-geometric) (1.9.4)\n",
            "Requirement already satisfied: async-timeout<5.0,>=4.0 in /usr/local/lib/python3.10/dist-packages (from aiohttp->torch-geometric) (4.0.3)\n",
            "Requirement already satisfied: MarkupSafe>=2.0 in /usr/local/lib/python3.10/dist-packages (from jinja2->torch-geometric) (2.1.5)\n",
            "Requirement already satisfied: charset-normalizer<4,>=2 in /usr/local/lib/python3.10/dist-packages (from requests->torch-geometric) (3.3.2)\n",
            "Requirement already satisfied: idna<4,>=2.5 in /usr/local/lib/python3.10/dist-packages (from requests->torch-geometric) (3.7)\n",
            "Requirement already satisfied: urllib3<3,>=1.21.1 in /usr/local/lib/python3.10/dist-packages (from requests->torch-geometric) (2.0.7)\n",
            "Requirement already satisfied: certifi>=2017.4.17 in /usr/local/lib/python3.10/dist-packages (from requests->torch-geometric) (2024.7.4)\n",
            "Requirement already satisfied: joblib>=1.1.1 in /usr/local/lib/python3.10/dist-packages (from scikit-learn->torch-geometric) (1.4.2)\n",
            "Requirement already satisfied: threadpoolctl>=2.0.0 in /usr/local/lib/python3.10/dist-packages (from scikit-learn->torch-geometric) (3.5.0)\n",
            "Downloading torch_geometric-2.5.3-py3-none-any.whl (1.1 MB)\n",
            "\u001b[2K   \u001b[90m━━━━━━━━━━━━━━━━━━━━━━━━━━━━━━━━━━━━━━━━\u001b[0m \u001b[32m1.1/1.1 MB\u001b[0m \u001b[31m7.8 MB/s\u001b[0m eta \u001b[36m0:00:00\u001b[0m\n",
            "\u001b[?25hInstalling collected packages: torch-geometric\n",
            "Successfully installed torch-geometric-2.5.3\n"
          ]
        }
      ]
    },
    {
      "cell_type": "code",
      "source": [
        "!pip install tensorboardX"
      ],
      "metadata": {
        "colab": {
          "base_uri": "https://localhost:8080/"
        },
        "id": "0OmEiQWPRxK8",
        "outputId": "7aefc37c-83e7-4d89-a6ed-d009c792c5da"
      },
      "id": "0OmEiQWPRxK8",
      "execution_count": null,
      "outputs": [
        {
          "output_type": "stream",
          "name": "stdout",
          "text": [
            "Collecting tensorboardX\n",
            "  Downloading tensorboardX-2.6.2.2-py2.py3-none-any.whl.metadata (5.8 kB)\n",
            "Requirement already satisfied: numpy in /usr/local/lib/python3.10/dist-packages (from tensorboardX) (1.25.2)\n",
            "Requirement already satisfied: packaging in /usr/local/lib/python3.10/dist-packages (from tensorboardX) (24.1)\n",
            "Requirement already satisfied: protobuf>=3.20 in /usr/local/lib/python3.10/dist-packages (from tensorboardX) (3.20.3)\n",
            "Downloading tensorboardX-2.6.2.2-py2.py3-none-any.whl (101 kB)\n",
            "\u001b[2K   \u001b[90m━━━━━━━━━━━━━━━━━━━━━━━━━━━━━━━━━━━━━━━━\u001b[0m \u001b[32m101.7/101.7 kB\u001b[0m \u001b[31m1.1 MB/s\u001b[0m eta \u001b[36m0:00:00\u001b[0m\n",
            "\u001b[?25hInstalling collected packages: tensorboardX\n",
            "Successfully installed tensorboardX-2.6.2.2\n"
          ]
        }
      ]
    },
    {
      "cell_type": "code",
      "source": [
        "!pip install torch_scatter"
      ],
      "metadata": {
        "colab": {
          "base_uri": "https://localhost:8080/"
        },
        "id": "oOzZPlBHR4Rt",
        "outputId": "b2725bab-190e-4f4e-878a-6228cb0c58d7"
      },
      "id": "oOzZPlBHR4Rt",
      "execution_count": null,
      "outputs": [
        {
          "output_type": "stream",
          "name": "stdout",
          "text": [
            "Collecting torch_scatter\n",
            "  Downloading torch_scatter-2.1.2.tar.gz (108 kB)\n",
            "\u001b[?25l     \u001b[90m━━━━━━━━━━━━━━━━━━━━━━━━━━━━━━━━━━━━━━━━\u001b[0m \u001b[32m0.0/108.0 kB\u001b[0m \u001b[31m?\u001b[0m eta \u001b[36m-:--:--\u001b[0m\r\u001b[2K     \u001b[90m━━━━━━━━━━━━━━━━━━━━━━━━━━━━━━━━━━━━━━━━\u001b[0m \u001b[32m108.0/108.0 kB\u001b[0m \u001b[31m11.0 MB/s\u001b[0m eta \u001b[36m0:00:00\u001b[0m\n",
            "\u001b[?25h  Preparing metadata (setup.py) ... \u001b[?25l\u001b[?25hdone\n",
            "Building wheels for collected packages: torch_scatter\n",
            "  Building wheel for torch_scatter (setup.py) ... \u001b[?25l\u001b[?25hcanceled\n",
            "\u001b[31mERROR: Operation cancelled by user\u001b[0m\u001b[31m\n",
            "\u001b[0m"
          ]
        }
      ]
    },
    {
      "cell_type": "code",
      "source": [
        "from google.colab import drive\n",
        "drive.mount('/content/drive')"
      ],
      "metadata": {
        "colab": {
          "base_uri": "https://localhost:8080/"
        },
        "id": "C7sL5xhjTP8k",
        "outputId": "e2115599-235c-46a0-f3f3-433c45cc35bd"
      },
      "id": "C7sL5xhjTP8k",
      "execution_count": null,
      "outputs": [
        {
          "output_type": "stream",
          "name": "stdout",
          "text": [
            "Mounted at /content/drive\n"
          ]
        }
      ]
    },
    {
      "cell_type": "code",
      "execution_count": null,
      "id": "6b59a5bd-bbf7-427a-ba88-0bfafcfdf217",
      "metadata": {
        "colab": {
          "base_uri": "https://localhost:8080/"
        },
        "id": "6b59a5bd-bbf7-427a-ba88-0bfafcfdf217",
        "outputId": "80e0eb81-e7dd-4d7e-e7b3-acfb81b0833a"
      },
      "outputs": [
        {
          "output_type": "stream",
          "name": "stdout",
          "text": [
            "CUDA: True cuda:0\n"
          ]
        }
      ],
      "source": [
        "import os\n",
        "from time import time\n",
        "import numpy as np\n",
        "import matplotlib.pyplot as plt\n",
        "import networkx as nx\n",
        "\n",
        "\n",
        "\n",
        "import torch\n",
        "import torch.nn as nn\n",
        "import torch.optim as optim\n",
        "import torch.nn.functional as F\n",
        "from scipy.sparse.linalg import eigs\n",
        "\n",
        "\n",
        "USE_CUDA = torch.cuda.is_available()\n",
        "DEVICE = torch.device('cuda:0')\n",
        "print(\"CUDA:\", USE_CUDA, DEVICE)\n",
        "\n",
        "from tensorboardX import SummaryWriter\n",
        "sw = SummaryWriter(logdir='.', flush_secs=5)\n",
        "\n",
        "import math\n",
        "from typing import Optional, List, Union\n",
        "\n",
        "import torch\n",
        "import torch.nn as nn\n",
        "from torch.nn import Parameter\n",
        "import torch.nn.functional as F\n",
        "\n",
        "from torch_geometric.data import Data\n",
        "from torch_geometric.typing import OptTensor\n",
        "from torch_geometric.nn.conv import MessagePassing\n",
        "from torch_geometric.transforms import LaplacianLambdaMax\n",
        "from torch_geometric.utils import remove_self_loops, add_self_loops, get_laplacian\n",
        "from torch_geometric.utils import to_dense_adj\n",
        "#from torch_scatter import scatter_add"
      ]
    },
    {
      "cell_type": "markdown",
      "id": "099556f5-1671-4e73-b86b-f3e9c4806acf",
      "metadata": {
        "id": "099556f5-1671-4e73-b86b-f3e9c4806acf"
      },
      "source": [
        "###### Loading the Dataset and dividing the Dataset into Training, Testing and Validation"
      ]
    },
    {
      "cell_type": "code",
      "execution_count": null,
      "id": "ea11a6b9-d7a1-40de-957a-155f86ab4c70",
      "metadata": {
        "id": "ea11a6b9-d7a1-40de-957a-155f86ab4c70"
      },
      "outputs": [],
      "source": [
        "def load_graphdata_channel1(batch_size,shuffle=True, DEVICE = torch.device('cuda:0')):\n",
        "    '''\n",
        "    :param DEVICE:\n",
        "    :param batch_size: int\n",
        "    :return:\n",
        "    three DataLoaders, each dataloader contains:\n",
        "    test_x_tensor: (B, N_nodes, in_feature, T_input)\n",
        "    test_decoder_input_tensor: (B, N_nodes, T_output)\n",
        "    test_target_tensor: (B, N_nodes, T_output)\n",
        "    '''\n",
        "\n",
        "    #file = os.path.basename(graph_signal_matrix_filename).split('.')[0]\n",
        "    #filename = os.path.join('../input/processing-traffic-data-for-deep-learning-projects/', file + '_r' + str(num_of_hours) + '_d' + str(num_of_days) + '_w' + str(num_of_weeks)) +'_astcgn'\n",
        "    #print('load file:', filename)\n",
        "\n",
        "    file_data = np.load(r\"/content/drive/MyDrive/COMP9491_ASTGCN_Model/PEMS04_Recent_K_3_4_5/PEMS04_r1_d0_w0_astcgn.npz\")\n",
        "    train_x = file_data['train_x']  # (10181, 307, 3, 12)\n",
        "    train_x = train_x[:, :, 0:1, :]\n",
        "    train_target = file_data['train_target']  # (10181, 307, 12)\n",
        "\n",
        "    val_x = file_data['val_x']\n",
        "    val_x = val_x[:, :, 0:1, :]\n",
        "    val_target = file_data['val_target']\n",
        "\n",
        "    test_x = file_data['test_x']\n",
        "    test_x = test_x[:, :, 0:1, :]\n",
        "    test_target = file_data['test_target']\n",
        "\n",
        "    mean = file_data['mean'][:, :, 0:1, :]  # (1, 1, 3, 1)\n",
        "    std = file_data['std'][:, :, 0:1, :]  # (1, 1, 3, 1)\n",
        "\n",
        "    # ------- train_loader -------\n",
        "    train_x_tensor = torch.from_numpy(train_x).type(torch.FloatTensor).to(DEVICE)  # (B, N, F, T)\n",
        "    train_target_tensor = torch.from_numpy(train_target).type(torch.FloatTensor).to(DEVICE)  # (B, N, T)\n",
        "    train_dataset = torch.utils.data.TensorDataset(train_x_tensor, train_target_tensor)\n",
        "    train_loader = torch.utils.data.DataLoader(train_dataset, batch_size=batch_size, shuffle=shuffle)\n",
        "\n",
        "    # ------- val_loader -------\n",
        "    val_x_tensor = torch.from_numpy(val_x).type(torch.FloatTensor).to(DEVICE)  # (B, N, F, T)\n",
        "    val_target_tensor = torch.from_numpy(val_target).type(torch.FloatTensor).to(DEVICE)  # (B, N, T)\n",
        "    val_dataset = torch.utils.data.TensorDataset(val_x_tensor, val_target_tensor)\n",
        "    val_loader = torch.utils.data.DataLoader(val_dataset, batch_size=batch_size, shuffle=False)\n",
        "\n",
        "    # ------- test_loader -------\n",
        "    test_x_tensor = torch.from_numpy(test_x).type(torch.FloatTensor).to(DEVICE)  # (B, N, F, T)\n",
        "    test_target_tensor = torch.from_numpy(test_target).type(torch.FloatTensor).to(DEVICE)  # (B, N, T)\n",
        "    test_dataset = torch.utils.data.TensorDataset(test_x_tensor, test_target_tensor)\n",
        "    test_loader = torch.utils.data.DataLoader(test_dataset, batch_size=batch_size, shuffle=False)\n",
        "\n",
        "    # print\n",
        "    print('train:', train_x_tensor.size(), train_target_tensor.size())\n",
        "    print('val:', val_x_tensor.size(), val_target_tensor.size())\n",
        "    print('test:', test_x_tensor.size(), test_target_tensor.size())\n",
        "\n",
        "    return train_loader, train_target_tensor, val_loader, val_target_tensor, test_loader, test_target_tensor, mean, std"
      ]
    },
    {
      "cell_type": "markdown",
      "id": "18c91f6a-b0c4-494c-a9c5-9d79e1333f44",
      "metadata": {
        "id": "18c91f6a-b0c4-494c-a9c5-9d79e1333f44"
      },
      "source": [
        "###### Loading the Data and receiving the dimensions of training, testing and validation tensors"
      ]
    },
    {
      "cell_type": "code",
      "execution_count": null,
      "id": "fac7523b-4e22-4431-ad3c-669284d05850",
      "metadata": {
        "colab": {
          "base_uri": "https://localhost:8080/"
        },
        "id": "fac7523b-4e22-4431-ad3c-669284d05850",
        "outputId": "339a7af3-9f2a-48ec-e95f-2f169a93d5b1"
      },
      "outputs": [
        {
          "output_type": "stream",
          "name": "stdout",
          "text": [
            "train: torch.Size([10181, 307, 1, 12]) torch.Size([10181, 307, 12])\n",
            "val: torch.Size([3394, 307, 1, 12]) torch.Size([3394, 307, 12])\n",
            "test: torch.Size([3394, 307, 1, 12]) torch.Size([3394, 307, 12])\n"
          ]
        }
      ],
      "source": [
        "batch_size = 64\n",
        "\n",
        "train_loader, train_target_tensor, val_loader, val_target_tensor, test_loader, test_target_tensor, _mean, _std = load_graphdata_channel1(batch_size)"
      ]
    },
    {
      "cell_type": "markdown",
      "id": "d96da2fc-35d0-47a0-ade7-f78ea7a8e049",
      "metadata": {
        "id": "d96da2fc-35d0-47a0-ade7-f78ea7a8e049"
      },
      "source": [
        "###### Function To Obtain Adjacenecy Matrix from the Graph Data"
      ]
    },
    {
      "cell_type": "code",
      "execution_count": null,
      "id": "9e76bc1d-540c-48c8-b662-0379ef6ac60b",
      "metadata": {
        "id": "9e76bc1d-540c-48c8-b662-0379ef6ac60b"
      },
      "outputs": [],
      "source": [
        "def get_adjacency_matrix(distance_df_filename, num_of_vertices, id_filename=None):\n",
        "    '''\n",
        "    Parameters\n",
        "    ----------\n",
        "    distance_df_filename: str, path of the csv file contains edges information\n",
        "    num_of_vertices: int, the number of vertices\n",
        "    Returns\n",
        "    ----------\n",
        "    A: np.ndarray, adjacency matrix\n",
        "    '''\n",
        "    if 'npy' in distance_df_filename:  # false\n",
        "        adj_mx = np.load(distance_df_filename)\n",
        "        return adj_mx, None\n",
        "    else:\n",
        "\n",
        "        #--------------------------------------------- read from here\n",
        "        import csv\n",
        "        A = np.zeros((int(num_of_vertices), int(num_of_vertices)),dtype=np.float32)\n",
        "        distaneA = np.zeros((int(num_of_vertices), int(num_of_vertices)), dtype=np.float32)\n",
        "\n",
        "        #------------ Ignore\n",
        "        if id_filename: # false\n",
        "            with open(id_filename, 'r') as f:\n",
        "                id_dict = {int(i): idx for idx, i in enumerate(f.read().strip().split('\\n'))}\n",
        "\n",
        "            with open(distance_df_filename, 'r') as f:\n",
        "                f.readline()\n",
        "                reader = csv.reader(f)\n",
        "                for row in reader:\n",
        "                    if len(row) != 3:\n",
        "                        continue\n",
        "                    i, j, distance = int(row[0]), int(row[1]), float(row[2])\n",
        "                    A[id_dict[i], id_dict[j]] = 1\n",
        "                    distaneA[id_dict[i], id_dict[j]] = distance\n",
        "            return A, distaneA\n",
        "\n",
        "        else:\n",
        "         #-------------Continue reading\n",
        "            with open(distance_df_filename, 'r') as f:\n",
        "                f.readline()\n",
        "                reader = csv.reader(f)\n",
        "                for row in reader:\n",
        "                    if len(row) != 3:\n",
        "                        continue\n",
        "                    i, j, distance = int(row[0]), int(row[1]), float(row[2])\n",
        "                    A[i, j] = 1\n",
        "                    distaneA[i, j] = distance\n",
        "            return A, distaneA"
      ]
    },
    {
      "cell_type": "code",
      "execution_count": null,
      "id": "0a6b33b8-55ac-4a6c-9443-c21f8c8a98d3",
      "metadata": {
        "id": "0a6b33b8-55ac-4a6c-9443-c21f8c8a98d3"
      },
      "outputs": [],
      "source": [
        "id_filename = None\n",
        "adj_filename = r'/content/drive/MyDrive/COMP9491_ASTGCN_Model/PEMS04_Recent_K_3_4_5/PEMS04.csv'\n",
        "num_of_vertices = 307\n",
        "adj_mx, distance_mx = get_adjacency_matrix(adj_filename, num_of_vertices, id_filename)"
      ]
    },
    {
      "cell_type": "code",
      "execution_count": null,
      "id": "f425d21a-6f89-4538-95b4-ad1243e06c4a",
      "metadata": {
        "id": "f425d21a-6f89-4538-95b4-ad1243e06c4a"
      },
      "outputs": [],
      "source": [
        "def masked_mape_np(y_true, y_pred, null_val=np.nan):\n",
        "    with np.errstate(divide='ignore', invalid='ignore'):\n",
        "        if np.isnan(null_val):\n",
        "            mask = ~np.isnan(y_true)\n",
        "        else:\n",
        "            mask = np.not_equal(y_true, null_val)\n",
        "        mask = mask.astype('float32')\n",
        "        mask /= np.mean(mask)\n",
        "        mape = np.abs(np.divide(np.subtract(y_pred, y_true).astype('float32'),\n",
        "                      y_true))\n",
        "        mape = np.nan_to_num(mask * mape)\n",
        "        return np.mean(mape)"
      ]
    },
    {
      "cell_type": "code",
      "execution_count": null,
      "id": "ce48348a-b067-42be-b6f2-7f68da895a8a",
      "metadata": {
        "id": "ce48348a-b067-42be-b6f2-7f68da895a8a"
      },
      "outputs": [],
      "source": [
        "def masked_mse(preds, labels, null_val=np.nan):\n",
        "    if np.isnan(null_val):\n",
        "        mask = ~torch.isnan(labels)\n",
        "    else:\n",
        "        mask = (labels != null_val)\n",
        "    mask = mask.float()\n",
        "    # print(mask.sum())\n",
        "    # print(mask.shape[0]*mask.shape[1]*mask.shape[2])\n",
        "    mask /= torch.mean((mask))\n",
        "    mask = torch.where(torch.isnan(mask), torch.zeros_like(mask), mask)\n",
        "    loss = (preds - labels)**2\n",
        "    loss = loss * mask\n",
        "    loss = torch.where(torch.isnan(loss), torch.zeros_like(loss), loss)\n",
        "    return torch.mean(loss)"
      ]
    },
    {
      "cell_type": "code",
      "execution_count": null,
      "id": "1a20fa73-7cf7-4d94-85ce-95f55787d884",
      "metadata": {
        "id": "1a20fa73-7cf7-4d94-85ce-95f55787d884"
      },
      "outputs": [],
      "source": [
        "def masked_rmse(preds, labels, null_val=np.nan):\n",
        "    return torch.sqrt(masked_mse(preds=preds, labels=labels,\n",
        "                                 null_val=null_val))"
      ]
    },
    {
      "cell_type": "code",
      "execution_count": null,
      "id": "7c643032-5938-45ce-85b0-a5e0e232c4a5",
      "metadata": {
        "id": "7c643032-5938-45ce-85b0-a5e0e232c4a5"
      },
      "outputs": [],
      "source": [
        "def masked_mae(preds, labels, null_val=np.nan):\n",
        "    if np.isnan(null_val):\n",
        "        ###creates a mask where values are present are set to True\n",
        "        #### where missing values are present, are set to False\n",
        "        mask = ~torch.isnan(labels)\n",
        "    else:\n",
        "        ### if there is no missing value, create a mask where values are False\n",
        "        mask = (labels != null_val)\n",
        "    mask = mask.float()\n",
        "\n",
        "    ##normalizing the weight of the mask, by dividing with mean of mask values\n",
        "    mask /= torch.mean((mask))\n",
        "\n",
        "    ##Replaces any Missing value in Mask with Zero\n",
        "    mask = torch.where(torch.isnan(mask), torch.zeros_like(mask), mask)\n",
        "    loss = torch.abs(preds - labels)\n",
        "    loss = loss * mask\n",
        "    loss = torch.where(torch.isnan(loss), torch.zeros_like(loss), loss)\n",
        "\n",
        "    ##Computing the meas value of mean absolute error\n",
        "    return torch.mean(loss)"
      ]
    },
    {
      "cell_type": "code",
      "execution_count": null,
      "id": "cd233516-6b42-4075-bade-5744e5f7809d",
      "metadata": {
        "id": "cd233516-6b42-4075-bade-5744e5f7809d"
      },
      "outputs": [],
      "source": [
        "def masked_mae_test(y_true, y_pred, null_val=np.nan):\n",
        "    with np.errstate(divide='ignore', invalid='ignore'):\n",
        "        if np.isnan(null_val):\n",
        "            mask = ~np.isnan(y_true)\n",
        "        else:\n",
        "            mask = np.not_equal(y_true, null_val)\n",
        "        mask = mask.astype('float32')\n",
        "        mask /= np.mean(mask)\n",
        "        mae = np.abs(np.subtract(y_pred, y_true).astype('float32'),\n",
        "                      )\n",
        "        mae = np.nan_to_num(mask * mae)\n",
        "        return np.mean(mae)"
      ]
    },
    {
      "cell_type": "code",
      "execution_count": null,
      "id": "b255a176-fc81-4aa2-b003-1ea84c065c27",
      "metadata": {
        "id": "b255a176-fc81-4aa2-b003-1ea84c065c27"
      },
      "outputs": [],
      "source": [
        "def masked_rmse_test(y_true, y_pred, null_val=np.nan):\n",
        "    with np.errstate(divide='ignore', invalid='ignore'):\n",
        "        if np.isnan(null_val):\n",
        "            mask = ~np.isnan(y_true)\n",
        "        else:\n",
        "            # null_val=null_val\n",
        "            mask = np.not_equal(y_true, null_val)\n",
        "        mask = mask.astype('float32')\n",
        "        mask /= np.mean(mask)\n",
        "        mse = ((y_pred- y_true)**2)\n",
        "        mse = np.nan_to_num(mask * mse)\n",
        "        return np.sqrt(np.mean(mse))"
      ]
    },
    {
      "cell_type": "code",
      "execution_count": null,
      "id": "2a30e14b-0764-4945-b29b-acd67905836b",
      "metadata": {
        "id": "2a30e14b-0764-4945-b29b-acd67905836b"
      },
      "outputs": [],
      "source": [
        "masked_flag=0\n",
        "criterion = nn.L1Loss().to(DEVICE)\n",
        "criterion_masked = masked_mae\n",
        "loss_function = 'mse'\n",
        "\n",
        "metric_method = 'unmask'\n",
        "missing_value=0.0\n",
        "\n",
        "\n",
        "if loss_function=='masked_mse':\n",
        "    criterion_masked = masked_mse         #nn.MSELoss().to(DEVICE)\n",
        "    masked_flag=1\n",
        "elif loss_function=='masked_mae':\n",
        "    criterion_masked = masked_mae\n",
        "    masked_flag = 1\n",
        "elif loss_function == 'mae':\n",
        "    criterion = nn.L1Loss().to(DEVICE)\n",
        "    ###indicating that standard loss function will be used\n",
        "    masked_flag = 0\n",
        "elif loss_function == 'rmse':\n",
        "    criterion = nn.MSELoss().to(DEVICE)\n",
        "    masked_flag= 0"
      ]
    },
    {
      "cell_type": "markdown",
      "source": [
        "###### Model is made for Neighbors, K = 5"
      ],
      "metadata": {
        "id": "vhlxQEQ1IStw"
      },
      "id": "vhlxQEQ1IStw"
    },
    {
      "cell_type": "code",
      "source": [
        "model_hour_k5 = make_model(DEVICE, 2, 1, 5,\n",
        "                        64, 64, 1, adj_mx,\n",
        "                        12, 12, 307)"
      ],
      "metadata": {
        "id": "IUGZKDXYV-Rr"
      },
      "id": "IUGZKDXYV-Rr",
      "execution_count": null,
      "outputs": []
    },
    {
      "cell_type": "code",
      "source": [
        "print(model_hour_k5)"
      ],
      "metadata": {
        "colab": {
          "base_uri": "https://localhost:8080/"
        },
        "id": "O2AdnNv8WG9F",
        "outputId": "a2d7617a-7316-4ca2-9fb9-d39494b5f540"
      },
      "id": "O2AdnNv8WG9F",
      "execution_count": null,
      "outputs": [
        {
          "output_type": "stream",
          "name": "stdout",
          "text": [
            "ASTGCN_submodule(\n",
            "  (BlockList): ModuleList(\n",
            "    (0): ASTGCN_block(\n",
            "      (TAt): Temporal_Attention_layer()\n",
            "      (SAt): Spatial_Attention_layer()\n",
            "      (cheb_conv_SAt): cheb_conv_withSAt(\n",
            "        (Theta): ParameterList(\n",
            "            (0): Parameter containing: [torch.float32 of size 1x64 (cuda:0)]\n",
            "            (1): Parameter containing: [torch.float32 of size 1x64 (cuda:0)]\n",
            "            (2): Parameter containing: [torch.float32 of size 1x64 (cuda:0)]\n",
            "            (3): Parameter containing: [torch.float32 of size 1x64 (cuda:0)]\n",
            "            (4): Parameter containing: [torch.float32 of size 1x64 (cuda:0)]\n",
            "        )\n",
            "      )\n",
            "      (time_conv): Conv2d(64, 64, kernel_size=(1, 3), stride=(1, 1), padding=(0, 1))\n",
            "      (residual_conv): Conv2d(1, 64, kernel_size=(1, 1), stride=(1, 1))\n",
            "      (ln): LayerNorm((64,), eps=1e-05, elementwise_affine=True)\n",
            "    )\n",
            "    (1): ASTGCN_block(\n",
            "      (TAt): Temporal_Attention_layer()\n",
            "      (SAt): Spatial_Attention_layer()\n",
            "      (cheb_conv_SAt): cheb_conv_withSAt(\n",
            "        (Theta): ParameterList(\n",
            "            (0): Parameter containing: [torch.float32 of size 64x64 (cuda:0)]\n",
            "            (1): Parameter containing: [torch.float32 of size 64x64 (cuda:0)]\n",
            "            (2): Parameter containing: [torch.float32 of size 64x64 (cuda:0)]\n",
            "            (3): Parameter containing: [torch.float32 of size 64x64 (cuda:0)]\n",
            "            (4): Parameter containing: [torch.float32 of size 64x64 (cuda:0)]\n",
            "        )\n",
            "      )\n",
            "      (time_conv): Conv2d(64, 64, kernel_size=(1, 3), stride=(1, 1), padding=(0, 1))\n",
            "      (residual_conv): Conv2d(64, 64, kernel_size=(1, 1), stride=(1, 1))\n",
            "      (ln): LayerNorm((64,), eps=1e-05, elementwise_affine=True)\n",
            "    )\n",
            "  )\n",
            "  (final_conv): Conv2d(12, 12, kernel_size=(1, 64), stride=(1, 1))\n",
            ")\n"
          ]
        }
      ]
    },
    {
      "cell_type": "code",
      "source": [
        "model_hour_k4 = make_model(DEVICE, 2, 1, 4,\n",
        "                        64, 64, 1, adj_mx,\n",
        "                        12, 12, 307)"
      ],
      "metadata": {
        "id": "w440F8fHIc20"
      },
      "id": "w440F8fHIc20",
      "execution_count": null,
      "outputs": []
    },
    {
      "cell_type": "code",
      "source": [
        "print(model_hour_k4)"
      ],
      "metadata": {
        "colab": {
          "base_uri": "https://localhost:8080/"
        },
        "id": "6oLNgAcuIr6u",
        "outputId": "0a759a95-b82b-40bf-ebc5-017ea23ab6f4"
      },
      "id": "6oLNgAcuIr6u",
      "execution_count": null,
      "outputs": [
        {
          "output_type": "stream",
          "name": "stdout",
          "text": [
            "ASTGCN_submodule(\n",
            "  (BlockList): ModuleList(\n",
            "    (0): ASTGCN_block(\n",
            "      (TAt): Temporal_Attention_layer()\n",
            "      (SAt): Spatial_Attention_layer()\n",
            "      (cheb_conv_SAt): cheb_conv_withSAt(\n",
            "        (Theta): ParameterList(\n",
            "            (0): Parameter containing: [torch.float32 of size 1x64 (cuda:0)]\n",
            "            (1): Parameter containing: [torch.float32 of size 1x64 (cuda:0)]\n",
            "            (2): Parameter containing: [torch.float32 of size 1x64 (cuda:0)]\n",
            "            (3): Parameter containing: [torch.float32 of size 1x64 (cuda:0)]\n",
            "        )\n",
            "      )\n",
            "      (time_conv): Conv2d(64, 64, kernel_size=(1, 3), stride=(1, 1), padding=(0, 1))\n",
            "      (residual_conv): Conv2d(1, 64, kernel_size=(1, 1), stride=(1, 1))\n",
            "      (ln): LayerNorm((64,), eps=1e-05, elementwise_affine=True)\n",
            "    )\n",
            "    (1): ASTGCN_block(\n",
            "      (TAt): Temporal_Attention_layer()\n",
            "      (SAt): Spatial_Attention_layer()\n",
            "      (cheb_conv_SAt): cheb_conv_withSAt(\n",
            "        (Theta): ParameterList(\n",
            "            (0): Parameter containing: [torch.float32 of size 64x64 (cuda:0)]\n",
            "            (1): Parameter containing: [torch.float32 of size 64x64 (cuda:0)]\n",
            "            (2): Parameter containing: [torch.float32 of size 64x64 (cuda:0)]\n",
            "            (3): Parameter containing: [torch.float32 of size 64x64 (cuda:0)]\n",
            "        )\n",
            "      )\n",
            "      (time_conv): Conv2d(64, 64, kernel_size=(1, 3), stride=(1, 1), padding=(0, 1))\n",
            "      (residual_conv): Conv2d(64, 64, kernel_size=(1, 1), stride=(1, 1))\n",
            "      (ln): LayerNorm((64,), eps=1e-05, elementwise_affine=True)\n",
            "    )\n",
            "  )\n",
            "  (final_conv): Conv2d(12, 12, kernel_size=(1, 64), stride=(1, 1))\n",
            ")\n"
          ]
        }
      ]
    },
    {
      "cell_type": "markdown",
      "source": [
        "###### Defining the Optimizers and Model configurations for K =5"
      ],
      "metadata": {
        "id": "sSq5bhEDI1Ki"
      },
      "id": "sSq5bhEDI1Ki"
    },
    {
      "cell_type": "code",
      "source": [
        "learning_rate = 0.001\n",
        "optimizer = optim.Adam(model_hour_k5.parameters(), lr=learning_rate)"
      ],
      "metadata": {
        "id": "mqikIGmYXLfR",
        "colab": {
          "base_uri": "https://localhost:8080/",
          "height": 162
        },
        "outputId": "3df08183-66c8-4ac3-f268-86639e6cc4f2"
      },
      "id": "mqikIGmYXLfR",
      "execution_count": null,
      "outputs": [
        {
          "output_type": "error",
          "ename": "NameError",
          "evalue": "name 'model_hour_k5' is not defined",
          "traceback": [
            "\u001b[0;31m---------------------------------------------------------------------------\u001b[0m",
            "\u001b[0;31mNameError\u001b[0m                                 Traceback (most recent call last)",
            "\u001b[0;32m<ipython-input-29-72697587b963>\u001b[0m in \u001b[0;36m<cell line: 2>\u001b[0;34m()\u001b[0m\n\u001b[1;32m      1\u001b[0m \u001b[0mlearning_rate\u001b[0m \u001b[0;34m=\u001b[0m \u001b[0;36m0.001\u001b[0m\u001b[0;34m\u001b[0m\u001b[0;34m\u001b[0m\u001b[0m\n\u001b[0;32m----> 2\u001b[0;31m \u001b[0moptimizer\u001b[0m \u001b[0;34m=\u001b[0m \u001b[0moptim\u001b[0m\u001b[0;34m.\u001b[0m\u001b[0mAdam\u001b[0m\u001b[0;34m(\u001b[0m\u001b[0mmodel_hour_k5\u001b[0m\u001b[0;34m.\u001b[0m\u001b[0mparameters\u001b[0m\u001b[0;34m(\u001b[0m\u001b[0;34m)\u001b[0m\u001b[0;34m,\u001b[0m \u001b[0mlr\u001b[0m\u001b[0;34m=\u001b[0m\u001b[0mlearning_rate\u001b[0m\u001b[0;34m)\u001b[0m\u001b[0;34m\u001b[0m\u001b[0;34m\u001b[0m\u001b[0m\n\u001b[0m",
            "\u001b[0;31mNameError\u001b[0m: name 'model_hour_k5' is not defined"
          ]
        }
      ]
    },
    {
      "cell_type": "code",
      "source": [
        "print('Net\\'s state_dict:')\n",
        "total_param = 0\n",
        "for param_tensor in model_hour_k5.state_dict():\n",
        "    print(param_tensor, '\\t', model_hour_k5.state_dict()[param_tensor].size(), '\\t', model_hour_k5.state_dict()[param_tensor].device)\n",
        "    total_param += np.prod(model_hour_k5.state_dict()[param_tensor].size())\n",
        "print('Net\\'s total params:', total_param)\n",
        "#--------------------------------------------------\n",
        "print('Optimizer\\'s state_dict:')\n",
        "for var_name in optimizer.state_dict():\n",
        "    print(var_name, '\\t', optimizer.state_dict()[var_name])"
      ],
      "metadata": {
        "colab": {
          "base_uri": "https://localhost:8080/"
        },
        "id": "zWdU1fR4XO1f",
        "outputId": "17191aad-ffba-4a9e-8e52-53ed9bf3dc51"
      },
      "id": "zWdU1fR4XO1f",
      "execution_count": null,
      "outputs": [
        {
          "output_type": "stream",
          "name": "stdout",
          "text": [
            "Net's state_dict:\n",
            "BlockList.0.TAt.U1 \t torch.Size([307]) \t cuda:0\n",
            "BlockList.0.TAt.U2 \t torch.Size([1, 307]) \t cuda:0\n",
            "BlockList.0.TAt.U3 \t torch.Size([1]) \t cuda:0\n",
            "BlockList.0.TAt.be \t torch.Size([1, 12, 12]) \t cuda:0\n",
            "BlockList.0.TAt.Ve \t torch.Size([12, 12]) \t cuda:0\n",
            "BlockList.0.SAt.W1 \t torch.Size([12]) \t cuda:0\n",
            "BlockList.0.SAt.W2 \t torch.Size([1, 12]) \t cuda:0\n",
            "BlockList.0.SAt.W3 \t torch.Size([1]) \t cuda:0\n",
            "BlockList.0.SAt.bs \t torch.Size([1, 307, 307]) \t cuda:0\n",
            "BlockList.0.SAt.Vs \t torch.Size([307, 307]) \t cuda:0\n",
            "BlockList.0.cheb_conv_SAt.Theta.0 \t torch.Size([1, 64]) \t cuda:0\n",
            "BlockList.0.cheb_conv_SAt.Theta.1 \t torch.Size([1, 64]) \t cuda:0\n",
            "BlockList.0.cheb_conv_SAt.Theta.2 \t torch.Size([1, 64]) \t cuda:0\n",
            "BlockList.0.cheb_conv_SAt.Theta.3 \t torch.Size([1, 64]) \t cuda:0\n",
            "BlockList.0.cheb_conv_SAt.Theta.4 \t torch.Size([1, 64]) \t cuda:0\n",
            "BlockList.0.time_conv.weight \t torch.Size([64, 64, 1, 3]) \t cuda:0\n",
            "BlockList.0.time_conv.bias \t torch.Size([64]) \t cuda:0\n",
            "BlockList.0.residual_conv.weight \t torch.Size([64, 1, 1, 1]) \t cuda:0\n",
            "BlockList.0.residual_conv.bias \t torch.Size([64]) \t cuda:0\n",
            "BlockList.0.ln.weight \t torch.Size([64]) \t cuda:0\n",
            "BlockList.0.ln.bias \t torch.Size([64]) \t cuda:0\n",
            "BlockList.1.TAt.U1 \t torch.Size([307]) \t cuda:0\n",
            "BlockList.1.TAt.U2 \t torch.Size([64, 307]) \t cuda:0\n",
            "BlockList.1.TAt.U3 \t torch.Size([64]) \t cuda:0\n",
            "BlockList.1.TAt.be \t torch.Size([1, 12, 12]) \t cuda:0\n",
            "BlockList.1.TAt.Ve \t torch.Size([12, 12]) \t cuda:0\n",
            "BlockList.1.SAt.W1 \t torch.Size([12]) \t cuda:0\n",
            "BlockList.1.SAt.W2 \t torch.Size([64, 12]) \t cuda:0\n",
            "BlockList.1.SAt.W3 \t torch.Size([64]) \t cuda:0\n",
            "BlockList.1.SAt.bs \t torch.Size([1, 307, 307]) \t cuda:0\n",
            "BlockList.1.SAt.Vs \t torch.Size([307, 307]) \t cuda:0\n",
            "BlockList.1.cheb_conv_SAt.Theta.0 \t torch.Size([64, 64]) \t cuda:0\n",
            "BlockList.1.cheb_conv_SAt.Theta.1 \t torch.Size([64, 64]) \t cuda:0\n",
            "BlockList.1.cheb_conv_SAt.Theta.2 \t torch.Size([64, 64]) \t cuda:0\n",
            "BlockList.1.cheb_conv_SAt.Theta.3 \t torch.Size([64, 64]) \t cuda:0\n",
            "BlockList.1.cheb_conv_SAt.Theta.4 \t torch.Size([64, 64]) \t cuda:0\n",
            "BlockList.1.time_conv.weight \t torch.Size([64, 64, 1, 3]) \t cuda:0\n",
            "BlockList.1.time_conv.bias \t torch.Size([64]) \t cuda:0\n",
            "BlockList.1.residual_conv.weight \t torch.Size([64, 64, 1, 1]) \t cuda:0\n",
            "BlockList.1.residual_conv.bias \t torch.Size([64]) \t cuda:0\n",
            "BlockList.1.ln.weight \t torch.Size([64]) \t cuda:0\n",
            "BlockList.1.ln.bias \t torch.Size([64]) \t cuda:0\n",
            "final_conv.weight \t torch.Size([12, 12, 1, 64]) \t cuda:0\n",
            "final_conv.bias \t torch.Size([12]) \t cuda:0\n",
            "Net's total params: 458351\n",
            "Optimizer's state_dict:\n",
            "state \t {}\n",
            "param_groups \t [{'lr': 0.001, 'betas': (0.9, 0.999), 'eps': 1e-08, 'weight_decay': 0, 'amsgrad': False, 'maximize': False, 'foreach': None, 'capturable': False, 'differentiable': False, 'fused': None, 'params': [0, 1, 2, 3, 4, 5, 6, 7, 8, 9, 10, 11, 12, 13, 14, 15, 16, 17, 18, 19, 20, 21, 22, 23, 24, 25, 26, 27, 28, 29, 30, 31, 32, 33, 34, 35, 36, 37, 38, 39, 40, 41, 42, 43]}]\n"
          ]
        }
      ]
    },
    {
      "cell_type": "markdown",
      "source": [
        "###### Defining Optimization and Config for Model, K = 4"
      ],
      "metadata": {
        "id": "8_1omO2yJKau"
      },
      "id": "8_1omO2yJKau"
    },
    {
      "cell_type": "code",
      "source": [
        "learning_rate = 0.001\n",
        "optimizer = optim.Adam(model_hour_k4.parameters(), lr=learning_rate)"
      ],
      "metadata": {
        "id": "ok5kOosGI9Fq"
      },
      "id": "ok5kOosGI9Fq",
      "execution_count": null,
      "outputs": []
    },
    {
      "cell_type": "code",
      "source": [
        "print('Net\\'s state_dict:')\n",
        "total_param = 0\n",
        "for param_tensor in model_hour_k4.state_dict():\n",
        "    print(param_tensor, '\\t', model_hour_k4.state_dict()[param_tensor].size(), '\\t', model_hour_k4.state_dict()[param_tensor].device)\n",
        "    total_param += np.prod(model_hour_k4.state_dict()[param_tensor].size())\n",
        "print('Net\\'s total params:', total_param)\n",
        "#--------------------------------------------------\n",
        "print('Optimizer\\'s state_dict:')\n",
        "for var_name in optimizer.state_dict():\n",
        "    print(var_name, '\\t', optimizer.state_dict()[var_name])"
      ],
      "metadata": {
        "colab": {
          "base_uri": "https://localhost:8080/"
        },
        "id": "A5o2rr_NJB00",
        "outputId": "7f20cdf7-f272-4cec-f32e-615ab4f0a9de"
      },
      "id": "A5o2rr_NJB00",
      "execution_count": null,
      "outputs": [
        {
          "output_type": "stream",
          "name": "stdout",
          "text": [
            "Net's state_dict:\n",
            "BlockList.0.TAt.U1 \t torch.Size([307]) \t cuda:0\n",
            "BlockList.0.TAt.U2 \t torch.Size([1, 307]) \t cuda:0\n",
            "BlockList.0.TAt.U3 \t torch.Size([1]) \t cuda:0\n",
            "BlockList.0.TAt.be \t torch.Size([1, 12, 12]) \t cuda:0\n",
            "BlockList.0.TAt.Ve \t torch.Size([12, 12]) \t cuda:0\n",
            "BlockList.0.SAt.W1 \t torch.Size([12]) \t cuda:0\n",
            "BlockList.0.SAt.W2 \t torch.Size([1, 12]) \t cuda:0\n",
            "BlockList.0.SAt.W3 \t torch.Size([1]) \t cuda:0\n",
            "BlockList.0.SAt.bs \t torch.Size([1, 307, 307]) \t cuda:0\n",
            "BlockList.0.SAt.Vs \t torch.Size([307, 307]) \t cuda:0\n",
            "BlockList.0.cheb_conv_SAt.Theta.0 \t torch.Size([1, 64]) \t cuda:0\n",
            "BlockList.0.cheb_conv_SAt.Theta.1 \t torch.Size([1, 64]) \t cuda:0\n",
            "BlockList.0.cheb_conv_SAt.Theta.2 \t torch.Size([1, 64]) \t cuda:0\n",
            "BlockList.0.cheb_conv_SAt.Theta.3 \t torch.Size([1, 64]) \t cuda:0\n",
            "BlockList.0.time_conv.weight \t torch.Size([64, 64, 1, 3]) \t cuda:0\n",
            "BlockList.0.time_conv.bias \t torch.Size([64]) \t cuda:0\n",
            "BlockList.0.residual_conv.weight \t torch.Size([64, 1, 1, 1]) \t cuda:0\n",
            "BlockList.0.residual_conv.bias \t torch.Size([64]) \t cuda:0\n",
            "BlockList.0.ln.weight \t torch.Size([64]) \t cuda:0\n",
            "BlockList.0.ln.bias \t torch.Size([64]) \t cuda:0\n",
            "BlockList.1.TAt.U1 \t torch.Size([307]) \t cuda:0\n",
            "BlockList.1.TAt.U2 \t torch.Size([64, 307]) \t cuda:0\n",
            "BlockList.1.TAt.U3 \t torch.Size([64]) \t cuda:0\n",
            "BlockList.1.TAt.be \t torch.Size([1, 12, 12]) \t cuda:0\n",
            "BlockList.1.TAt.Ve \t torch.Size([12, 12]) \t cuda:0\n",
            "BlockList.1.SAt.W1 \t torch.Size([12]) \t cuda:0\n",
            "BlockList.1.SAt.W2 \t torch.Size([64, 12]) \t cuda:0\n",
            "BlockList.1.SAt.W3 \t torch.Size([64]) \t cuda:0\n",
            "BlockList.1.SAt.bs \t torch.Size([1, 307, 307]) \t cuda:0\n",
            "BlockList.1.SAt.Vs \t torch.Size([307, 307]) \t cuda:0\n",
            "BlockList.1.cheb_conv_SAt.Theta.0 \t torch.Size([64, 64]) \t cuda:0\n",
            "BlockList.1.cheb_conv_SAt.Theta.1 \t torch.Size([64, 64]) \t cuda:0\n",
            "BlockList.1.cheb_conv_SAt.Theta.2 \t torch.Size([64, 64]) \t cuda:0\n",
            "BlockList.1.cheb_conv_SAt.Theta.3 \t torch.Size([64, 64]) \t cuda:0\n",
            "BlockList.1.time_conv.weight \t torch.Size([64, 64, 1, 3]) \t cuda:0\n",
            "BlockList.1.time_conv.bias \t torch.Size([64]) \t cuda:0\n",
            "BlockList.1.residual_conv.weight \t torch.Size([64, 64, 1, 1]) \t cuda:0\n",
            "BlockList.1.residual_conv.bias \t torch.Size([64]) \t cuda:0\n",
            "BlockList.1.ln.weight \t torch.Size([64]) \t cuda:0\n",
            "BlockList.1.ln.bias \t torch.Size([64]) \t cuda:0\n",
            "final_conv.weight \t torch.Size([12, 12, 1, 64]) \t cuda:0\n",
            "final_conv.bias \t torch.Size([12]) \t cuda:0\n",
            "Net's total params: 454191\n",
            "Optimizer's state_dict:\n",
            "state \t {}\n",
            "param_groups \t [{'lr': 0.001, 'betas': (0.9, 0.999), 'eps': 1e-08, 'weight_decay': 0, 'amsgrad': False, 'maximize': False, 'foreach': None, 'capturable': False, 'differentiable': False, 'fused': None, 'params': [0, 1, 2, 3, 4, 5, 6, 7, 8, 9, 10, 11, 12, 13, 14, 15, 16, 17, 18, 19, 20, 21, 22, 23, 24, 25, 26, 27, 28, 29, 30, 31, 32, 33, 34, 35, 36, 37, 38, 39, 40, 41]}]\n"
          ]
        }
      ]
    },
    {
      "cell_type": "code",
      "source": [
        "from tensorboardX import SummaryWriter\n",
        "sw = SummaryWriter(logdir='.', flush_secs=5)"
      ],
      "metadata": {
        "id": "hVR2oyOdXb_b"
      },
      "id": "hVR2oyOdXb_b",
      "execution_count": null,
      "outputs": []
    },
    {
      "cell_type": "code",
      "execution_count": null,
      "id": "27c4bdf0-c8b3-4722-a5a6-cb345ed5592d",
      "metadata": {
        "id": "27c4bdf0-c8b3-4722-a5a6-cb345ed5592d"
      },
      "outputs": [],
      "source": [
        "def compute_val_loss_astgcn(net, val_loader, criterion,  masked_flag,missing_value,sw, epoch, limit=None):\n",
        "    '''\n",
        "    for rnn, compute mean loss on validation set\n",
        "    :param net: model\n",
        "    :param val_loader: torch.utils.data.utils.DataLoader\n",
        "    :param criterion: torch.nn.MSELoss\n",
        "    :param sw: tensorboardX.SummaryWriter\n",
        "    :param global_step: int, current global_step\n",
        "    :param limit: int,\n",
        "    :return: val_loss\n",
        "    '''\n",
        "\n",
        "    net.train(False)  # ensure dropout layers are in evaluation mode\n",
        "\n",
        "    with torch.no_grad():\n",
        "\n",
        "        val_loader_length = len(val_loader)  # nb of batch\n",
        "\n",
        "        tmp = []  # batch loss\n",
        "\n",
        "        for batch_index, batch_data in enumerate(val_loader):\n",
        "            encoder_inputs, labels = batch_data\n",
        "            outputs = net(encoder_inputs)\n",
        "            if masked_flag:\n",
        "                loss = criterion(outputs, labels, missing_value)\n",
        "            else:\n",
        "                loss = criterion(outputs, labels)\n",
        "\n",
        "            tmp.append(loss.item())\n",
        "            if batch_index % 100 == 0:\n",
        "                print('validation batch %s / %s, loss: %.2f' % (batch_index + 1, val_loader_length, loss.item()))\n",
        "            if (limit is not None) and batch_index >= limit:\n",
        "                break\n",
        "\n",
        "        validation_loss = sum(tmp) / len(tmp)\n",
        "        sw.add_scalar('validation_loss', validation_loss, epoch)\n",
        "    return validation_loss\n"
      ]
    },
    {
      "cell_type": "markdown",
      "source": [
        "###### Training for Model with neighbors, set K = 5"
      ],
      "metadata": {
        "id": "AMCEuIFiJVkC"
      },
      "id": "AMCEuIFiJVkC"
    },
    {
      "cell_type": "code",
      "source": [
        "global_step_k5 = 0\n",
        "best_epoch_k5 = 0\n",
        "best_val_loss_k5 = np.inf\n",
        "start_time= time()"
      ],
      "metadata": {
        "id": "bcqsIKaaYGqF"
      },
      "id": "bcqsIKaaYGqF",
      "execution_count": null,
      "outputs": []
    },
    {
      "cell_type": "code",
      "source": [
        "validation_loss_list = []\n",
        "training_loss_list = []\n",
        "final_train_loss = []\n",
        "\n",
        "# train model\n",
        "#masked_flag = 0\n",
        "for epoch in range(20):\n",
        "\n",
        "    params_filename = os.path.join('./', 'k5_04_epoch_%s.params' % epoch)\n",
        "    masked_flag = 1\n",
        "\n",
        "    if masked_flag:\n",
        "        val_loss = compute_val_loss_astgcn(model_hour_k5, val_loader, criterion_masked, masked_flag,missing_value,sw, epoch)\n",
        "    else:\n",
        "        val_loss = compute_val_loss_astgcn(model_hour_k5, val_loader, criterion, masked_flag, missing_value, sw, epoch)\n",
        "\n",
        "    ###appending the validation Loss in the List\n",
        "    validation_loss_list.append(val_loss)\n",
        "    if val_loss < best_val_loss_k5:\n",
        "        best_val_loss_k5 = val_loss\n",
        "        best_epoch_k5 = epoch\n",
        "        torch.save(model_hour_k5.state_dict(), params_filename)\n",
        "        print('save parameters to file: %s' % params_filename)\n",
        "\n",
        "    model_hour_k5.train()  # ensure dropout layers are in train mode\n",
        "\n",
        "    for batch_index, batch_data in enumerate(train_loader):\n",
        "\n",
        "        encoder_inputs, labels = batch_data\n",
        "\n",
        "        optimizer.zero_grad()\n",
        "\n",
        "        outputs = model_hour_k5(encoder_inputs)\n",
        "\n",
        "        if masked_flag:\n",
        "            loss = criterion_masked(outputs, labels,missing_value)\n",
        "        else :\n",
        "            loss = criterion(outputs, labels)\n",
        "\n",
        "\n",
        "        loss.backward()\n",
        "\n",
        "        optimizer.step()\n",
        "\n",
        "        training_loss = loss.item()\n",
        "\n",
        "        global_step_k5 += 1\n",
        "\n",
        "        training_loss_list.append(training_loss)\n",
        "\n",
        "        sw.add_scalar('training_loss', training_loss, global_step_k5)\n",
        "        #globalstep_training_loss_list.append(training_loss)\n",
        "\n",
        "        if global_step_k5 % 200 == 0:\n",
        "\n",
        "            print('global step: %s, training loss: %.2f, time: %.2fs' % (global_step_k5, training_loss, time() - start_time))\n",
        "\n",
        "    ##Estimating the Total Training Batch Loss\n",
        "    train_batch_loss = sum(training_loss_list)/len(training_loss_list)\n",
        "    final_train_loss.append(train_batch_loss)\n",
        "\n",
        "print('best epoch:', best_epoch_k5)\n",
        "\n"
      ],
      "metadata": {
        "colab": {
          "base_uri": "https://localhost:8080/"
        },
        "id": "Ldvma6VIYaS4",
        "outputId": "a9c961f9-d926-4cbd-9c87-ec617eb82c58"
      },
      "id": "Ldvma6VIYaS4",
      "execution_count": null,
      "outputs": [
        {
          "output_type": "stream",
          "name": "stdout",
          "text": [
            "validation batch 1 / 54, loss: 289.23\n",
            "save parameters to file: ./k5_04_epoch_0.params\n",
            "validation batch 1 / 54, loss: 152.20\n",
            "save parameters to file: ./k5_04_epoch_1.params\n",
            "global step: 200, training loss: 77.47, time: 116.13s\n",
            "validation batch 1 / 54, loss: 61.69\n",
            "save parameters to file: ./k5_04_epoch_2.params\n",
            "global step: 400, training loss: 40.40, time: 181.79s\n",
            "validation batch 1 / 54, loss: 42.41\n",
            "save parameters to file: ./k5_04_epoch_3.params\n",
            "global step: 600, training loss: 35.54, time: 247.50s\n",
            "validation batch 1 / 54, loss: 36.96\n",
            "save parameters to file: ./k5_04_epoch_4.params\n",
            "global step: 800, training loss: 40.03, time: 312.99s\n",
            "validation batch 1 / 54, loss: 36.57\n",
            "save parameters to file: ./k5_04_epoch_5.params\n",
            "validation batch 1 / 54, loss: 32.27\n",
            "save parameters to file: ./k5_04_epoch_6.params\n",
            "global step: 1000, training loss: 30.16, time: 383.53s\n",
            "validation batch 1 / 54, loss: 31.11\n",
            "save parameters to file: ./k5_04_epoch_7.params\n",
            "global step: 1200, training loss: 28.73, time: 449.22s\n",
            "validation batch 1 / 54, loss: 30.33\n",
            "save parameters to file: ./k5_04_epoch_8.params\n",
            "global step: 1400, training loss: 25.54, time: 514.89s\n",
            "validation batch 1 / 54, loss: 30.03\n",
            "save parameters to file: ./k5_04_epoch_9.params\n",
            "global step: 1600, training loss: 29.47, time: 580.42s\n",
            "validation batch 1 / 54, loss: 28.86\n",
            "save parameters to file: ./k5_04_epoch_10.params\n",
            "validation batch 1 / 54, loss: 31.48\n",
            "global step: 1800, training loss: 24.06, time: 650.89s\n",
            "validation batch 1 / 54, loss: 28.67\n",
            "save parameters to file: ./k5_04_epoch_12.params\n",
            "global step: 2000, training loss: 25.72, time: 716.64s\n",
            "validation batch 1 / 54, loss: 28.12\n",
            "save parameters to file: ./k5_04_epoch_13.params\n",
            "global step: 2200, training loss: 25.15, time: 782.33s\n",
            "validation batch 1 / 54, loss: 28.01\n",
            "save parameters to file: ./k5_04_epoch_14.params\n",
            "global step: 2400, training loss: 25.69, time: 847.81s\n",
            "validation batch 1 / 54, loss: 27.93\n",
            "save parameters to file: ./k5_04_epoch_15.params\n",
            "validation batch 1 / 54, loss: 28.18\n",
            "global step: 2600, training loss: 22.87, time: 918.33s\n",
            "validation batch 1 / 54, loss: 27.82\n",
            "save parameters to file: ./k5_04_epoch_17.params\n",
            "global step: 2800, training loss: 23.95, time: 984.06s\n",
            "validation batch 1 / 54, loss: 27.41\n",
            "save parameters to file: ./k5_04_epoch_18.params\n",
            "global step: 3000, training loss: 23.62, time: 1049.78s\n",
            "validation batch 1 / 54, loss: 27.86\n",
            "save parameters to file: ./k5_04_epoch_19.params\n",
            "global step: 3200, training loss: 15.62, time: 1115.16s\n",
            "best epoch: 19\n"
          ]
        }
      ]
    },
    {
      "cell_type": "code",
      "source": [
        "len(validation_loss_list)"
      ],
      "metadata": {
        "colab": {
          "base_uri": "https://localhost:8080/"
        },
        "id": "SEawzNNMD-aK",
        "outputId": "3f1a2baa-80c7-45b8-ec51-d4225750d4a5"
      },
      "id": "SEawzNNMD-aK",
      "execution_count": null,
      "outputs": [
        {
          "output_type": "execute_result",
          "data": {
            "text/plain": [
              "20"
            ]
          },
          "metadata": {},
          "execution_count": 35
        }
      ]
    },
    {
      "cell_type": "code",
      "source": [
        "len(final_train_loss)"
      ],
      "metadata": {
        "colab": {
          "base_uri": "https://localhost:8080/"
        },
        "id": "yVYWDE2PEKhp",
        "outputId": "551fe415-a6d8-4172-a0db-11fc34b0cb68"
      },
      "id": "yVYWDE2PEKhp",
      "execution_count": null,
      "outputs": [
        {
          "output_type": "execute_result",
          "data": {
            "text/plain": [
              "20"
            ]
          },
          "metadata": {},
          "execution_count": 36
        }
      ]
    },
    {
      "cell_type": "markdown",
      "source": [
        "##### Validation Loss when K=5"
      ],
      "metadata": {
        "id": "_AoLcptuEfe-"
      },
      "id": "_AoLcptuEfe-"
    },
    {
      "cell_type": "code",
      "source": [
        "validation_loss_list"
      ],
      "metadata": {
        "colab": {
          "base_uri": "https://localhost:8080/"
        },
        "id": "D_fDsrmHEOI_",
        "outputId": "81ce98d9-ff16-4154-9d8e-12594e32a968"
      },
      "id": "D_fDsrmHEOI_",
      "execution_count": null,
      "outputs": [
        {
          "output_type": "execute_result",
          "data": {
            "text/plain": [
              "[218.81036087318702,\n",
              " 114.85288031895955,\n",
              " 56.12742077862775,\n",
              " 40.04944674173991,\n",
              " 34.9916607538859,\n",
              " 34.19734988389192,\n",
              " 31.004926999409992,\n",
              " 29.56535056785301,\n",
              " 28.60619306564331,\n",
              " 27.913490842889857,\n",
              " 26.92356088426378,\n",
              " 27.932923246313024,\n",
              " 26.090986375455504,\n",
              " 25.801328588415075,\n",
              " 25.60287540930289,\n",
              " 25.019220811349374,\n",
              " 25.030254929154008,\n",
              " 24.58477689601757,\n",
              " 24.35062348401105,\n",
              " 24.206234084235298]"
            ]
          },
          "metadata": {},
          "execution_count": 37
        }
      ]
    },
    {
      "cell_type": "markdown",
      "source": [
        "###### Training Loss, when K =5"
      ],
      "metadata": {
        "id": "qCZN2AF9EqJp"
      },
      "id": "qCZN2AF9EqJp"
    },
    {
      "cell_type": "code",
      "source": [
        "final_train_loss"
      ],
      "metadata": {
        "colab": {
          "base_uri": "https://localhost:8080/"
        },
        "id": "NF4NS-NrERid",
        "outputId": "d4d51aec-bfe8-4e43-8d85-5467e4afc3b5"
      },
      "id": "NF4NS-NrERid",
      "execution_count": null,
      "outputs": [
        {
          "output_type": "execute_result",
          "data": {
            "text/plain": [
              "[159.05133242607116,\n",
              " 116.7196918129921,\n",
              " 92.41702630519868,\n",
              " 78.16866680085658,\n",
              " 68.93105806350708,\n",
              " 62.43035494883855,\n",
              " 57.57002205678395,\n",
              " 53.79769857078791,\n",
              " 50.759742143419054,\n",
              " 48.27338101029396,\n",
              " 46.19567956924438,\n",
              " 44.426497134566304,\n",
              " 42.89154925621473,\n",
              " 41.554577841929024,\n",
              " 40.37736162980398,\n",
              " 39.32903052866459,\n",
              " 38.3896460757536,\n",
              " 37.54309080574247,\n",
              " 36.77234034789236,\n",
              " 36.06901576370001]"
            ]
          },
          "metadata": {},
          "execution_count": 38
        }
      ]
    },
    {
      "cell_type": "markdown",
      "source": [
        "##### Training for when K =4"
      ],
      "metadata": {
        "id": "jGaKGDO1LLAN"
      },
      "id": "jGaKGDO1LLAN"
    },
    {
      "cell_type": "code",
      "source": [
        "global_step_k4 = 0\n",
        "best_epoch_k4 = 0\n",
        "best_val_loss_k4 = np.inf\n",
        "start_time= time()"
      ],
      "metadata": {
        "id": "qbZGtodbJe7R"
      },
      "id": "qbZGtodbJe7R",
      "execution_count": null,
      "outputs": []
    },
    {
      "cell_type": "code",
      "source": [
        "validation_loss_list_k4 = []\n",
        "training_loss_list_k4 = []\n",
        "final_train_loss_k4 = []\n",
        "\n",
        "# train model\n",
        "#masked_flag = 0\n",
        "for epoch in range(20):\n",
        "\n",
        "    params_filename = os.path.join('./', '6ptsk4_04_epoch_%s.params' % epoch)\n",
        "    masked_flag = 1\n",
        "\n",
        "    if masked_flag:\n",
        "        val_loss = compute_val_loss_astgcn(model_hour_k4, val_loader, criterion_masked, masked_flag,missing_value,sw, epoch)\n",
        "    else:\n",
        "        val_loss = compute_val_loss_astgcn(model_hour_k4, val_loader, criterion, masked_flag, missing_value, sw, epoch)\n",
        "\n",
        "    ###appending the validation Loss in the List\n",
        "    validation_loss_list_k4.append(val_loss)\n",
        "    if val_loss < best_val_loss_k4:\n",
        "        best_val_loss_k4 = val_loss\n",
        "        best_epoch_k4 = epoch\n",
        "        torch.save(model_hour_k4.state_dict(), params_filename)\n",
        "        print('save parameters to file: %s' % params_filename)\n",
        "\n",
        "    model_hour_k4.train()  # ensure dropout layers are in train mode\n",
        "\n",
        "    for batch_index, batch_data in enumerate(train_loader):\n",
        "\n",
        "        encoder_inputs, labels = batch_data\n",
        "\n",
        "        optimizer.zero_grad()\n",
        "\n",
        "        outputs = model_hour_k4(encoder_inputs)\n",
        "\n",
        "        if masked_flag:\n",
        "            loss = criterion_masked(outputs, labels,missing_value)\n",
        "        else :\n",
        "            loss = criterion(outputs, labels)\n",
        "\n",
        "\n",
        "        loss.backward()\n",
        "\n",
        "        optimizer.step()\n",
        "\n",
        "        training_loss_k4 = loss.item()\n",
        "\n",
        "        global_step_k4 += 1\n",
        "\n",
        "        training_loss_list_k4.append(training_loss_k4)\n",
        "\n",
        "        sw.add_scalar('training_loss', training_loss_k4, global_step_k4)\n",
        "        #globalstep_training_loss_list.append(training_loss)\n",
        "\n",
        "        if global_step_k4 % 200 == 0:\n",
        "\n",
        "            print('global step: %s, training loss: %.2f, time: %.2fs' % (global_step_k4, training_loss_k4, time() - start_time))\n",
        "\n",
        "    ##Estimating the Total Training Batch Loss\n",
        "    train_batch_loss_k4 = sum(training_loss_list_k4)/len(training_loss_list_k4)\n",
        "    final_train_loss_k4.append(train_batch_loss_k4)\n",
        "\n",
        "print('best epoch:', best_epoch_k4)"
      ],
      "metadata": {
        "colab": {
          "base_uri": "https://localhost:8080/"
        },
        "id": "Sy_4IqdXJfxx",
        "outputId": "036e5e4b-6b97-4484-ca7f-b777bd88974e"
      },
      "id": "Sy_4IqdXJfxx",
      "execution_count": null,
      "outputs": [
        {
          "output_type": "stream",
          "name": "stdout",
          "text": [
            "validation batch 1 / 54, loss: 287.98\n",
            "save parameters to file: ./6ptsk4_04_epoch_0.params\n",
            "validation batch 1 / 54, loss: 210.13\n",
            "save parameters to file: ./6ptsk4_04_epoch_1.params\n",
            "global step: 200, training loss: 121.61, time: 42.74s\n",
            "validation batch 1 / 54, loss: 105.52\n",
            "save parameters to file: ./6ptsk4_04_epoch_2.params\n",
            "global step: 400, training loss: 54.37, time: 56.28s\n",
            "validation batch 1 / 54, loss: 53.94\n",
            "save parameters to file: ./6ptsk4_04_epoch_3.params\n",
            "global step: 600, training loss: 36.22, time: 69.82s\n",
            "validation batch 1 / 54, loss: 36.87\n",
            "save parameters to file: ./6ptsk4_04_epoch_4.params\n",
            "global step: 800, training loss: 27.74, time: 83.33s\n",
            "validation batch 1 / 54, loss: 32.32\n",
            "save parameters to file: ./6ptsk4_04_epoch_5.params\n",
            "validation batch 1 / 54, loss: 29.73\n",
            "save parameters to file: ./6ptsk4_04_epoch_6.params\n",
            "global step: 1000, training loss: 25.48, time: 98.43s\n",
            "validation batch 1 / 54, loss: 29.05\n",
            "save parameters to file: ./6ptsk4_04_epoch_7.params\n",
            "global step: 1200, training loss: 23.52, time: 111.96s\n",
            "validation batch 1 / 54, loss: 30.15\n",
            "save parameters to file: ./6ptsk4_04_epoch_8.params\n",
            "global step: 1400, training loss: 21.00, time: 125.52s\n",
            "validation batch 1 / 54, loss: 29.13\n",
            "save parameters to file: ./6ptsk4_04_epoch_9.params\n",
            "global step: 1600, training loss: 23.33, time: 139.06s\n",
            "validation batch 1 / 54, loss: 27.52\n",
            "save parameters to file: ./6ptsk4_04_epoch_10.params\n",
            "validation batch 1 / 54, loss: 27.08\n",
            "save parameters to file: ./6ptsk4_04_epoch_11.params\n",
            "global step: 1800, training loss: 21.29, time: 154.09s\n",
            "validation batch 1 / 54, loss: 27.24\n",
            "save parameters to file: ./6ptsk4_04_epoch_12.params\n",
            "global step: 2000, training loss: 22.69, time: 167.63s\n",
            "validation batch 1 / 54, loss: 26.93\n",
            "global step: 2200, training loss: 21.13, time: 181.15s\n",
            "validation batch 1 / 54, loss: 26.61\n",
            "save parameters to file: ./6ptsk4_04_epoch_14.params\n",
            "global step: 2400, training loss: 26.15, time: 194.65s\n",
            "validation batch 1 / 54, loss: 26.38\n",
            "validation batch 1 / 54, loss: 26.64\n",
            "save parameters to file: ./6ptsk4_04_epoch_16.params\n",
            "global step: 2600, training loss: 22.17, time: 209.70s\n",
            "validation batch 1 / 54, loss: 26.79\n",
            "global step: 2800, training loss: 23.19, time: 223.22s\n",
            "validation batch 1 / 54, loss: 26.03\n",
            "save parameters to file: ./6ptsk4_04_epoch_18.params\n",
            "global step: 3000, training loss: 20.72, time: 236.74s\n",
            "validation batch 1 / 54, loss: 25.96\n",
            "global step: 3200, training loss: 24.00, time: 250.21s\n",
            "best epoch: 18\n"
          ]
        }
      ]
    },
    {
      "cell_type": "code",
      "source": [
        "len(validation_loss_list_k4)"
      ],
      "metadata": {
        "colab": {
          "base_uri": "https://localhost:8080/"
        },
        "id": "ADJw_EFWtPnG",
        "outputId": "8f182600-b580-4d45-d510-2c600e30e600"
      },
      "id": "ADJw_EFWtPnG",
      "execution_count": null,
      "outputs": [
        {
          "output_type": "execute_result",
          "data": {
            "text/plain": [
              "20"
            ]
          },
          "metadata": {},
          "execution_count": 36
        }
      ]
    },
    {
      "cell_type": "code",
      "source": [
        "len(final_train_loss_k4)"
      ],
      "metadata": {
        "colab": {
          "base_uri": "https://localhost:8080/"
        },
        "id": "afQ8788CtVaY",
        "outputId": "5293d8ea-8539-433d-eb23-278a28d28642"
      },
      "id": "afQ8788CtVaY",
      "execution_count": null,
      "outputs": [
        {
          "output_type": "execute_result",
          "data": {
            "text/plain": [
              "20"
            ]
          },
          "metadata": {},
          "execution_count": 37
        }
      ]
    },
    {
      "cell_type": "code",
      "source": [
        "validation_loss_list_k4"
      ],
      "metadata": {
        "colab": {
          "base_uri": "https://localhost:8080/"
        },
        "id": "UBQE2YV_tf1O",
        "outputId": "fc658136-6c3b-4c06-b033-f13d463139af"
      },
      "id": "UBQE2YV_tf1O",
      "execution_count": null,
      "outputs": [
        {
          "output_type": "execute_result",
          "data": {
            "text/plain": [
              "[218.92432615492078,\n",
              " 156.78599767331724,\n",
              " 81.24316743568137,\n",
              " 47.75927690223411,\n",
              " 33.38435540375886,\n",
              " 29.189859566865145,\n",
              " 27.333828025394016,\n",
              " 26.11710235807631,\n",
              " 25.800863884113454,\n",
              " 24.888406029453986,\n",
              " 23.836735354529488,\n",
              " 23.348943162847448,\n",
              " 23.18652832949603,\n",
              " 23.269789872346102,\n",
              " 22.44289467069838,\n",
              " 22.461941648412633,\n",
              " 22.10370210365013,\n",
              " 22.1134552249202,\n",
              " 21.675689096804017,\n",
              " 21.700916784780997]"
            ]
          },
          "metadata": {},
          "execution_count": 38
        }
      ]
    },
    {
      "cell_type": "code",
      "source": [
        "final_train_loss_k4"
      ],
      "metadata": {
        "colab": {
          "base_uri": "https://localhost:8080/"
        },
        "id": "Ozx5BPQNtj0O",
        "outputId": "aaab360b-d255-434b-86cb-13387ebb5d4c"
      },
      "id": "Ozx5BPQNtj0O",
      "execution_count": null,
      "outputs": [
        {
          "output_type": "execute_result",
          "data": {
            "text/plain": [
              "[179.251554107666,\n",
              " 143.23562932014465,\n",
              " 114.44407831033071,\n",
              " 94.91032828092575,\n",
              " 81.78548230409622,\n",
              " 72.6456634481748,\n",
              " 65.91523901053837,\n",
              " 60.758647836744785,\n",
              " 56.664447731441925,\n",
              " 53.32612419009209,\n",
              " 50.55506418835033,\n",
              " 48.212952855229375,\n",
              " 46.2055827828554,\n",
              " 44.46803258572306,\n",
              " 42.94566304206848,\n",
              " 41.60066942870617,\n",
              " 40.40197398241828,\n",
              " 39.328540592061145,\n",
              " 38.35733387595729,\n",
              " 37.47690620601177]"
            ]
          },
          "metadata": {},
          "execution_count": 39
        }
      ]
    },
    {
      "cell_type": "code",
      "source": [
        "def re_normalization(x, mean, std):\n",
        "    x = x * std + mean\n",
        "    return x\n",
        "\n",
        "\n",
        "def max_min_normalization(x, _max, _min):\n",
        "    x = 1. * (x - _min)/(_max - _min)\n",
        "    x = x * 2. - 1.\n",
        "    return x\n",
        "\n",
        "\n",
        "def re_max_min_normalization(x, _max, _min):\n",
        "    x = (x + 1.) / 2.\n",
        "    x = 1. * x * (_max - _min) + _min\n",
        "    return x\n"
      ],
      "metadata": {
        "id": "G-rUZ5U6mr7J"
      },
      "id": "G-rUZ5U6mr7J",
      "execution_count": null,
      "outputs": []
    },
    {
      "cell_type": "code",
      "execution_count": null,
      "id": "150ab6f2-1ef0-48ee-ae73-5f47ad7d0dbe",
      "metadata": {
        "id": "150ab6f2-1ef0-48ee-ae73-5f47ad7d0dbe"
      },
      "outputs": [],
      "source": [
        "def predict_and_save_results_astgcn(net, data_loader, data_target_tensor, global_step, metric_method,_mean, _std, params_path, type):\n",
        "    '''\n",
        "\n",
        "    :param net: nn.Module\n",
        "    :param data_loader: torch.utils.data.utils.DataLoader\n",
        "    :param data_target_tensor: tensor\n",
        "    :param epoch: int\n",
        "    :param _mean: (1, 1, 3, 1)\n",
        "    :param _std: (1, 1, 3, 1)\n",
        "    :param params_path: the path for saving the results\n",
        "    :return:\n",
        "    '''\n",
        "    net.train(False)  # ensure dropout layers are in test mode\n",
        "\n",
        "    with torch.no_grad():\n",
        "\n",
        "        data_target_tensor = data_target_tensor.cpu().numpy()\n",
        "\n",
        "        loader_length = len(data_loader)  # nb of batch\n",
        "\n",
        "        prediction = []  #storing the batch output\n",
        "\n",
        "        input = []  #storing the batch input\n",
        "\n",
        "        for batch_index, batch_data in enumerate(data_loader):\n",
        "\n",
        "            encoder_inputs, labels = batch_data\n",
        "\n",
        "            ##Taking only the single input feature\n",
        "            input.append(encoder_inputs[:, :, 0:1].cpu().numpy())  # (batch, T', 1)\n",
        "\n",
        "            outputs = net(encoder_inputs)\n",
        "\n",
        "            prediction.append(outputs.detach().cpu().numpy())\n",
        "\n",
        "            if batch_index % 100 == 0:\n",
        "                print('predicting data set batch %s / %s' % (batch_index + 1, loader_length))\n",
        "\n",
        "        input = np.concatenate(input, 0)\n",
        "\n",
        "        input = re_normalization(input, _mean, _std)\n",
        "\n",
        "        prediction = np.concatenate(prediction, 0)  # (batch, T', 1)\n",
        "\n",
        "        print('input:', input.shape)\n",
        "        print('prediction:', prediction.shape)\n",
        "        print('data_target_tensor:', data_target_tensor.shape)\n",
        "        output_filename = os.path.join(params_path, '12ptsHourk4output_epoch_%s_%s' % (global_step, type))\n",
        "        np.savez(output_filename, input=input, prediction=prediction, data_target_tensor=data_target_tensor)\n",
        "\n",
        "\n",
        "        excel_list = []\n",
        "\n",
        "        ###prediction length has the shape of feature of a certain node\n",
        "        prediction_length = prediction.shape[2]\n",
        "\n",
        "        for i in range(prediction_length):\n",
        "\n",
        "            ### ensuring number of data samples in target sensor is same as that of prediction tensor\n",
        "            assert data_target_tensor.shape[0] == prediction.shape[0]\n",
        "            print('current epoch: %s, predict %s points' % (global_step, i))\n",
        "            if metric_method == 'mask':\n",
        "\n",
        "                ## calculating the value of the feature prediction of each node for T timesteps\n",
        "                mae = masked_mae_test(data_target_tensor[:, :, i], prediction[:, :, i],0.0)\n",
        "                rmse = masked_rmse_test(data_target_tensor[:, :, i], prediction[:, :, i],0.0)\n",
        "                mape = masked_mape_np(data_target_tensor[:, :, i], prediction[:, :, i], 0)\n",
        "            else :\n",
        "                mae = mean_absolute_error(data_target_tensor[:, :, i], prediction[:, :, i])\n",
        "                rmse = mean_squared_error(data_target_tensor[:, :, i], prediction[:, :, i]) ** 0.5\n",
        "                mape = masked_mape_np(data_target_tensor[:, :, i], prediction[:, :, i], 0)\n",
        "            print('MAE: %.2f' % (mae))\n",
        "            print('RMSE: %.2f' % (rmse))\n",
        "            print('MAPE: %.2f' % (mape))\n",
        "            excel_list.extend([mae, rmse, mape])\n",
        "\n",
        "        # print overall results\n",
        "        if metric_method == 'mask':\n",
        "            mae = masked_mae_test(data_target_tensor.reshape(-1, 1), prediction.reshape(-1, 1), 0.0)\n",
        "            rmse = masked_rmse_test(data_target_tensor.reshape(-1, 1), prediction.reshape(-1, 1), 0.0)\n",
        "            mape = masked_mape_np(data_target_tensor.reshape(-1, 1), prediction.reshape(-1, 1), 0)\n",
        "        else :\n",
        "            mae = mean_absolute_error(data_target_tensor.reshape(-1, 1), prediction.reshape(-1, 1))\n",
        "            rmse = mean_squared_error(data_target_tensor.reshape(-1, 1), prediction.reshape(-1, 1)) ** 0.5\n",
        "            mape = masked_mape_np(data_target_tensor.reshape(-1, 1), prediction.reshape(-1, 1), 0)\n",
        "        print('all MAE: %.2f' % (mae))\n",
        "        print('all RMSE: %.2f' % (rmse))\n",
        "        print('all MAPE: %.2f' % (mape))\n",
        "        excel_list.extend([mae, rmse, mape])\n",
        "        print(excel_list)"
      ]
    },
    {
      "cell_type": "code",
      "source": [
        "def predict_main(global_step, data_loader, data_target_tensor,metric_method, _mean, _std, type):\n",
        "    '''\n",
        "\n",
        "    :param global_step: int\n",
        "    :param data_loader: torch.utils.data.utils.DataLoader\n",
        "    :param data_target_tensor: tensor\n",
        "    :param mean: (1, 1, 3, 1)\n",
        "    :param std: (1, 1, 3, 1)\n",
        "    :param type: string\n",
        "    :return:\n",
        "    '''\n",
        "    params_path = '/content/drive/MyDrive/COMP9491_ASTGCN_Model/PEMS04_Recent_K_3_4_5/Best_Epoch_Saved_Recent/'\n",
        "    params_filename = os.path.join(params_path, 'k4_04_epoch_%s.params' % global_step)\n",
        "    print('load weight from:', params_filename)\n",
        "\n",
        "    model_hour_k4.load_state_dict(torch.load(params_filename))\n",
        "\n",
        "    predict_and_save_results_astgcn(model_hour_k4, data_loader, data_target_tensor, global_step, metric_method,_mean, _std, params_path, type)"
      ],
      "metadata": {
        "id": "-_oXw5bPpVWC"
      },
      "id": "-_oXw5bPpVWC",
      "execution_count": null,
      "outputs": []
    },
    {
      "cell_type": "markdown",
      "source": [
        "###### Prediction for the Recent Model, when K = 5"
      ],
      "metadata": {
        "id": "qf6v8fyrH_ym"
      },
      "id": "qf6v8fyrH_ym"
    },
    {
      "cell_type": "code",
      "source": [
        "predict_main(best_epoch_k5,test_loader, test_target_tensor,'unmask', _mean, _std, 'test' )"
      ],
      "metadata": {
        "colab": {
          "base_uri": "https://localhost:8080/"
        },
        "id": "xm_VIeRrFzB7",
        "outputId": "059cb83f-0496-460f-8389-dececf108a74"
      },
      "id": "xm_VIeRrFzB7",
      "execution_count": null,
      "outputs": [
        {
          "output_type": "stream",
          "name": "stdout",
          "text": [
            "load weight from: /content/drive/MyDrive/COMP9491_ASTGCN_Model/PEMS04_Recent_K_3_4_5/Best_Epoch_Saved_Recent/k5_04_epoch_19.params\n",
            "predicting data set batch 1 / 54\n",
            "input: (3394, 307, 1, 12)\n",
            "prediction: (3394, 307, 12)\n",
            "data_target_tensor: (3394, 307, 12)\n",
            "current epoch: 19, predict 0 points\n",
            "MAE: 19.86\n",
            "RMSE: 31.21\n",
            "MAPE: 0.14\n",
            "current epoch: 19, predict 1 points\n",
            "MAE: 20.79\n",
            "RMSE: 32.64\n",
            "MAPE: 0.15\n",
            "current epoch: 19, predict 2 points\n",
            "MAE: 21.62\n",
            "RMSE: 33.91\n",
            "MAPE: 0.15\n",
            "current epoch: 19, predict 3 points\n",
            "MAE: 22.36\n",
            "RMSE: 35.05\n",
            "MAPE: 0.16\n",
            "current epoch: 19, predict 4 points\n",
            "MAE: 23.08\n",
            "RMSE: 36.15\n",
            "MAPE: 0.16\n",
            "current epoch: 19, predict 5 points\n",
            "MAE: 23.86\n",
            "RMSE: 37.32\n",
            "MAPE: 0.17\n",
            "current epoch: 19, predict 6 points\n",
            "MAE: 24.63\n",
            "RMSE: 38.47\n",
            "MAPE: 0.17\n",
            "current epoch: 19, predict 7 points\n",
            "MAE: 25.45\n",
            "RMSE: 39.68\n",
            "MAPE: 0.18\n",
            "current epoch: 19, predict 8 points\n",
            "MAE: 26.21\n",
            "RMSE: 40.83\n",
            "MAPE: 0.18\n",
            "current epoch: 19, predict 9 points\n",
            "MAE: 27.03\n",
            "RMSE: 42.03\n",
            "MAPE: 0.19\n",
            "current epoch: 19, predict 10 points\n",
            "MAE: 27.93\n",
            "RMSE: 43.32\n",
            "MAPE: 0.20\n",
            "current epoch: 19, predict 11 points\n",
            "MAE: 28.91\n",
            "RMSE: 44.71\n",
            "MAPE: 0.21\n",
            "all MAE: 24.31\n",
            "all RMSE: 38.17\n",
            "all MAPE: 0.17\n",
            "[19.864416, 31.212829456110672, 0.14203107, 20.78872, 32.644493622465454, 0.14788894, 21.623638, 33.91115135944867, 0.15339129, 22.361185, 35.04760121015328, 0.15811971, 23.081987, 36.15349154883764, 0.16291405, 23.856894, 37.31902620375932, 0.16828148, 24.627964, 38.4729082972884, 0.1733997, 25.447422, 39.6769671062444, 0.17901337, 26.206669, 40.83370518936761, 0.18445209, 27.032103, 42.03313773641875, 0.19102508, 27.92662, 43.32153190912257, 0.19805217, 28.914623, 44.70869389246696, 0.20622045, 24.310984, 38.16870733633198, 0.1720663]\n"
          ]
        }
      ]
    },
    {
      "cell_type": "markdown",
      "source": [
        "###### Prediction for the Recent Model, when K = 4"
      ],
      "metadata": {
        "id": "jkCBeIKVtzKp"
      },
      "id": "jkCBeIKVtzKp"
    },
    {
      "cell_type": "code",
      "source": [
        "predict_main(19,test_loader, test_target_tensor,'unmask', _mean, _std, 'test' )"
      ],
      "metadata": {
        "colab": {
          "base_uri": "https://localhost:8080/"
        },
        "id": "cBovIGcbFcgH",
        "outputId": "61d5e4ea-78e3-484b-ac59-e0a2124bf47f"
      },
      "id": "cBovIGcbFcgH",
      "execution_count": null,
      "outputs": [
        {
          "output_type": "stream",
          "name": "stdout",
          "text": [
            "load weight from: /content/drive/MyDrive/COMP9491_ASTGCN_Model/PEMS04_Recent_K_3_4_5/Best_Epoch_Saved_Recent/k4_04_epoch_19.params\n",
            "predicting data set batch 1 / 54\n",
            "input: (3394, 307, 1, 12)\n",
            "prediction: (3394, 307, 12)\n",
            "data_target_tensor: (3394, 307, 12)\n",
            "current epoch: 19, predict 0 points\n",
            "MAE: 19.42\n",
            "RMSE: 30.68\n",
            "MAPE: 0.13\n",
            "current epoch: 19, predict 1 points\n",
            "MAE: 20.03\n",
            "RMSE: 31.60\n",
            "MAPE: 0.14\n",
            "current epoch: 19, predict 2 points\n",
            "MAE: 20.57\n",
            "RMSE: 32.39\n",
            "MAPE: 0.14\n",
            "current epoch: 19, predict 3 points\n",
            "MAE: 21.03\n",
            "RMSE: 33.06\n",
            "MAPE: 0.15\n",
            "current epoch: 19, predict 4 points\n",
            "MAE: 21.47\n",
            "RMSE: 33.70\n",
            "MAPE: 0.15\n",
            "current epoch: 19, predict 5 points\n",
            "MAE: 21.90\n",
            "RMSE: 34.34\n",
            "MAPE: 0.15\n",
            "current epoch: 19, predict 6 points\n",
            "MAE: 22.36\n",
            "RMSE: 35.03\n",
            "MAPE: 0.15\n",
            "current epoch: 19, predict 7 points\n",
            "MAE: 22.86\n",
            "RMSE: 35.78\n",
            "MAPE: 0.16\n",
            "current epoch: 19, predict 8 points\n",
            "MAE: 23.43\n",
            "RMSE: 36.60\n",
            "MAPE: 0.16\n",
            "current epoch: 19, predict 9 points\n",
            "MAE: 24.12\n",
            "RMSE: 37.56\n",
            "MAPE: 0.16\n",
            "current epoch: 19, predict 10 points\n",
            "MAE: 24.91\n",
            "RMSE: 38.64\n",
            "MAPE: 0.17\n",
            "current epoch: 19, predict 11 points\n",
            "MAE: 25.82\n",
            "RMSE: 39.89\n",
            "MAPE: 0.18\n",
            "all MAE: 22.33\n",
            "all RMSE: 35.05\n",
            "all MAPE: 0.15\n",
            "[19.422028, 30.68345425851488, 0.13400023, 20.027136, 31.598319518397158, 0.13838564, 20.569925, 32.38883859039059, 0.14269494, 21.027576, 33.05708508056083, 0.1456793, 21.472265, 33.70447233051016, 0.1488969, 21.89692, 34.34098103601038, 0.15090491, 22.358307, 35.031298784533384, 0.15322241, 22.864222, 35.77906482137547, 0.15601893, 23.430267, 36.5966503840985, 0.15925299, 24.117294, 37.55874142749178, 0.16398555, 24.909382, 38.643760297892044, 0.16920774, 25.82457, 39.89485080926798, 0.17546694, 22.326658, 35.046720003558285, 0.1531435]\n"
          ]
        }
      ]
    },
    {
      "cell_type": "code",
      "source": [
        "predict_main(best_epoch_k4,test_loader, test_target_tensor,'unmask', _mean, _std, 'test' )"
      ],
      "metadata": {
        "colab": {
          "base_uri": "https://localhost:8080/"
        },
        "id": "sgqTp3GytyiU",
        "outputId": "90b4ba01-539c-4356-b1c4-aa79c46ff85b"
      },
      "id": "sgqTp3GytyiU",
      "execution_count": null,
      "outputs": [
        {
          "output_type": "stream",
          "name": "stdout",
          "text": [
            "load weight from: /content/drive/MyDrive/COMP9491_ASTGCN_Model/PEMS04_Recent_K_3_4_5/Best_Epoch_Saved_Recent/6ptsk4_04_epoch_18.params\n",
            "predicting data set batch 1 / 54\n",
            "input: (3397, 307, 1, 6)\n",
            "prediction: (3397, 307, 6)\n",
            "data_target_tensor: (3397, 307, 6)\n",
            "current epoch: 18, predict 0 points\n",
            "MAE: 18.80\n",
            "RMSE: 29.55\n",
            "MAPE: 0.14\n",
            "current epoch: 18, predict 1 points\n",
            "MAE: 19.81\n",
            "RMSE: 31.05\n",
            "MAPE: 0.14\n",
            "current epoch: 18, predict 2 points\n",
            "MAE: 20.86\n",
            "RMSE: 32.54\n",
            "MAPE: 0.15\n",
            "current epoch: 18, predict 3 points\n",
            "MAE: 21.91\n",
            "RMSE: 34.03\n",
            "MAPE: 0.16\n",
            "current epoch: 18, predict 4 points\n",
            "MAE: 23.01\n",
            "RMSE: 35.61\n",
            "MAPE: 0.16\n",
            "current epoch: 18, predict 5 points\n",
            "MAE: 24.20\n",
            "RMSE: 37.35\n",
            "MAPE: 0.17\n",
            "all MAE: 21.43\n",
            "all RMSE: 33.46\n",
            "all MAPE: 0.15\n",
            "[18.797348, 29.54888796190402, 0.13837017, 19.813284, 31.05391606746241, 0.14439823, 20.86271, 32.54004631615961, 0.14885023, 21.913273, 34.026478947009046, 0.15513688, 23.010967, 35.613483267292004, 0.16184522, 24.200466, 37.35498000601794, 0.16925123, 21.433012, 33.46105332836595, 0.15297557]\n"
          ]
        }
      ]
    },
    {
      "cell_type": "markdown",
      "source": [
        "###### ASTGCN_Hourly Model when K=3 Neighbors consisdered for each verted for Spatial Attention"
      ],
      "metadata": {
        "id": "bY_lRLNtO3Z_"
      },
      "id": "bY_lRLNtO3Z_"
    },
    {
      "cell_type": "code",
      "execution_count": null,
      "id": "56b47792-b522-463a-a51c-75e67484ee60",
      "metadata": {
        "id": "56b47792-b522-463a-a51c-75e67484ee60"
      },
      "outputs": [],
      "source": [
        "model_hour_k3 = make_model(DEVICE, 2, 1, 3,\n",
        "                        64, 64, 1, adj_mx,\n",
        "                        12, 12, 307)"
      ]
    },
    {
      "cell_type": "markdown",
      "id": "2855386a-e2f4-4c73-8595-6ef4a9e24456",
      "metadata": {
        "id": "2855386a-e2f4-4c73-8595-6ef4a9e24456"
      },
      "source": [
        "###### Printing the Configuration of the Model"
      ]
    },
    {
      "cell_type": "code",
      "execution_count": null,
      "id": "377df7cf-a6df-4522-9bd5-4072c24bebe0",
      "metadata": {
        "colab": {
          "base_uri": "https://localhost:8080/"
        },
        "id": "377df7cf-a6df-4522-9bd5-4072c24bebe0",
        "outputId": "8ea734da-4284-4ab3-caf0-ae6d96ad9d38"
      },
      "outputs": [
        {
          "output_type": "stream",
          "name": "stdout",
          "text": [
            "ASTGCN_submodule(\n",
            "  (BlockList): ModuleList(\n",
            "    (0): ASTGCN_block(\n",
            "      (TAt): Temporal_Attention_layer()\n",
            "      (SAt): Spatial_Attention_layer()\n",
            "      (cheb_conv_SAt): cheb_conv_withSAt(\n",
            "        (Theta): ParameterList(\n",
            "            (0): Parameter containing: [torch.float32 of size 1x64 (cuda:0)]\n",
            "            (1): Parameter containing: [torch.float32 of size 1x64 (cuda:0)]\n",
            "            (2): Parameter containing: [torch.float32 of size 1x64 (cuda:0)]\n",
            "        )\n",
            "      )\n",
            "      (time_conv): Conv2d(64, 64, kernel_size=(1, 3), stride=(1, 1), padding=(0, 1))\n",
            "      (residual_conv): Conv2d(1, 64, kernel_size=(1, 1), stride=(1, 1))\n",
            "      (ln): LayerNorm((64,), eps=1e-05, elementwise_affine=True)\n",
            "    )\n",
            "    (1): ASTGCN_block(\n",
            "      (TAt): Temporal_Attention_layer()\n",
            "      (SAt): Spatial_Attention_layer()\n",
            "      (cheb_conv_SAt): cheb_conv_withSAt(\n",
            "        (Theta): ParameterList(\n",
            "            (0): Parameter containing: [torch.float32 of size 64x64 (cuda:0)]\n",
            "            (1): Parameter containing: [torch.float32 of size 64x64 (cuda:0)]\n",
            "            (2): Parameter containing: [torch.float32 of size 64x64 (cuda:0)]\n",
            "        )\n",
            "      )\n",
            "      (time_conv): Conv2d(64, 64, kernel_size=(1, 3), stride=(1, 1), padding=(0, 1))\n",
            "      (residual_conv): Conv2d(64, 64, kernel_size=(1, 1), stride=(1, 1))\n",
            "      (ln): LayerNorm((64,), eps=1e-05, elementwise_affine=True)\n",
            "    )\n",
            "  )\n",
            "  (final_conv): Conv2d(12, 12, kernel_size=(1, 64), stride=(1, 1))\n",
            ")\n"
          ]
        }
      ],
      "source": [
        "print(model_hour_k3)"
      ]
    },
    {
      "cell_type": "markdown",
      "id": "387728e5-1c92-4d7e-be7f-e75023315e42",
      "metadata": {
        "id": "387728e5-1c92-4d7e-be7f-e75023315e42"
      },
      "source": [
        "###### Printing the Parameter Size and Configurations of the Model\n",
        "###### Initializing the Learning Rate and Optimizer for the Model"
      ]
    },
    {
      "cell_type": "code",
      "execution_count": null,
      "id": "4f335097-ebb8-453f-b2dc-43ec38d7c419",
      "metadata": {
        "id": "4f335097-ebb8-453f-b2dc-43ec38d7c419"
      },
      "outputs": [],
      "source": [
        "learning_rate = 0.001\n",
        "optimizer = optim.Adam(model_hour_k3.parameters(), lr=learning_rate)"
      ]
    },
    {
      "cell_type": "markdown",
      "id": "ad5c33cf-e03b-47cc-a7a3-6682c0ad4fd0",
      "metadata": {
        "id": "ad5c33cf-e03b-47cc-a7a3-6682c0ad4fd0"
      },
      "source": [
        "###### Displaying the Size of the Parameter tensor and the device in which the tensors are stored"
      ]
    },
    {
      "cell_type": "code",
      "execution_count": null,
      "id": "84aabfac-8b2f-4a27-9921-7327674484d3",
      "metadata": {
        "colab": {
          "base_uri": "https://localhost:8080/"
        },
        "id": "84aabfac-8b2f-4a27-9921-7327674484d3",
        "outputId": "e9f6f533-6416-4050-b4a5-77ed2f13f13e"
      },
      "outputs": [
        {
          "output_type": "stream",
          "name": "stdout",
          "text": [
            "Net's state_dict:\n",
            "BlockList.0.TAt.U1 \t torch.Size([307]) \t cuda:0\n",
            "BlockList.0.TAt.U2 \t torch.Size([1, 307]) \t cuda:0\n",
            "BlockList.0.TAt.U3 \t torch.Size([1]) \t cuda:0\n",
            "BlockList.0.TAt.be \t torch.Size([1, 12, 12]) \t cuda:0\n",
            "BlockList.0.TAt.Ve \t torch.Size([12, 12]) \t cuda:0\n",
            "BlockList.0.SAt.W1 \t torch.Size([12]) \t cuda:0\n",
            "BlockList.0.SAt.W2 \t torch.Size([1, 12]) \t cuda:0\n",
            "BlockList.0.SAt.W3 \t torch.Size([1]) \t cuda:0\n",
            "BlockList.0.SAt.bs \t torch.Size([1, 307, 307]) \t cuda:0\n",
            "BlockList.0.SAt.Vs \t torch.Size([307, 307]) \t cuda:0\n",
            "BlockList.0.cheb_conv_SAt.Theta.0 \t torch.Size([1, 64]) \t cuda:0\n",
            "BlockList.0.cheb_conv_SAt.Theta.1 \t torch.Size([1, 64]) \t cuda:0\n",
            "BlockList.0.cheb_conv_SAt.Theta.2 \t torch.Size([1, 64]) \t cuda:0\n",
            "BlockList.0.time_conv.weight \t torch.Size([64, 64, 1, 3]) \t cuda:0\n",
            "BlockList.0.time_conv.bias \t torch.Size([64]) \t cuda:0\n",
            "BlockList.0.residual_conv.weight \t torch.Size([64, 1, 1, 1]) \t cuda:0\n",
            "BlockList.0.residual_conv.bias \t torch.Size([64]) \t cuda:0\n",
            "BlockList.0.ln.weight \t torch.Size([64]) \t cuda:0\n",
            "BlockList.0.ln.bias \t torch.Size([64]) \t cuda:0\n",
            "BlockList.1.TAt.U1 \t torch.Size([307]) \t cuda:0\n",
            "BlockList.1.TAt.U2 \t torch.Size([64, 307]) \t cuda:0\n",
            "BlockList.1.TAt.U3 \t torch.Size([64]) \t cuda:0\n",
            "BlockList.1.TAt.be \t torch.Size([1, 12, 12]) \t cuda:0\n",
            "BlockList.1.TAt.Ve \t torch.Size([12, 12]) \t cuda:0\n",
            "BlockList.1.SAt.W1 \t torch.Size([12]) \t cuda:0\n",
            "BlockList.1.SAt.W2 \t torch.Size([64, 12]) \t cuda:0\n",
            "BlockList.1.SAt.W3 \t torch.Size([64]) \t cuda:0\n",
            "BlockList.1.SAt.bs \t torch.Size([1, 307, 307]) \t cuda:0\n",
            "BlockList.1.SAt.Vs \t torch.Size([307, 307]) \t cuda:0\n",
            "BlockList.1.cheb_conv_SAt.Theta.0 \t torch.Size([64, 64]) \t cuda:0\n",
            "BlockList.1.cheb_conv_SAt.Theta.1 \t torch.Size([64, 64]) \t cuda:0\n",
            "BlockList.1.cheb_conv_SAt.Theta.2 \t torch.Size([64, 64]) \t cuda:0\n",
            "BlockList.1.time_conv.weight \t torch.Size([64, 64, 1, 3]) \t cuda:0\n",
            "BlockList.1.time_conv.bias \t torch.Size([64]) \t cuda:0\n",
            "BlockList.1.residual_conv.weight \t torch.Size([64, 64, 1, 1]) \t cuda:0\n",
            "BlockList.1.residual_conv.bias \t torch.Size([64]) \t cuda:0\n",
            "BlockList.1.ln.weight \t torch.Size([64]) \t cuda:0\n",
            "BlockList.1.ln.bias \t torch.Size([64]) \t cuda:0\n",
            "final_conv.weight \t torch.Size([12, 12, 1, 64]) \t cuda:0\n",
            "final_conv.bias \t torch.Size([12]) \t cuda:0\n",
            "Net's total params: 450031\n",
            "Optimizer's state_dict:\n",
            "state \t {}\n",
            "param_groups \t [{'lr': 0.001, 'betas': (0.9, 0.999), 'eps': 1e-08, 'weight_decay': 0, 'amsgrad': False, 'maximize': False, 'foreach': None, 'capturable': False, 'differentiable': False, 'fused': None, 'params': [0, 1, 2, 3, 4, 5, 6, 7, 8, 9, 10, 11, 12, 13, 14, 15, 16, 17, 18, 19, 20, 21, 22, 23, 24, 25, 26, 27, 28, 29, 30, 31, 32, 33, 34, 35, 36, 37, 38, 39]}]\n"
          ]
        }
      ],
      "source": [
        "print('Net\\'s state_dict:')\n",
        "total_param = 0\n",
        "for param_tensor in model_hour_k3.state_dict():\n",
        "    print(param_tensor, '\\t', model_hour_k3.state_dict()[param_tensor].size(), '\\t', model_hour_k3.state_dict()[param_tensor].device)\n",
        "    total_param += np.prod(model_hour_k3.state_dict()[param_tensor].size())\n",
        "print('Net\\'s total params:', total_param)\n",
        "#--------------------------------------------------\n",
        "print('Optimizer\\'s state_dict:')\n",
        "for var_name in optimizer.state_dict():\n",
        "    print(var_name, '\\t', optimizer.state_dict()[var_name])"
      ]
    },
    {
      "cell_type": "markdown",
      "id": "601f1ab6-f5f9-4758-8bf1-f54e709c69de",
      "metadata": {
        "id": "601f1ab6-f5f9-4758-8bf1-f54e709c69de"
      },
      "source": [
        "###### Function for Computing Validation Loss for the Model"
      ]
    },
    {
      "cell_type": "code",
      "execution_count": null,
      "id": "3c707a16-c0af-405a-b20e-c297abea8b9f",
      "metadata": {
        "id": "3c707a16-c0af-405a-b20e-c297abea8b9f"
      },
      "outputs": [],
      "source": [
        "global_step_k3 = 0\n",
        "best_epoch_k3 = 0\n",
        "best_val_loss_k3 = np.inf\n",
        "start_time= time()"
      ]
    },
    {
      "cell_type": "markdown",
      "id": "1094611f-f408-4339-8ae2-a325d2a2a320",
      "metadata": {
        "id": "1094611f-f408-4339-8ae2-a325d2a2a320"
      },
      "source": [
        "###### Training Loop Starts"
      ]
    },
    {
      "cell_type": "code",
      "execution_count": null,
      "id": "8af7519c-3ddb-4354-bdad-57dbc75b71aa",
      "metadata": {
        "colab": {
          "base_uri": "https://localhost:8080/"
        },
        "id": "8af7519c-3ddb-4354-bdad-57dbc75b71aa",
        "outputId": "bd238ad6-8146-49d7-ce53-fc195d4a733a"
      },
      "outputs": [
        {
          "output_type": "stream",
          "name": "stdout",
          "text": [
            "validation batch 1 / 54, loss: 289.28\n",
            "save parameters to file: ./k3_04_epoch_0.params\n",
            "validation batch 1 / 54, loss: 152.44\n",
            "save parameters to file: ./k3_04_epoch_1.params\n",
            "global step: 200, training loss: 85.94, time: 137.54s\n",
            "validation batch 1 / 54, loss: 59.77\n",
            "save parameters to file: ./k3_04_epoch_2.params\n",
            "global step: 400, training loss: 36.99, time: 189.02s\n",
            "validation batch 1 / 54, loss: 38.07\n",
            "save parameters to file: ./k3_04_epoch_3.params\n",
            "global step: 600, training loss: 29.84, time: 240.50s\n",
            "validation batch 1 / 54, loss: 33.67\n",
            "save parameters to file: ./k3_04_epoch_4.params\n",
            "global step: 800, training loss: 26.67, time: 291.74s\n",
            "validation batch 1 / 54, loss: 35.53\n",
            "save parameters to file: ./k3_04_epoch_5.params\n",
            "validation batch 1 / 54, loss: 33.72\n",
            "save parameters to file: ./k3_04_epoch_6.params\n",
            "global step: 1000, training loss: 22.53, time: 347.13s\n",
            "validation batch 1 / 54, loss: 29.07\n",
            "save parameters to file: ./k3_04_epoch_7.params\n",
            "global step: 1200, training loss: 24.41, time: 398.48s\n",
            "validation batch 1 / 54, loss: 31.57\n",
            "global step: 1400, training loss: 21.00, time: 449.87s\n",
            "validation batch 1 / 54, loss: 29.19\n",
            "save parameters to file: ./k3_04_epoch_9.params\n",
            "global step: 1600, training loss: 16.95, time: 501.06s\n",
            "validation batch 1 / 54, loss: 28.38\n",
            "save parameters to file: ./k3_04_epoch_10.params\n",
            "validation batch 1 / 54, loss: 27.79\n",
            "save parameters to file: ./k3_04_epoch_11.params\n",
            "global step: 1800, training loss: 21.36, time: 556.46s\n",
            "validation batch 1 / 54, loss: 27.98\n",
            "global step: 2000, training loss: 19.92, time: 607.91s\n",
            "validation batch 1 / 54, loss: 28.65\n",
            "save parameters to file: ./k3_04_epoch_13.params\n",
            "global step: 2200, training loss: 19.30, time: 659.30s\n",
            "validation batch 1 / 54, loss: 27.62\n",
            "save parameters to file: ./k3_04_epoch_14.params\n",
            "global step: 2400, training loss: 17.77, time: 710.52s\n",
            "validation batch 1 / 54, loss: 27.64\n",
            "save parameters to file: ./k3_04_epoch_15.params\n",
            "validation batch 1 / 54, loss: 27.57\n",
            "global step: 2600, training loss: 21.50, time: 765.92s\n",
            "validation batch 1 / 54, loss: 26.93\n",
            "global step: 2800, training loss: 18.88, time: 817.32s\n",
            "validation batch 1 / 54, loss: 27.84\n",
            "global step: 3000, training loss: 19.91, time: 868.72s\n",
            "validation batch 1 / 54, loss: 26.99\n",
            "save parameters to file: ./k3_04_epoch_19.params\n",
            "global step: 3200, training loss: 14.69, time: 919.96s\n",
            "best epoch: 19\n"
          ]
        }
      ],
      "source": [
        "validation_loss_list_k3 = []\n",
        "training_loss_list_k3 = []\n",
        "final_train_loss_k3 = []\n",
        "\n",
        "# train model\n",
        "#masked_flag = 0\n",
        "for epoch in range(20):\n",
        "\n",
        "    params_filename = os.path.join('./', 'k3_04_epoch_%s.params' % epoch)\n",
        "    masked_flag = 1\n",
        "\n",
        "    if masked_flag:\n",
        "        val_loss = compute_val_loss_astgcn(model_hour_k3, val_loader, criterion_masked, masked_flag,missing_value,sw, epoch)\n",
        "    else:\n",
        "        val_loss = compute_val_loss_astgcn(model_hour_k3, val_loader, criterion, masked_flag, missing_value, sw, epoch)\n",
        "\n",
        "    ###appending the validation Loss in the List\n",
        "    validation_loss_list_k3.append(val_loss)\n",
        "    if val_loss < best_val_loss_k3:\n",
        "        best_val_loss_k3 = val_loss\n",
        "        best_epoch_k3 = epoch\n",
        "        torch.save(model_hour_k3.state_dict(), params_filename)\n",
        "        print('save parameters to file: %s' % params_filename)\n",
        "\n",
        "    model_hour_k3.train()  # ensure dropout layers are in train mode\n",
        "\n",
        "    for batch_index, batch_data in enumerate(train_loader):\n",
        "\n",
        "        encoder_inputs, labels = batch_data\n",
        "\n",
        "        optimizer.zero_grad()\n",
        "\n",
        "        outputs = model_hour_k3(encoder_inputs)\n",
        "\n",
        "        if masked_flag:\n",
        "            loss = criterion_masked(outputs, labels,missing_value)\n",
        "        else :\n",
        "            loss = criterion(outputs, labels)\n",
        "\n",
        "\n",
        "        loss.backward()\n",
        "\n",
        "        optimizer.step()\n",
        "\n",
        "        training_loss_k3 = loss.item()\n",
        "\n",
        "        global_step_k3 += 1\n",
        "\n",
        "        training_loss_list_k3.append(training_loss_k3)\n",
        "\n",
        "        sw.add_scalar('training_loss', training_loss_k3, global_step_k3)\n",
        "        #globalstep_training_loss_list.append(training_loss)\n",
        "\n",
        "        if global_step_k3 % 200 == 0:\n",
        "\n",
        "            print('global step: %s, training loss: %.2f, time: %.2fs' % (global_step_k3, training_loss_k3, time() - start_time))\n",
        "\n",
        "    ##Estimating the Total Training Batch Loss\n",
        "    train_batch_loss_k3 = sum(training_loss_list_k3)/len(training_loss_list_k3)\n",
        "    final_train_loss_k3.append(train_batch_loss_k3)\n",
        "\n",
        "print('best epoch:', best_epoch_k3)"
      ]
    },
    {
      "cell_type": "code",
      "source": [
        "len(validation_loss_list_k3)"
      ],
      "metadata": {
        "colab": {
          "base_uri": "https://localhost:8080/"
        },
        "id": "bV-JclkBAjsF",
        "outputId": "0e61627c-f214-4136-febc-509d49765c9d"
      },
      "id": "bV-JclkBAjsF",
      "execution_count": null,
      "outputs": [
        {
          "output_type": "execute_result",
          "data": {
            "text/plain": [
              "20"
            ]
          },
          "metadata": {},
          "execution_count": 62
        }
      ]
    },
    {
      "cell_type": "code",
      "source": [
        "len(final_train_loss_k3)"
      ],
      "metadata": {
        "id": "SZiqKW_eArHu",
        "outputId": "1cfd125e-2689-457d-dec6-056249c482cc",
        "colab": {
          "base_uri": "https://localhost:8080/"
        }
      },
      "id": "SZiqKW_eArHu",
      "execution_count": null,
      "outputs": [
        {
          "output_type": "execute_result",
          "data": {
            "text/plain": [
              "20"
            ]
          },
          "metadata": {},
          "execution_count": 63
        }
      ]
    },
    {
      "cell_type": "code",
      "source": [
        "validation_loss_list_k3"
      ],
      "metadata": {
        "colab": {
          "base_uri": "https://localhost:8080/"
        },
        "id": "rEUHKenNQLZg",
        "outputId": "ebb3ffaf-c646-4b30-8648-38db19d66cc4"
      },
      "id": "rEUHKenNQLZg",
      "execution_count": null,
      "outputs": [
        {
          "output_type": "execute_result",
          "data": {
            "text/plain": [
              "[218.86223185503925,\n",
              " 114.73557101355658,\n",
              " 52.83907800250583,\n",
              " 34.619112986105456,\n",
              " 29.765435854593914,\n",
              " 28.948698732588028,\n",
              " 26.96973376803928,\n",
              " 24.678520220297354,\n",
              " 25.276649651704012,\n",
              " 23.766032660448992,\n",
              " 23.47333671428539,\n",
              " 22.94110792654532,\n",
              " 23.246486628497088,\n",
              " 22.346958849165176,\n",
              " 22.259040391003644,\n",
              " 21.84322639747902,\n",
              " 22.109252170280175,\n",
              " 21.85273423018279,\n",
              " 23.225910875532364,\n",
              " 21.58690180601897]"
            ]
          },
          "metadata": {},
          "execution_count": 64
        }
      ]
    },
    {
      "cell_type": "code",
      "source": [
        "final_train_loss_k3"
      ],
      "metadata": {
        "colab": {
          "base_uri": "https://localhost:8080/"
        },
        "id": "AIX8VRRSQWWA",
        "outputId": "3d92b3c9-8c6a-4213-e91d-ed36f566e572"
      },
      "id": "AIX8VRRSQWWA",
      "execution_count": null,
      "outputs": [
        {
          "output_type": "execute_result",
          "data": {
            "text/plain": [
              "[160.30958395004274,\n",
              " 116.78829226493835,\n",
              " 90.8397078037262,\n",
              " 75.64054955244065,\n",
              " 65.87950505971908,\n",
              " 59.06563182870547,\n",
              " 54.020972398349215,\n",
              " 50.15658262372017,\n",
              " 47.08942853742175,\n",
              " 44.569518404006956,\n",
              " 42.48071549805728,\n",
              " 40.71555767059326,\n",
              " 39.21106963982949,\n",
              " 37.899843368359974,\n",
              " 36.75175635576248,\n",
              " 35.745330995321275,\n",
              " 34.843730493854075,\n",
              " 34.037383645772934,\n",
              " 33.31653952284863,\n",
              " 32.655487150251865]"
            ]
          },
          "metadata": {},
          "execution_count": 65
        }
      ]
    },
    {
      "cell_type": "code",
      "source": [
        "import matplotlib.pyplot as plt\n",
        "import numpy as np\n",
        "\n",
        "\n",
        "x = np.arange(len(validation_loss_list_k3))  # Creating x-axis values\n",
        "\n",
        "\n",
        "# Create the plot\n",
        "plt.figure(figsize=(10, 6))  # Optional: set the figure size\n",
        "\n",
        "# Plot both lines\n",
        "plt.plot(x, validation_loss_list_k3, color='blue', label='Validation_k=3')\n",
        "plt.plot(x, validation_loss_list_k4, color='red', label='Validation_k=4')\n",
        "plt.plot(x, validation_loss_list, color='green', label='Validation_k=5')\n",
        "\n",
        "# Add labels and title\n",
        "plt.xlabel('Number of Iterations')\n",
        "plt.ylabel('Validation Loss for  Different K')\n",
        "plt.title('Plot of Validation Loss ')\n",
        "\n",
        "# Add a legend\n",
        "plt.legend()\n",
        "\n",
        "# Display the plot\n",
        "plt.grid(True)  # Optional: add a grid\n",
        "plt.show()"
      ],
      "metadata": {
        "colab": {
          "base_uri": "https://localhost:8080/",
          "height": 564
        },
        "id": "H-1n-51UQ91w",
        "outputId": "19c6b889-57df-4588-a8e8-8fd38ee2de70"
      },
      "id": "H-1n-51UQ91w",
      "execution_count": null,
      "outputs": [
        {
          "output_type": "display_data",
          "data": {
            "text/plain": [
              "<Figure size 1000x600 with 1 Axes>"
            ],
            "image/png": "[encoded data removed]"
          },
          "metadata": {}
        }
      ]
    },
    {
      "cell_type": "code",
      "source": [
        "import matplotlib.pyplot as plt\n",
        "import numpy as np\n",
        "\n",
        "\n",
        "x = np.arange(len(validation_loss_list_k3))  # Creating x-axis values\n",
        "\n",
        "\n",
        "# Create the plot\n",
        "plt.figure(figsize=(10, 6))  # Optional: set the figure size\n",
        "\n",
        "# Plot both lines\n",
        "plt.plot(x, final_train_loss_k3, color='blue', label='Training_k=3')\n",
        "plt.plot(x, final_train_loss_k4, color='red', label='Training_k=4')\n",
        "plt.plot(x, final_train_loss, color='green', label='Training_k=5')\n",
        "\n",
        "# Add labels and title\n",
        "plt.xlabel('Number of Iterations')\n",
        "plt.ylabel('Training Loss for  Different K')\n",
        "plt.title('Plot of Training Loss ')\n",
        "\n",
        "# Add a legend\n",
        "plt.legend()\n",
        "\n",
        "# Display the plot\n",
        "plt.grid(True)  # Optional: add a grid\n",
        "plt.show()"
      ],
      "metadata": {
        "colab": {
          "base_uri": "https://localhost:8080/",
          "height": 564
        },
        "id": "65sNYzS3wrzu",
        "outputId": "8927d5fb-903d-4c2b-9c2c-952251a26f25"
      },
      "id": "65sNYzS3wrzu",
      "execution_count": null,
      "outputs": [
        {
          "output_type": "display_data",
          "data": {
            "text/plain": [
              "<Figure size 1000x600 with 1 Axes>"
            ],
            "image/png": "[encoded data removed]"
          },
          "metadata": {}
        }
      ]
    },
    {
      "cell_type": "markdown",
      "source": [
        "##### Functions defined to Normalize the Inputs"
      ],
      "metadata": {
        "id": "Tt6h_xZtmz-N"
      },
      "id": "Tt6h_xZtmz-N"
    },
    {
      "cell_type": "markdown",
      "source": [
        "#### Prediction Function"
      ],
      "metadata": {
        "id": "A9r1AuDPmXAy"
      },
      "id": "A9r1AuDPmXAy"
    },
    {
      "cell_type": "markdown",
      "source": [
        "#### Driver Function For Calling the Prediction Method"
      ],
      "metadata": {
        "id": "PxfJqIhZqmCB"
      },
      "id": "PxfJqIhZqmCB"
    },
    {
      "cell_type": "markdown",
      "source": [
        "#####Prediction from model having K = 3 Neighbors"
      ],
      "metadata": {
        "id": "sU2G2Of2vxXt"
      },
      "id": "sU2G2Of2vxXt"
    },
    {
      "cell_type": "code",
      "source": [
        "predict_main(best_epoch_k3,test_loader, test_target_tensor,'unmask', _mean, _std, 'test' )"
      ],
      "metadata": {
        "colab": {
          "base_uri": "https://localhost:8080/"
        },
        "id": "GXaZT1rRqzIc",
        "outputId": "899f427e-d7bb-4284-dc12-0c9fefe1204f"
      },
      "id": "GXaZT1rRqzIc",
      "execution_count": null,
      "outputs": [
        {
          "output_type": "stream",
          "name": "stdout",
          "text": [
            "load weight from: /content/drive/MyDrive/COMP9491_ASTGCN_Model/PEMS04_Recent_K_3_4_5/Best_Epoch_Saved_Recent/k3_04_epoch_19.params\n",
            "predicting data set batch 1 / 54\n",
            "input: (3394, 307, 1, 12)\n",
            "prediction: (3394, 307, 12)\n",
            "data_target_tensor: (3394, 307, 12)\n",
            "current epoch: 19, predict 0 points\n",
            "MAE: 19.37\n",
            "RMSE: 30.54\n",
            "MAPE: 0.13\n",
            "current epoch: 19, predict 1 points\n",
            "MAE: 19.96\n",
            "RMSE: 31.44\n",
            "MAPE: 0.14\n",
            "current epoch: 19, predict 2 points\n",
            "MAE: 20.50\n",
            "RMSE: 32.23\n",
            "MAPE: 0.14\n",
            "current epoch: 19, predict 3 points\n",
            "MAE: 20.95\n",
            "RMSE: 32.88\n",
            "MAPE: 0.15\n",
            "current epoch: 19, predict 4 points\n",
            "MAE: 21.37\n",
            "RMSE: 33.47\n",
            "MAPE: 0.15\n",
            "current epoch: 19, predict 5 points\n",
            "MAE: 21.78\n",
            "RMSE: 34.05\n",
            "MAPE: 0.15\n",
            "current epoch: 19, predict 6 points\n",
            "MAE: 22.23\n",
            "RMSE: 34.66\n",
            "MAPE: 0.15\n",
            "current epoch: 19, predict 7 points\n",
            "MAE: 22.69\n",
            "RMSE: 35.27\n",
            "MAPE: 0.16\n",
            "current epoch: 19, predict 8 points\n",
            "MAE: 23.17\n",
            "RMSE: 35.91\n",
            "MAPE: 0.16\n",
            "current epoch: 19, predict 9 points\n",
            "MAE: 23.73\n",
            "RMSE: 36.63\n",
            "MAPE: 0.17\n",
            "current epoch: 19, predict 10 points\n",
            "MAE: 24.38\n",
            "RMSE: 37.46\n",
            "MAPE: 0.17\n",
            "current epoch: 19, predict 11 points\n",
            "MAE: 25.17\n",
            "RMSE: 38.46\n",
            "MAPE: 0.17\n",
            "all MAE: 22.11\n",
            "all RMSE: 34.50\n",
            "all MAPE: 0.15\n",
            "[19.371037, 30.535108027737923, 0.13438435, 19.960672, 31.444678759141826, 0.1385756, 20.503063, 32.229654207756596, 0.14260544, 20.95372, 32.88033724201194, 0.14572969, 21.367039, 33.4684272130793, 0.14852896, 21.781313, 34.04757593071513, 0.15118416, 22.228418, 34.6567748213192, 0.15431964, 22.688616, 35.2730992162627, 0.15827209, 23.168247, 35.90847673143314, 0.16165142, 23.726912, 36.633251523547564, 0.16547818, 24.38331, 37.45838348306107, 0.17012753, 25.172707, 38.455707387383505, 0.17498852, 22.108751, 34.49524246805184, 0.1538207]\n"
          ]
        }
      ]
    },
    {
      "cell_type": "code",
      "source": [
        "import matplotlib.pyplot as plt\n",
        "import numpy as np\n",
        "\n",
        "\n",
        "#x = np.arange(len(validation_loss_list_k3))  # Creating x-axis values\n",
        "k_order = [3, 4, 5]\n",
        "\n",
        "\n",
        "# Create the plot\n",
        "plt.figure(figsize=(10, 6))  # Optional: set the figure size\n",
        "\n",
        "MAE_values_test = [29.84, 27.47, 28.44]\n",
        "RMSE_values_test = [45.41, 42.15, 44.69]\n",
        "\n",
        "# Plot both lines\n",
        "plt.plot(k_order, MAE_values_test, color='blue', label='MAE_K')\n",
        "plt.plot(k_order, RMSE_values_test, color='red', label='RMSE_k')\n",
        "\n",
        "# Add labels and title\n",
        "plt.xlabel('Order Values')\n",
        "plt.ylabel('Testing Scores')\n",
        "plt.title('Plot of Test Scores for K Values')\n",
        "\n",
        "# Add a legend\n",
        "plt.legend()\n",
        "\n",
        "# Display the plot\n",
        "plt.grid(True)  # Optional: add a grid\n",
        "plt.show()"
      ],
      "metadata": {
        "colab": {
          "base_uri": "https://localhost:8080/",
          "height": 564
        },
        "id": "ydpQ97fONQQr",
        "outputId": "694cd123-734c-4b5e-900c-f393ca5fa92f"
      },
      "id": "ydpQ97fONQQr",
      "execution_count": null,
      "outputs": [
        {
          "output_type": "display_data",
          "data": {
            "text/plain": [
              "<Figure size 1000x600 with 1 Axes>"
            ],
            "image/png": "[encoded data removed]"
          },
          "metadata": {}
        }
      ]
    },
    {
      "cell_type": "code",
      "source": [
        "import numpy as np"
      ],
      "metadata": {
        "id": "x1eEWppn1EP9"
      },
      "id": "x1eEWppn1EP9",
      "execution_count": null,
      "outputs": []
    },
    {
      "cell_type": "markdown",
      "source": [
        "##### Prediction from the Hourly Model"
      ],
      "metadata": {
        "id": "USYqmIgu1J6v"
      },
      "id": "USYqmIgu1J6v"
    },
    {
      "cell_type": "code",
      "source": [
        "prediction_output_recent_data = np.load('/content/drive/MyDrive/COMP9491_ASTGCN_Model/Dataset_PEMS07/Best_Epoch_Saved_Recent/output_epoch_19_test.npz')"
      ],
      "metadata": {
        "id": "_hxNjo63wuU0"
      },
      "id": "_hxNjo63wuU0",
      "execution_count": null,
      "outputs": []
    },
    {
      "cell_type": "code",
      "source": [
        "input_data = prediction_output_recent_data['input']\n",
        "prediction = prediction_output_recent_data['prediction']\n",
        "data_target_tensor = prediction_output_recent_data['data_target_tensor']"
      ],
      "metadata": {
        "id": "5TV31nkDw-zo"
      },
      "id": "5TV31nkDw-zo",
      "execution_count": null,
      "outputs": []
    },
    {
      "cell_type": "code",
      "source": [
        "# Print the shapes of the arrays\n",
        "print(\"Input shape:\", input_data.shape)\n",
        "print(\"Prediction shape:\", prediction.shape)\n",
        "print(\"Target tensor shape:\", data_target_tensor.shape)\n",
        "\n",
        "# Print the first few entries of each array to inspect the data\n",
        "print(\"Input data (first 2 samples):\", input_data[0][0:2])\n",
        "print(\"Prediction (first 2 samples):\", prediction[0][0:2])\n",
        "print(\"Data target tensor (first 2 samples):\", data_target_tensor[0][0:2])\n"
      ],
      "metadata": {
        "id": "Q_z58768xGA0"
      },
      "id": "Q_z58768xGA0",
      "execution_count": null,
      "outputs": []
    }
  ],
  "metadata": {
    "kernelspec": {
      "display_name": "Python 3",
      "name": "python3"
    },
    "language_info": {
      "codemirror_mode": {
        "name": "ipython",
        "version": 3
      },
      "file_extension": ".py",
      "mimetype": "text/x-python",
      "name": "python",
      "nbconvert_exporter": "python",
      "pygments_lexer": "ipython3",
      "version": "3.12.4"
    },
    "colab": {
      "provenance": [],
      "gpuType": "A100",
      "machine_shape": "hm"
    },
    "accelerator": "GPU"
  },
  "nbformat": 4,
  "nbformat_minor": 5
}