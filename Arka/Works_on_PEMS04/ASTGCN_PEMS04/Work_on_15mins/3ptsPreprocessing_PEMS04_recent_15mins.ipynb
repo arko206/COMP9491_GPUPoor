{
 "cells": [
  {
   "cell_type": "code",
   "execution_count": 1,
   "id": "beb73712-3618-4019-8c5b-f14b8513d70d",
   "metadata": {},
   "outputs": [],
   "source": [
    "import os\n",
    "import numpy as np"
   ]
  },
  {
   "cell_type": "markdown",
   "id": "4e0d0bbf-43ab-4215-9c91-300b10798989",
   "metadata": {},
   "source": [
    "##### Loading the Original Data from PEMS07 Dataset"
   ]
  },
  {
   "cell_type": "code",
   "execution_count": 3,
   "id": "4473ff5d-e23a-476b-be81-4f4c58e3ceb9",
   "metadata": {},
   "outputs": [
    {
     "data": {
      "text/plain": [
       "(16992, 307, 3)"
      ]
     },
     "execution_count": 3,
     "metadata": {},
     "output_type": "execute_result"
    }
   ],
   "source": [
    "graph_signal_matrix_filename = r\"C:\\Users\\User\\Traffic_Flow_Forecasting\\ASTGCN_Baseline_Model\\PEMS04\\PEMS04.npz\"\n",
    "data = np.load(graph_signal_matrix_filename)\n",
    "data['data'].shape"
   ]
  },
  {
   "cell_type": "markdown",
   "id": "6dd75199-f51d-4dcb-b865-3c3708f21992",
   "metadata": {},
   "source": [
    "#### The above dataset PEMS07 has 883 traffic sensors recording data with a duration of 3 months "
   ]
  },
  {
   "cell_type": "code",
   "execution_count": 7,
   "id": "b98dd27b-45b0-47a2-a960-0924e361faa6",
   "metadata": {},
   "outputs": [
    {
     "name": "stdout",
     "output_type": "stream",
     "text": [
      "The required number of days for which the data is collected is  59.0\n"
     ]
    }
   ],
   "source": [
    "number_of_days = 16992 / (12 * 24)\n",
    "print(\"The required number of days for which the data is collected is \", number_of_days)"
   ]
  },
  {
   "cell_type": "markdown",
   "id": "dca7f25d-e056-4135-966f-83ace5396ce3",
   "metadata": {},
   "source": [
    "##### the 30 minutes data(INPUT) is of shape (12, 883, 1) and the next hour(TARGET) is the same (6, 883, 1)"
   ]
  },
  {
   "cell_type": "markdown",
   "id": "91d624d4-3ef1-46a3-9371-bc5332942620",
   "metadata": {},
   "source": [
    "#### The function search_data returns a certain number of time period segment data of duration = 1hr"
   ]
  },
  {
   "cell_type": "code",
   "execution_count": 9,
   "id": "c4311b68-1fea-457c-888b-687c38c45b60",
   "metadata": {},
   "outputs": [],
   "source": [
    "def search_data(sequence_length, num_of_depend, label_start_idx,num_for_predict, units, points_per_quarterly_hour):\n",
    "    '''\n",
    "    Parameters\n",
    "    ----------\n",
    "    sequence_length: int, length of all history data\n",
    "    num_of_depend: int, number of dependent time periods of length 1 hour\n",
    "    label_start_idx: int, the first index of predicting target\n",
    "    num_for_predict: int, the number of points will be predicted for each sample (in case of a hour, for each input sample 12 points to\n",
    "                                                                                   be predicted)\n",
    "    units: int, week: 7 * 24, day: 24, recent(hour): 1\n",
    "    \n",
    "    points_per_hour: int, number of points per hour, depends on data, here 12 points are considered because 1 hour is considered\n",
    "    Returns\n",
    "    ----------\n",
    "    list[(start_idx, end_idx)]\n",
    "    '''\n",
    "    ###Checks if there are non-zero number of points in target sample\n",
    "    if points_per_quarterly_hour < 0:\n",
    "        raise ValueError(\"points_per_quarterly_hour should be greater than 0!\")\n",
    "\n",
    "    ###Checking if the selected sequence is bypassing the length of sequence\n",
    "    if label_start_idx + num_for_predict > sequence_length:\n",
    "        return None\n",
    "\n",
    "    x_idx = []\n",
    "    for i in range(1, num_of_depend + 1):\n",
    "        start_idx = label_start_idx - points_per_quarterly_hour * units * i\n",
    "        end_idx = start_idx + num_for_predict\n",
    "        if start_idx >= 0:\n",
    "            x_idx.append((start_idx, end_idx))\n",
    "        else:\n",
    "            return None\n",
    "    ###Checking if we have same number of time periods or not\n",
    "    if len(x_idx) != num_of_depend:\n",
    "        return None\n",
    "    ### return in from of recent time period segmnent order\n",
    "    return x_idx[::-1]"
   ]
  },
  {
   "cell_type": "markdown",
   "id": "17eae0be-9b99-442d-bba1-627c911591af",
   "metadata": {},
   "source": [
    "### The Function 'get_sample_indices' returns the sample data concatenatedwith input (sequence length data), output (target) "
   ]
  },
  {
   "cell_type": "code",
   "execution_count": 15,
   "id": "de7a41d7-e307-4bc7-bb8d-bd4a47aca752",
   "metadata": {},
   "outputs": [],
   "source": [
    "def get_sample_indices(data_sequence, num_of_weeks, num_of_days, num_of_quartelry_hours, label_start_idx, num_for_predict, points_per_quarterly_hour=3):\n",
    "    '''\n",
    "    Parameters\n",
    "    ----------\n",
    "    data_sequence: np.ndarray shape is (sequence_length, num_of_vertices, num_of_features)\n",
    "    num_of_weeks, num_of_days, num_of_hours: int\n",
    "    label_start_idx: int, the first index of predicting target\n",
    "    num_for_predict: int, the number of points will be predicted for each sample\n",
    "    points_per_half_hour: int, default 6, number of points in 30 mins\n",
    "    Returns\n",
    "    ----------\n",
    "    week_sample: np.ndarray shape is (num_of_weeks * points_per_hour, num_of_vertices, num_of_features)\n",
    "    day_sample: np.ndarray shape is (num_of_days * points_per_hour,  num_of_vertices, num_of_features)\n",
    "    half_hour_sample: np.ndarray shape is (num_of_half_hour * points_per_half_hour, num_of_vertices, num_of_features)\n",
    "    target: np.ndarray shape is (num_for_predict, num_of_vertices, num_of_features)\n",
    "    '''\n",
    "    week_sample, day_sample, quarterly_hour_sample = None, None, None\n",
    "\n",
    "    if label_start_idx + num_for_predict > data_sequence.shape[0]:\n",
    "        return None, None, None, None\n",
    "   \n",
    "    if num_of_quartelry_hours > 0:\n",
    "        quarterly_hour_indices = search_data(data_sequence.shape[0], num_of_quartelry_hours, label_start_idx, num_for_predict, 1, points_per_quarterly_hour)\n",
    "        if not quarterly_hour_indices:\n",
    "            return None, None, None, None\n",
    "        quarterly_hour_sample = np.concatenate([data_sequence[i: j] for i, j in quarterly_hour_indices], axis=0)\n",
    "    \n",
    "\n",
    "    if num_of_days > 0:\n",
    "        day_indices = search_data(data_sequence.shape[0], num_of_days, label_start_idx, num_for_predict, 24, points_per_hour)\n",
    "        if not day_indices:\n",
    "            return None, None, None, None\n",
    "        day_sample = np.concatenate([data_sequence[i: j] for i, j in day_indices], axis=0)\n",
    "\n",
    "    if num_of_weeks > 0:\n",
    "        week_indices = search_data(data_sequence.shape[0], num_of_weeks, label_start_idx, num_for_predict, 7 * 24, points_per_hour)\n",
    "        if not week_indices:\n",
    "            return None, None, None, None\n",
    "        week_sample = np.concatenate([data_sequence[i: j] for i, j in week_indices], axis=0)\n",
    "\n",
    "    target = data_sequence[label_start_idx: label_start_idx + num_for_predict]\n",
    "\n",
    "    return week_sample, day_sample, quarterly_hour_sample, target"
   ]
  },
  {
   "cell_type": "code",
   "execution_count": 17,
   "id": "7cc49a0d-c004-4ff9-9821-690e4b68853d",
   "metadata": {},
   "outputs": [],
   "source": [
    "def read_and_generate_dataset(graph_signal_matrix_filename, num_of_weeks, num_of_days, num_of_quartelry_hours, num_for_predict, points_per_quarterly_hour=3):\n",
    "    '''\n",
    "    Parameters\n",
    "    ----------\n",
    "    graph_signal_matrix_filename: str, path of graph signal matrix file\n",
    "    num_of_weeks, num_of_days, num_of_hours: int\n",
    "    num_for_predict: int\n",
    "    points_per_half_hour: int, default 6, depends on data\n",
    "    Returns\n",
    "    ----------\n",
    "    feature: np.ndarray, shape is (num_of_samples, num_of_depend * points_per_hour, num_of_vertices, num_of_features)\n",
    "    target: np.ndarray, shape is (num_of_samples, num_of_vertices, num_for_predict)\n",
    "    '''\n",
    "    #--------------------------------- Read original data \n",
    "    data_seq = np.load(graph_signal_matrix_filename)['data']  # (sequence_length, num_of_vertices, num_of_features) (16992, 307, 3)\n",
    "    \n",
    "    #---------------------------------\n",
    "    all_samples = []\n",
    "    for idx in range(data_seq.shape[0]):\n",
    "        sample = get_sample_indices(data_seq, num_of_weeks, num_of_days, num_of_quartelry_hours, idx, num_for_predict, points_per_quarterly_hour)\n",
    "        if ((sample[0] is None) and (sample[1] is None) and (sample[2] is None)):\n",
    "            continue\n",
    "\n",
    "        week_sample, day_sample, quarterly_hour_sample, target = sample #  week_sample, day_sample are None because we are predicting per hour\n",
    "        #print(target.shape) # hour_sample and target (12, 307, 3)\n",
    "        sample = []  # [(week_sample),(day_sample),(hour_sample),target,time_sample]\n",
    "#-------------------------------- Ignore\n",
    "        if num_of_weeks > 0:\n",
    "            week_sample = np.expand_dims(week_sample, axis=0).transpose((0, 2, 3, 1))  # (1,N,F,T)\n",
    "            sample.append(week_sample)\n",
    "\n",
    "        if num_of_days > 0:\n",
    "            day_sample = np.expand_dims(day_sample, axis=0).transpose((0, 2, 3, 1))  # (1,N,F,T)\n",
    "            sample.append(day_sample)\n",
    "\n",
    "        if num_of_quartelry_hours > 0:\n",
    "            quarterly_hour_sample = np.expand_dims(quarterly_hour_sample, axis=0).transpose((0, 2, 3, 1))  # (1,N,F,T)\n",
    "            sample.append(quarterly_hour_sample)\n",
    "        \n",
    "        target = np.expand_dims(target, axis=0).transpose((0, 2, 3, 1))[:, :, 0, :]  # (1,N,T)\n",
    "        sample.append(target)\n",
    "        time_sample = np.expand_dims(np.array([idx]), axis=0)  # (1,1)\n",
    "        sample.append(time_sample)\n",
    "        all_samples.append(sample)#sampe：[(week_sample),(day_sample),(hour_sample),target,time_sample] = [(1,N,F,Tw),(1,N,F,Td),(1,N,F,Th),(1,N,Tpre),(1,1)]\n",
    "\n",
    "    split_line1 = int(len(all_samples) * 0.6)\n",
    "    split_line2 = int(len(all_samples) * 0.8)\n",
    "\n",
    "    training_set = [np.concatenate(i, axis=0)  for i in zip(*all_samples[:split_line1])] #[(B,N,F,Tw),(B,N,F,Td),(B,N,F,Th),(B,N,Tpre),(B,1)]\n",
    "    validation_set = [np.concatenate(i, axis=0) for i in zip(*all_samples[split_line1: split_line2])]\n",
    "    testing_set = [np.concatenate(i, axis=0) for i in zip(*all_samples[split_line2:])]\n",
    "\n",
    "    return training_set, validation_set, testing_set"
   ]
  },
  {
   "cell_type": "code",
   "execution_count": 19,
   "id": "6b97f439-f58f-4b88-adce-915d4f5f5eae",
   "metadata": {},
   "outputs": [],
   "source": [
    "num_of_vertices = 307\n",
    "points_per_quarterly_hour = 3\n",
    "num_for_predict = 3\n",
    "num_of_weeks = 0\n",
    "num_of_days = 0\n",
    "\n",
    "###Such that the input sequence consists of\n",
    "### data of consecutive 30 mins\n",
    "num_of_quarterly_hours = 4\n",
    "\n",
    "# Generating the training, test and validation dataset\n",
    "training_set, validation_set, testing_set = read_and_generate_dataset(\n",
    "    graph_signal_matrix_filename, \n",
    "    num_of_weeks, \n",
    "    num_of_days, \n",
    "    num_of_quarterly_hours, \n",
    "    num_for_predict, \n",
    "    points_per_quarterly_hour=points_per_quarterly_hour\n",
    ")"
   ]
  },
  {
   "cell_type": "code",
   "execution_count": 21,
   "id": "2f9709f6-2bc5-4c30-a707-af336b0c7f11",
   "metadata": {},
   "outputs": [
    {
     "data": {
      "text/plain": [
       "3"
      ]
     },
     "execution_count": 21,
     "metadata": {},
     "output_type": "execute_result"
    }
   ],
   "source": [
    "len(training_set)##training set contains input, target and timestamp"
   ]
  },
  {
   "cell_type": "code",
   "execution_count": 23,
   "id": "de61354f-0d72-426a-bf87-095c21518335",
   "metadata": {},
   "outputs": [
    {
     "data": {
      "text/plain": [
       "(10186, 307, 3, 12)"
      ]
     },
     "execution_count": 23,
     "metadata": {},
     "output_type": "execute_result"
    }
   ],
   "source": [
    "training_set[0].shape"
   ]
  },
  {
   "cell_type": "code",
   "execution_count": 25,
   "id": "ce393847-c5e3-4ef1-94f2-de59f32ee8e6",
   "metadata": {},
   "outputs": [
    {
     "data": {
      "text/plain": [
       "(10186, 307, 3)"
      ]
     },
     "execution_count": 25,
     "metadata": {},
     "output_type": "execute_result"
    }
   ],
   "source": [
    "training_set[1].shape"
   ]
  },
  {
   "cell_type": "code",
   "execution_count": 27,
   "id": "9f992fce-ae92-47e7-8e23-a23b647e3949",
   "metadata": {},
   "outputs": [
    {
     "data": {
      "text/plain": [
       "(10186, 1)"
      ]
     },
     "execution_count": 27,
     "metadata": {},
     "output_type": "execute_result"
    }
   ],
   "source": [
    "training_set[2].shape"
   ]
  },
  {
   "cell_type": "code",
   "execution_count": 29,
   "id": "80268500-ac16-4d22-99d7-bd64c65c00e6",
   "metadata": {
    "scrolled": true
   },
   "outputs": [
    {
     "data": {
      "text/plain": [
       "array([[[6.20e+01, 6.10e+01, 7.10e+01, ..., 1.64e+02, 1.43e+02,\n",
       "         1.42e+02],\n",
       "        [7.70e-03, 7.40e-03, 9.30e-03, ..., 2.15e-02, 1.91e-02,\n",
       "         1.90e-02],\n",
       "        [6.79e+01, 6.73e+01, 6.84e+01, ..., 6.57e+01, 6.59e+01,\n",
       "         6.67e+01]],\n",
       "\n",
       "       [[5.60e+01, 4.00e+01, 2.80e+01, ..., 1.51e+02, 1.07e+02,\n",
       "         1.38e+02],\n",
       "        [1.12e-02, 8.00e-03, 6.80e-03, ..., 3.40e-02, 2.69e-02,\n",
       "         3.61e-02],\n",
       "        [6.84e+01, 6.86e+01, 6.74e+01, ..., 6.40e+01, 6.33e+01,\n",
       "         6.04e+01]],\n",
       "\n",
       "       [[9.00e+01, 9.40e+01, 7.90e+01, ..., 1.58e+02, 1.39e+02,\n",
       "         9.30e+01],\n",
       "        [1.43e-02, 1.56e-02, 1.22e-02, ..., 2.69e-02, 2.34e-02,\n",
       "         1.61e-02],\n",
       "        [6.82e+01, 6.78e+01, 6.87e+01, ..., 6.71e+01, 6.67e+01,\n",
       "         6.68e+01]],\n",
       "\n",
       "       ...,\n",
       "\n",
       "       [[5.60e+01, 5.10e+01, 6.70e+01, ..., 1.82e+02, 2.25e+02,\n",
       "         1.72e+02],\n",
       "        [9.80e-03, 9.40e-03, 1.17e-02, ..., 3.23e-02, 3.87e-02,\n",
       "         2.96e-02],\n",
       "        [6.74e+01, 6.60e+01, 6.67e+01, ..., 6.53e+01, 6.52e+01,\n",
       "         6.55e+01]],\n",
       "\n",
       "       [[4.80e+01, 3.00e+01, 3.10e+01, ..., 1.12e+02, 1.14e+02,\n",
       "         9.40e+01],\n",
       "        [7.80e-03, 5.00e-03, 5.30e-03, ..., 1.89e-02, 1.94e-02,\n",
       "         1.53e-02],\n",
       "        [6.95e+01, 6.91e+01, 6.88e+01, ..., 6.86e+01, 6.82e+01,\n",
       "         6.88e+01]],\n",
       "\n",
       "       [[3.80e+01, 3.50e+01, 4.50e+01, ..., 1.18e+02, 1.26e+02,\n",
       "         1.12e+02],\n",
       "        [9.40e-03, 8.50e-03, 1.11e-02, ..., 3.08e-02, 3.34e-02,\n",
       "         2.91e-02],\n",
       "        [6.82e+01, 6.88e+01, 6.95e+01, ..., 6.73e+01, 6.64e+01,\n",
       "         6.63e+01]]])"
      ]
     },
     "execution_count": 29,
     "metadata": {},
     "output_type": "execute_result"
    }
   ],
   "source": [
    "training_set[0][0]"
   ]
  },
  {
   "cell_type": "code",
   "execution_count": 31,
   "id": "a89f4a19-d160-4ab5-b84e-37b2e35a62f3",
   "metadata": {},
   "outputs": [
    {
     "data": {
      "text/plain": [
       "(307, 3, 12)"
      ]
     },
     "execution_count": 31,
     "metadata": {},
     "output_type": "execute_result"
    }
   ],
   "source": [
    "training_set[0][0].shape"
   ]
  },
  {
   "cell_type": "code",
   "execution_count": 33,
   "id": "bcc4c1e8-f721-4949-bfee-514abdf86be1",
   "metadata": {},
   "outputs": [
    {
     "data": {
      "text/plain": [
       "array([[145., 162., 126.],\n",
       "       [141., 102., 127.],\n",
       "       [132.,  96., 109.],\n",
       "       [102.,  83.,  91.],\n",
       "       [ 31.,  51.,  25.],\n",
       "       [ 38.,  38.,  30.],\n",
       "       [ 38.,  47.,  42.],\n",
       "       [ 44.,  52.,  47.],\n",
       "       [103.,  99.,  89.],\n",
       "       [ 83.,  64.,  88.],\n",
       "       [251., 235., 245.],\n",
       "       [ 88.,  78.,  72.],\n",
       "       [329., 256., 289.],\n",
       "       [171., 194., 176.],\n",
       "       [ 70.,  79.,  73.],\n",
       "       [135., 149., 130.],\n",
       "       [182., 211., 176.],\n",
       "       [212., 194., 224.],\n",
       "       [287., 213., 241.],\n",
       "       [ 55., 187., 218.],\n",
       "       [110.,  97.,  90.],\n",
       "       [ 66.,  62.,  49.],\n",
       "       [ 48.,  50.,  52.],\n",
       "       [ 90.,  81.,  44.],\n",
       "       [ 89., 131., 100.],\n",
       "       [ 82.,  95.,  90.],\n",
       "       [253., 229., 253.],\n",
       "       [ 49.,  42.,  31.],\n",
       "       [210., 259., 266.],\n",
       "       [154., 137., 142.],\n",
       "       [276., 327., 301.],\n",
       "       [120., 125., 134.],\n",
       "       [257., 201., 257.],\n",
       "       [132., 120., 117.],\n",
       "       [142., 145., 138.],\n",
       "       [131., 136., 139.],\n",
       "       [141., 110., 120.],\n",
       "       [ 87., 119., 129.],\n",
       "       [ 91.,  87.,  73.],\n",
       "       [ 77.,  89., 118.],\n",
       "       [150., 147., 138.],\n",
       "       [451., 405., 449.],\n",
       "       [204., 223., 212.],\n",
       "       [273., 270., 236.],\n",
       "       [ 52.,  36.,  56.],\n",
       "       [288., 287., 294.],\n",
       "       [ 43.,  42.,  11.],\n",
       "       [ 66.,  62.,  60.],\n",
       "       [189., 163., 162.],\n",
       "       [ 63.,  74.,  64.],\n",
       "       [ 87.,  93.,  90.],\n",
       "       [174., 163., 188.],\n",
       "       [141., 122., 124.],\n",
       "       [301., 305., 289.],\n",
       "       [ 87.,  97.,  90.],\n",
       "       [237., 289., 226.],\n",
       "       [251., 229., 236.],\n",
       "       [253., 354., 181.],\n",
       "       [321., 274., 344.],\n",
       "       [167., 157., 133.],\n",
       "       [ 27.,  32.,  28.],\n",
       "       [220., 237., 231.],\n",
       "       [ 64.,  77.,  68.],\n",
       "       [234., 196., 200.],\n",
       "       [ 98., 106., 104.],\n",
       "       [141., 163., 124.],\n",
       "       [ 90.,  83.,  76.],\n",
       "       [327., 315., 336.],\n",
       "       [ 67.,  79.,  78.],\n",
       "       [233., 282., 264.],\n",
       "       [  0.,   3.,  35.],\n",
       "       [127., 149., 147.],\n",
       "       [171., 188., 158.],\n",
       "       [121., 114., 102.],\n",
       "       [  0.,   0.,   0.],\n",
       "       [133., 119., 127.],\n",
       "       [140., 142., 165.],\n",
       "       [139., 162., 180.],\n",
       "       [153., 164., 138.],\n",
       "       [217., 234., 254.],\n",
       "       [260., 260., 254.],\n",
       "       [171., 156., 198.],\n",
       "       [398., 401., 471.],\n",
       "       [ 52.,  57.,  49.],\n",
       "       [120., 141., 119.],\n",
       "       [224., 245., 216.],\n",
       "       [ 83.,  76.,  81.],\n",
       "       [ 48.,  51.,  56.],\n",
       "       [ 99., 160., 128.],\n",
       "       [126., 147., 131.],\n",
       "       [137., 133., 154.],\n",
       "       [141., 153., 146.],\n",
       "       [194., 188., 204.],\n",
       "       [ 56.,  62.,  67.],\n",
       "       [236., 189., 180.],\n",
       "       [193., 169., 210.],\n",
       "       [231., 272., 212.],\n",
       "       [727., 713., 699.],\n",
       "       [ 89.,  50.,  35.],\n",
       "       [271., 262., 251.],\n",
       "       [165., 189., 215.],\n",
       "       [317., 260., 294.],\n",
       "       [ 97.,  91.,  89.],\n",
       "       [271., 218., 215.],\n",
       "       [ 59.,  70.,  80.],\n",
       "       [ 25.,  36.,  61.],\n",
       "       [217., 297., 315.],\n",
       "       [ 35.,  55.,  41.],\n",
       "       [197., 188., 188.],\n",
       "       [136., 157., 158.],\n",
       "       [203., 176., 202.],\n",
       "       [336., 352., 317.],\n",
       "       [ 59.,  61.,  71.],\n",
       "       [172., 140., 133.],\n",
       "       [158., 135., 130.],\n",
       "       [ 55.,  37.,  45.],\n",
       "       [ 65.,  73.,  63.],\n",
       "       [129., 116., 109.],\n",
       "       [231., 213., 185.],\n",
       "       [327., 272., 311.],\n",
       "       [321., 331., 302.],\n",
       "       [166., 149., 150.],\n",
       "       [194., 171., 134.],\n",
       "       [132., 158., 124.],\n",
       "       [406., 419., 440.],\n",
       "       [172., 140., 168.],\n",
       "       [ 61.,  57.,  55.],\n",
       "       [220., 253., 248.],\n",
       "       [  0.,  34.,   8.],\n",
       "       [ 38.,  42.,  52.],\n",
       "       [ 37.,  20.,  20.],\n",
       "       [ 34.,  41.,  53.],\n",
       "       [ 25.,  63.,  24.],\n",
       "       [ 78.,  61.,  81.],\n",
       "       [ 77.,  84.,  76.],\n",
       "       [123., 148., 130.],\n",
       "       [159., 155., 161.],\n",
       "       [198., 206., 137.],\n",
       "       [121., 139., 152.],\n",
       "       [ 69.,  73.,  54.],\n",
       "       [ 71.,  62.,  53.],\n",
       "       [ 60.,  85.,  83.],\n",
       "       [228., 186., 210.],\n",
       "       [157., 159., 160.],\n",
       "       [ 21.,  21.,  17.],\n",
       "       [ 78.,  95.,  69.],\n",
       "       [263., 243., 237.],\n",
       "       [111., 116., 121.],\n",
       "       [ 30.,  30.,  23.],\n",
       "       [ 30.,  30.,  23.],\n",
       "       [ 30.,  30.,  23.],\n",
       "       [131., 144., 145.],\n",
       "       [ 98., 112., 106.],\n",
       "       [ 51.,  51.,  41.],\n",
       "       [207., 219., 182.],\n",
       "       [ 66.,  70.,  71.],\n",
       "       [ 35.,  35.,  38.],\n",
       "       [ 58.,  58.,  72.],\n",
       "       [100., 114., 106.],\n",
       "       [230., 208., 216.],\n",
       "       [177., 151., 172.],\n",
       "       [100., 127., 111.],\n",
       "       [179., 155., 159.],\n",
       "       [182., 173., 167.],\n",
       "       [305., 356., 167.],\n",
       "       [ 37.,  33.,  30.],\n",
       "       [ 97., 100.,  95.],\n",
       "       [136., 142., 140.],\n",
       "       [176., 179., 169.],\n",
       "       [ 41.,  41.,  33.],\n",
       "       [ 41.,  41.,  33.],\n",
       "       [103., 111., 101.],\n",
       "       [ 21.,  21.,  17.],\n",
       "       [155., 152., 161.],\n",
       "       [127., 132., 131.],\n",
       "       [227., 227., 247.],\n",
       "       [ 44.,  44.,  35.],\n",
       "       [ 41.,  41.,  33.],\n",
       "       [ 32.,  34.,  26.],\n",
       "       [ 41.,  41.,  33.],\n",
       "       [ 21.,  21.,  17.],\n",
       "       [ 21.,  21.,  17.],\n",
       "       [ 91., 101.,  91.],\n",
       "       [ 21.,  21.,  17.],\n",
       "       [ 95., 120., 100.],\n",
       "       [ 76.,  81.,  92.],\n",
       "       [ 77.,  70.,  63.],\n",
       "       [112.,  95.,  74.],\n",
       "       [118., 106., 123.],\n",
       "       [ 21.,  21.,  17.],\n",
       "       [ 66.,  58.,  58.],\n",
       "       [ 21.,  21.,  17.],\n",
       "       [ 21.,  21.,  17.],\n",
       "       [ 21.,  21.,  17.],\n",
       "       [ 21.,  21.,  17.],\n",
       "       [ 21.,  21.,  17.],\n",
       "       [ 20.,  14.,  17.],\n",
       "       [ 21.,  21.,  17.],\n",
       "       [ 21.,  21.,  17.],\n",
       "       [ 21.,  21.,  17.],\n",
       "       [ 21.,  21.,  17.],\n",
       "       [144., 122., 131.],\n",
       "       [232., 241., 228.],\n",
       "       [651., 644., 642.],\n",
       "       [262., 236., 278.],\n",
       "       [  0.,   0.,   0.],\n",
       "       [ 88.,  84.,  54.],\n",
       "       [244., 280., 245.],\n",
       "       [222., 221., 241.],\n",
       "       [170., 200., 193.],\n",
       "       [110., 119., 101.],\n",
       "       [152., 144., 145.],\n",
       "       [ 74.,  86.,  77.],\n",
       "       [172., 202., 180.],\n",
       "       [ 97.,  90.,  78.],\n",
       "       [ 56.,  53.,  62.],\n",
       "       [ 64.,  68.,  58.],\n",
       "       [138., 120., 129.],\n",
       "       [ 70.,  73.,  65.],\n",
       "       [125., 143., 135.],\n",
       "       [136., 148., 131.],\n",
       "       [114., 105., 110.],\n",
       "       [ 84., 105., 142.],\n",
       "       [191., 192., 174.],\n",
       "       [ 27.,  27.,  29.],\n",
       "       [ 18.,  23.,  34.],\n",
       "       [  0.,   0.,   0.],\n",
       "       [ 14.,  34.,  19.],\n",
       "       [ 36.,  46.,  29.],\n",
       "       [ 64.,  79.,  70.],\n",
       "       [ 73.,  81.,  73.],\n",
       "       [ 85.,  84.,  93.],\n",
       "       [ 45.,  38.,  31.],\n",
       "       [ 83.,  68.,  80.],\n",
       "       [181., 161., 186.],\n",
       "       [144., 154., 132.],\n",
       "       [179., 174., 164.],\n",
       "       [105., 101.,  75.],\n",
       "       [135., 165., 144.],\n",
       "       [162., 168., 182.],\n",
       "       [ 92.,  96., 105.],\n",
       "       [ 86.,  77.,  73.],\n",
       "       [107., 112.,  96.],\n",
       "       [107., 106., 122.],\n",
       "       [ 82.,  81., 106.],\n",
       "       [165., 140., 143.],\n",
       "       [ 64.,  69.,  75.],\n",
       "       [ 76.,  31.,   0.],\n",
       "       [ 95.,  97.,  94.],\n",
       "       [ 76.,  66.,  69.],\n",
       "       [160., 150., 144.],\n",
       "       [120., 138., 134.],\n",
       "       [254., 208., 176.],\n",
       "       [393., 391., 486.],\n",
       "       [ 85.,  82.,  95.],\n",
       "       [ 96., 140., 149.],\n",
       "       [116., 108.,  93.],\n",
       "       [ 18.,  31.,  46.],\n",
       "       [ 50.,  74.,  64.],\n",
       "       [136., 126., 134.],\n",
       "       [178., 183., 175.],\n",
       "       [ 41.,  41.,  33.],\n",
       "       [168., 153., 162.],\n",
       "       [244., 223., 250.],\n",
       "       [ 66.,  56.,  64.],\n",
       "       [103., 104.,  95.],\n",
       "       [ 27.,  24.,  23.],\n",
       "       [125., 112., 111.],\n",
       "       [152., 164., 169.],\n",
       "       [158., 150., 164.],\n",
       "       [236., 284., 238.],\n",
       "       [161., 194., 174.],\n",
       "       [382., 345., 337.],\n",
       "       [ 35.,  37.,  35.],\n",
       "       [128., 128., 126.],\n",
       "       [ 31.,  25.,  24.],\n",
       "       [ 25.,  24.,  22.],\n",
       "       [ 58.,  71.,  50.],\n",
       "       [ 43.,  41.,  59.],\n",
       "       [ 65.,  76.,  68.],\n",
       "       [ 57.,  52.,  37.],\n",
       "       [ 73.,  67.,  72.],\n",
       "       [ 37.,  50.,  41.],\n",
       "       [ 87.,  81.,  94.],\n",
       "       [131., 150., 167.],\n",
       "       [155., 136., 127.],\n",
       "       [ 97.,  80., 100.],\n",
       "       [152., 119., 135.],\n",
       "       [115., 106., 114.],\n",
       "       [ 39.,  24.,  38.],\n",
       "       [132., 144.,  97.],\n",
       "       [119., 134., 126.],\n",
       "       [119.,  91., 136.],\n",
       "       [143., 141., 139.],\n",
       "       [128., 143., 151.],\n",
       "       [ 41.,  41.,  33.],\n",
       "       [ 45.,  47.,  47.],\n",
       "       [223., 215., 233.],\n",
       "       [174., 198., 213.],\n",
       "       [146., 125., 148.],\n",
       "       [163., 148., 129.],\n",
       "       [142., 121., 129.],\n",
       "       [149., 163., 151.],\n",
       "       [164., 133., 142.],\n",
       "       [190., 173., 154.],\n",
       "       [101.,  96.,  88.],\n",
       "       [106.,  83., 100.]])"
      ]
     },
     "execution_count": 33,
     "metadata": {},
     "output_type": "execute_result"
    }
   ],
   "source": [
    "training_set[1][0]"
   ]
  },
  {
   "cell_type": "code",
   "execution_count": 35,
   "id": "e09382d4-e7cb-4b0f-bcfc-4e25b567fffe",
   "metadata": {},
   "outputs": [
    {
     "data": {
      "text/plain": [
       "(307, 3)"
      ]
     },
     "execution_count": 35,
     "metadata": {},
     "output_type": "execute_result"
    }
   ],
   "source": [
    "training_set[1][0].shape"
   ]
  },
  {
   "cell_type": "code",
   "execution_count": 37,
   "id": "6100aed1-158d-4fc5-8d9b-1c810039dd88",
   "metadata": {},
   "outputs": [
    {
     "data": {
      "text/plain": [
       "array([12])"
      ]
     },
     "execution_count": 37,
     "metadata": {},
     "output_type": "execute_result"
    }
   ],
   "source": [
    "training_set[2][0]"
   ]
  },
  {
   "cell_type": "markdown",
   "id": "5a23ce01-8512-466a-be2e-4b6cbf636d0c",
   "metadata": {},
   "source": [
    "### Data Normalization"
   ]
  },
  {
   "cell_type": "markdown",
   "id": "f2396d5b-ee5d-4664-97ca-1eeeff2588a2",
   "metadata": {},
   "source": [
    "###### the data are transformed by zero-mean normalization x′ = x −mean(x) to let the average be 0"
   ]
  },
  {
   "cell_type": "code",
   "execution_count": 39,
   "id": "d95ac3b8-85e6-4d44-bb4e-1af72bba144c",
   "metadata": {},
   "outputs": [],
   "source": [
    "def normalization(train, val, test):\n",
    "    '''\n",
    "    Parameters\n",
    "    ----------\n",
    "    train, val, test: np.ndarray (B,N,F,T)\n",
    "    Returns\n",
    "    ----------\n",
    "    stats: dict, two keys: mean and std\n",
    "    train_norm, val_norm, test_norm: np.ndarray,\n",
    "                                     shape is the same as original\n",
    "    '''\n",
    "\n",
    "    assert train.shape[1:] == val.shape[1:] and val.shape[1:] == test.shape[1:]  # ensure the num of nodes is the same\n",
    "    mean = train.mean(axis=(0,1,3), keepdims=True)\n",
    "    std = train.std(axis=(0,1,3), keepdims=True)\n",
    "    print('mean.shape:',mean.shape)\n",
    "    print('std.shape:',std.shape)\n",
    "\n",
    "    def normalize(x):\n",
    "        return (x - mean) / std\n",
    "\n",
    "    train_norm = normalize(train)\n",
    "    val_norm = normalize(val)\n",
    "    test_norm = normalize(test)\n",
    "\n",
    "    return {'_mean': mean, '_std': std}, train_norm, val_norm, test_norm"
   ]
  },
  {
   "cell_type": "code",
   "execution_count": 41,
   "id": "869337df-a978-4a1d-aae5-a1f4ac0e2cf3",
   "metadata": {},
   "outputs": [
    {
     "name": "stdout",
     "output_type": "stream",
     "text": [
      "mean.shape: (1, 1, 3, 1)\n",
      "std.shape: (1, 1, 3, 1)\n"
     ]
    }
   ],
   "source": [
    "train_x = np.concatenate(training_set[:-2], axis=-1)  # (B,N,F,T')\n",
    "val_x = np.concatenate(validation_set[:-2], axis=-1)\n",
    "test_x = np.concatenate(testing_set[:-2], axis=-1)\n",
    "\n",
    "train_target = training_set[-2]  # (B,N,T)\n",
    "val_target = validation_set[-2]\n",
    "test_target = testing_set[-2]\n",
    "\n",
    "train_timestamp = training_set[-1]  # (B,1)\n",
    "val_timestamp = validation_set[-1]\n",
    "test_timestamp = testing_set[-1]\n",
    "\n",
    "(stats, train_x_norm, val_x_norm, test_x_norm) = normalization(train_x, val_x, test_x)\n",
    "\n",
    "all_data = {'train': { 'x': train_x_norm, 'target': train_target,'timestamp': train_timestamp},\n",
    "            'val': {'x': val_x_norm, 'target': val_target, 'timestamp': val_timestamp},\n",
    "            'test': {'x': test_x_norm, 'target': test_target, 'timestamp': test_timestamp},\n",
    "            'stats': {'_mean': stats['_mean'], '_std': stats['_std']} }"
   ]
  },
  {
   "cell_type": "code",
   "execution_count": 43,
   "id": "ef908a35-c2db-4287-bf5f-99a6dc0fad8e",
   "metadata": {},
   "outputs": [
    {
     "name": "stdout",
     "output_type": "stream",
     "text": [
      "train x: (10186, 307, 3, 12)\n",
      "train target: (10186, 307, 3)\n",
      "train timestamp: (10186, 1)\n",
      "\n",
      "val x: (3396, 307, 3, 12)\n",
      "val target: (3396, 307, 3)\n",
      "val timestamp: (3396, 1)\n",
      "\n",
      "test x: (3396, 307, 3, 12)\n",
      "test target: (3396, 307, 3)\n",
      "test timestamp: (3396, 1)\n",
      "\n",
      "train data _mean : (1, 1, 3, 1) [[[[2.07273288e+02]\n",
      "   [5.13390651e-02]\n",
      "   [6.34710210e+01]]]]\n",
      "train data _std : (1, 1, 3, 1) [[[[1.56485751e+02]\n",
      "   [4.78750672e-02]\n",
      "   [8.10780143e+00]]]]\n"
     ]
    }
   ],
   "source": [
    "print('train x:', all_data['train']['x'].shape)\n",
    "print('train target:', all_data['train']['target'].shape)\n",
    "print('train timestamp:', all_data['train']['timestamp'].shape)\n",
    "print()\n",
    "print('val x:', all_data['val']['x'].shape)\n",
    "print('val target:', all_data['val']['target'].shape)\n",
    "print('val timestamp:', all_data['val']['timestamp'].shape)\n",
    "print()\n",
    "print('test x:', all_data['test']['x'].shape)\n",
    "print('test target:', all_data['test']['target'].shape)\n",
    "print('test timestamp:', all_data['test']['timestamp'].shape)\n",
    "print()\n",
    "print('train data _mean :', all_data['stats']['_mean'].shape, all_data['stats']['_mean'])\n",
    "print('train data _std :', all_data['stats']['_std'].shape, all_data['stats']['_std'])"
   ]
  },
  {
   "cell_type": "code",
   "execution_count": 45,
   "id": "e6f71140-6b85-49c7-9b66-c35384d09dcb",
   "metadata": {},
   "outputs": [
    {
     "name": "stdout",
     "output_type": "stream",
     "text": [
      "save file: .\\PEMS04_304r4_304d0_304w0_astcgn\n"
     ]
    }
   ],
   "source": [
    "file = os.path.basename(graph_signal_matrix_filename).split('.')[0]\n",
    "dirpath = '.'\n",
    "filename = os.path.join(dirpath, file + '_304r' + str(num_of_quarterly_hours) + '_304d' + str(num_of_days) + '_304w' + str(num_of_weeks)) + '_astcgn'\n",
    "print('save file:', filename)\n",
    "np.savez_compressed(filename,\n",
    "                train_x=all_data['train']['x'],train_target=all_data['train']['target'],train_timestamp=all_data['train']['timestamp'],\n",
    "                val_x=all_data['val']['x'], val_target=all_data['val']['target'],val_timestamp=all_data['val']['timestamp'],\n",
    "                test_x=all_data['test']['x'], test_target=all_data['test']['target'], test_timestamp=all_data['test']['timestamp'],\n",
    "                mean=all_data['stats']['_mean'], std=all_data['stats']['_std'])"
   ]
  },
  {
   "cell_type": "code",
   "execution_count": null,
   "id": "c9e4d6f7-710b-4af5-83f1-1a93df4c1cc4",
   "metadata": {},
   "outputs": [],
   "source": []
  }
 ],
 "metadata": {
  "kernelspec": {
   "display_name": "Python 3 (ipykernel)",
   "language": "python",
   "name": "python3"
  },
  "language_info": {
   "codemirror_mode": {
    "name": "ipython",
    "version": 3
   },
   "file_extension": ".py",
   "mimetype": "text/x-python",
   "name": "python",
   "nbconvert_exporter": "python",
   "pygments_lexer": "ipython3",
   "version": "3.12.4"
  }
 },
 "nbformat": 4,
 "nbformat_minor": 5
}
